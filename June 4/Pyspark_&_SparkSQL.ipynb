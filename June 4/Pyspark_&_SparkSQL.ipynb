{
  "nbformat": 4,
  "nbformat_minor": 0,
  "metadata": {
    "colab": {
      "provenance": []
    },
    "kernelspec": {
      "name": "python3",
      "display_name": "Python 3"
    },
    "language_info": {
      "name": "python"
    }
  },
  "cells": [
    {
      "cell_type": "code",
      "source": [
        "!pip install pyspark\n",
        "from pyspark.sql import SparkSession\n",
        "from pyspark.sql.functions import *\n",
        "from pyspark.sql.types import *\n",
        "import pyspark.sql.functions as F\n",
        "\n",
        "# Initialize Spark\n",
        "spark = SparkSession.builder \\\n",
        "    .appName(\"PracticeProject\") \\\n",
        "    .enableHiveSupport() \\\n",
        "    .getOrCreate()"
      ],
      "metadata": {
        "colab": {
          "base_uri": "https://localhost:8080/"
        },
        "id": "rd9FyJi0W9o7",
        "outputId": "1724514a-e60a-44e0-ec11-09dd8a791f1c"
      },
      "execution_count": 1,
      "outputs": [
        {
          "output_type": "stream",
          "name": "stdout",
          "text": [
            "Requirement already satisfied: pyspark in /usr/local/lib/python3.11/dist-packages (3.5.1)\n",
            "Requirement already satisfied: py4j==0.10.9.7 in /usr/local/lib/python3.11/dist-packages (from pyspark) (0.10.9.7)\n"
          ]
        }
      ]
    },
    {
      "cell_type": "code",
      "source": [
        "# Sample Data\n",
        "customers_data = [\n",
        "    (101, 'Ali', 'ali@gmail.com', 'Mumbai', '2022-05-10'),\n",
        "    (102, 'Neha', 'neha@yahoo.com', 'Delhi', '2023-01-15'),\n",
        "    (103, 'Ravi', 'ravi@hotmail.com', 'Bangalore', '2021-11-01'),\n",
        "    (104, 'Sneha', 'sneha@outlook.com', 'Hyderabad', '2020-07-22'),\n",
        "    (105, 'Amit', 'amit@gmail.com', 'Chennai', '2023-03-10'),\n",
        "]\n",
        "\n",
        "orders_data = [\n",
        "    (1, 101, 'Laptop', 'Electronics', 2, 50000.0, '2024-01-10'),\n",
        "    (2, 101, 'Mouse', 'Electronics', 1, 1200.0, '2024-01-15'),\n",
        "    (3, 102, 'Tablet', 'Electronics', 1, 20000.0, '2024-02-01'),\n",
        "    (4, 103, 'Bookshelf', 'Furniture', 1, 3500.0, '2024-02-10'),\n",
        "    (5, 104, 'Mixer', 'Appliances', 1, 5000.0, '2024-02-15'),\n",
        "    (6, 105, 'Notebook', 'Stationery', 5, 500.0, '2024-03-01'),\n",
        "    (7, 102, 'Phone', 'Electronics', 1, 30000.0, '2024-03-02'),\n",
        "]\n",
        "\n",
        "# Create DataFrames\n",
        "customers_df = spark.createDataFrame(customers_data, [\"CustomerID\", \"Name\", \"Email\", \"City\", \"SignupDate\"])\n",
        "orders_df = spark.createDataFrame(orders_data, [\"OrderID\", \"CustomerID\", \"Product\", \"Category\", \"Quantity\", \"Price\", \"OrderDate\"])\n",
        "\n",
        "# Create database and tables\n",
        "spark.sql(\"CREATE DATABASE IF NOT EXISTS sales\")\n",
        "customers_df.write.mode(\"overwrite\").saveAsTable(\"sales.customers\")\n",
        "orders_df.write.mode(\"overwrite\").saveAsTable(\"sales.orders\")\n",
        "\n",
        "print(\"Data preparation complete!\")\n",
        "customers_df.show()\n",
        "orders_df.show()"
      ],
      "metadata": {
        "colab": {
          "base_uri": "https://localhost:8080/"
        },
        "id": "w6bO2gGzYUfR",
        "outputId": "d357b9e0-c28c-4534-bd29-499ab9d70932"
      },
      "execution_count": 3,
      "outputs": [
        {
          "output_type": "stream",
          "name": "stdout",
          "text": [
            "Data preparation complete!\n",
            "+----------+-----+-----------------+---------+----------+\n",
            "|CustomerID| Name|            Email|     City|SignupDate|\n",
            "+----------+-----+-----------------+---------+----------+\n",
            "|       101|  Ali|    ali@gmail.com|   Mumbai|2022-05-10|\n",
            "|       102| Neha|   neha@yahoo.com|    Delhi|2023-01-15|\n",
            "|       103| Ravi| ravi@hotmail.com|Bangalore|2021-11-01|\n",
            "|       104|Sneha|sneha@outlook.com|Hyderabad|2020-07-22|\n",
            "|       105| Amit|   amit@gmail.com|  Chennai|2023-03-10|\n",
            "+----------+-----+-----------------+---------+----------+\n",
            "\n",
            "+-------+----------+---------+-----------+--------+-------+----------+\n",
            "|OrderID|CustomerID|  Product|   Category|Quantity|  Price| OrderDate|\n",
            "+-------+----------+---------+-----------+--------+-------+----------+\n",
            "|      1|       101|   Laptop|Electronics|       2|50000.0|2024-01-10|\n",
            "|      2|       101|    Mouse|Electronics|       1| 1200.0|2024-01-15|\n",
            "|      3|       102|   Tablet|Electronics|       1|20000.0|2024-02-01|\n",
            "|      4|       103|Bookshelf|  Furniture|       1| 3500.0|2024-02-10|\n",
            "|      5|       104|    Mixer| Appliances|       1| 5000.0|2024-02-15|\n",
            "|      6|       105| Notebook| Stationery|       5|  500.0|2024-03-01|\n",
            "|      7|       102|    Phone|Electronics|       1|30000.0|2024-03-02|\n",
            "+-------+----------+---------+-----------+--------+-------+----------+\n",
            "\n"
          ]
        }
      ]
    },
    {
      "cell_type": "code",
      "source": [
        "orders_df = orders_df.withColumn(\"TotalAmount\", col(\"Price\") * col(\"Quantity\"))\n",
        "print(\"Task 1 - Added TotalAmount column:\")\n",
        "orders_df.show()"
      ],
      "metadata": {
        "colab": {
          "base_uri": "https://localhost:8080/"
        },
        "id": "HYwCvxz5YUhn",
        "outputId": "06b8348d-285b-4491-a705-41b2d18adc40"
      },
      "execution_count": 4,
      "outputs": [
        {
          "output_type": "stream",
          "name": "stdout",
          "text": [
            "Task 1 - Added TotalAmount column:\n",
            "+-------+----------+---------+-----------+--------+-------+----------+-----------+\n",
            "|OrderID|CustomerID|  Product|   Category|Quantity|  Price| OrderDate|TotalAmount|\n",
            "+-------+----------+---------+-----------+--------+-------+----------+-----------+\n",
            "|      1|       101|   Laptop|Electronics|       2|50000.0|2024-01-10|   100000.0|\n",
            "|      2|       101|    Mouse|Electronics|       1| 1200.0|2024-01-15|     1200.0|\n",
            "|      3|       102|   Tablet|Electronics|       1|20000.0|2024-02-01|    20000.0|\n",
            "|      4|       103|Bookshelf|  Furniture|       1| 3500.0|2024-02-10|     3500.0|\n",
            "|      5|       104|    Mixer| Appliances|       1| 5000.0|2024-02-15|     5000.0|\n",
            "|      6|       105| Notebook| Stationery|       5|  500.0|2024-03-01|     2500.0|\n",
            "|      7|       102|    Phone|Electronics|       1|30000.0|2024-03-02|    30000.0|\n",
            "+-------+----------+---------+-----------+--------+-------+----------+-----------+\n",
            "\n"
          ]
        }
      ]
    },
    {
      "cell_type": "code",
      "source": [
        "high_value_orders = orders_df.filter(col(\"TotalAmount\") > 10000)\n",
        "print(\"\\nTask 2 - Orders with TotalAmount > 10000:\")\n",
        "high_value_orders.show()"
      ],
      "metadata": {
        "colab": {
          "base_uri": "https://localhost:8080/"
        },
        "id": "mcrovIRTYUkI",
        "outputId": "af96e779-f5a6-4225-85a9-04af91e94a9e"
      },
      "execution_count": 5,
      "outputs": [
        {
          "output_type": "stream",
          "name": "stdout",
          "text": [
            "\n",
            "Task 2 - Orders with TotalAmount > 10000:\n",
            "+-------+----------+-------+-----------+--------+-------+----------+-----------+\n",
            "|OrderID|CustomerID|Product|   Category|Quantity|  Price| OrderDate|TotalAmount|\n",
            "+-------+----------+-------+-----------+--------+-------+----------+-----------+\n",
            "|      1|       101| Laptop|Electronics|       2|50000.0|2024-01-10|   100000.0|\n",
            "|      3|       102| Tablet|Electronics|       1|20000.0|2024-02-01|    20000.0|\n",
            "|      7|       102|  Phone|Electronics|       1|30000.0|2024-03-02|    30000.0|\n",
            "+-------+----------+-------+-----------+--------+-------+----------+-----------+\n",
            "\n"
          ]
        }
      ]
    },
    {
      "cell_type": "code",
      "source": [
        "customers_df = customers_df.withColumn(\"City\", lower(col(\"City\")))\n",
        "print(\"\\nTask 3 - Standardized City names:\")\n",
        "customers_df.show()"
      ],
      "metadata": {
        "colab": {
          "base_uri": "https://localhost:8080/"
        },
        "id": "7m3wWB7tYUmk",
        "outputId": "f44ddd4e-b64e-4db6-f7fa-c6d66831cca7"
      },
      "execution_count": 6,
      "outputs": [
        {
          "output_type": "stream",
          "name": "stdout",
          "text": [
            "\n",
            "Task 3 - Standardized City names:\n",
            "+----------+-----+-----------------+---------+----------+\n",
            "|CustomerID| Name|            Email|     City|SignupDate|\n",
            "+----------+-----+-----------------+---------+----------+\n",
            "|       101|  Ali|    ali@gmail.com|   mumbai|2022-05-10|\n",
            "|       102| Neha|   neha@yahoo.com|    delhi|2023-01-15|\n",
            "|       103| Ravi| ravi@hotmail.com|bangalore|2021-11-01|\n",
            "|       104|Sneha|sneha@outlook.com|hyderabad|2020-07-22|\n",
            "|       105| Amit|   amit@gmail.com|  chennai|2023-03-10|\n",
            "+----------+-----+-----------------+---------+----------+\n",
            "\n"
          ]
        }
      ]
    },
    {
      "cell_type": "code",
      "source": [
        "orders_df = orders_df.withColumn(\"OrderYear\", year(col(\"OrderDate\")))\n",
        "print(\"\\nTask 4 - Added OrderYear column:\")\n",
        "orders_df.show()"
      ],
      "metadata": {
        "colab": {
          "base_uri": "https://localhost:8080/"
        },
        "id": "jg3rJ-NRYUpI",
        "outputId": "d0cc554c-a696-4c1a-bb55-a765fa1cefc0"
      },
      "execution_count": 7,
      "outputs": [
        {
          "output_type": "stream",
          "name": "stdout",
          "text": [
            "\n",
            "Task 4 - Added OrderYear column:\n",
            "+-------+----------+---------+-----------+--------+-------+----------+-----------+---------+\n",
            "|OrderID|CustomerID|  Product|   Category|Quantity|  Price| OrderDate|TotalAmount|OrderYear|\n",
            "+-------+----------+---------+-----------+--------+-------+----------+-----------+---------+\n",
            "|      1|       101|   Laptop|Electronics|       2|50000.0|2024-01-10|   100000.0|     2024|\n",
            "|      2|       101|    Mouse|Electronics|       1| 1200.0|2024-01-15|     1200.0|     2024|\n",
            "|      3|       102|   Tablet|Electronics|       1|20000.0|2024-02-01|    20000.0|     2024|\n",
            "|      4|       103|Bookshelf|  Furniture|       1| 3500.0|2024-02-10|     3500.0|     2024|\n",
            "|      5|       104|    Mixer| Appliances|       1| 5000.0|2024-02-15|     5000.0|     2024|\n",
            "|      6|       105| Notebook| Stationery|       5|  500.0|2024-03-01|     2500.0|     2024|\n",
            "|      7|       102|    Phone|Electronics|       1|30000.0|2024-03-02|    30000.0|     2024|\n",
            "+-------+----------+---------+-----------+--------+-------+----------+-----------+---------+\n",
            "\n"
          ]
        }
      ]
    },
    {
      "source": [
        "# Task 5 - Proper solution that works with the current orders_df structure\n",
        "from pyspark.sql import Row\n",
        "\n",
        "# Create a new row with ALL current columns (including the added ones)\n",
        "# Note: Quantity is None to be filled later\n",
        "new_row_data = [\n",
        "    (8, 105, \"Pen\", \"Stationery\", None, 10.0, \"2024-03-05\", None, None)  # None for Quantity, TotalAmount and OrderYear\n",
        "]\n",
        "\n",
        "# Create with explicit schema matching current orders_df\n",
        "new_row = spark.createDataFrame(new_row_data, orders_df.schema)\n",
        "\n",
        "# Union the dataframes\n",
        "orders_with_null = orders_df.union(new_row)\n",
        "\n",
        "# First, fill the 'Quantity' null value with 1\n",
        "orders_filled_quantity = orders_with_null.fillna({\"Quantity\": 1})\n",
        "\n",
        "# Then, recalculate 'TotalAmount' and 'OrderYear' for all rows.\n",
        "# This will correctly calculate values for the row where Quantity was filled.\n",
        "filled_orders = orders_filled_quantity.withColumn(\"TotalAmount\", col(\"Price\") * col(\"Quantity\")) \\\n",
        "                                      .withColumn(\"OrderYear\", year(col(\"OrderDate\")))\n",
        "\n",
        "\n",
        "print(\"\\nTask 5 - After adding null row and filling values:\")\n",
        "filled_orders.show()"
      ],
      "cell_type": "code",
      "metadata": {
        "colab": {
          "base_uri": "https://localhost:8080/"
        },
        "id": "6Umgxz_1bFap",
        "outputId": "f2669d4d-d025-46d8-806c-3b6eb5695933"
      },
      "execution_count": 13,
      "outputs": [
        {
          "output_type": "stream",
          "name": "stdout",
          "text": [
            "\n",
            "Task 5 - After adding null row and filling values:\n",
            "+-------+----------+---------+-----------+--------+-------+----------+-----------+---------+\n",
            "|OrderID|CustomerID|  Product|   Category|Quantity|  Price| OrderDate|TotalAmount|OrderYear|\n",
            "+-------+----------+---------+-----------+--------+-------+----------+-----------+---------+\n",
            "|      1|       101|   Laptop|Electronics|       2|50000.0|2024-01-10|   100000.0|     2024|\n",
            "|      2|       101|    Mouse|Electronics|       1| 1200.0|2024-01-15|     1200.0|     2024|\n",
            "|      3|       102|   Tablet|Electronics|       1|20000.0|2024-02-01|    20000.0|     2024|\n",
            "|      4|       103|Bookshelf|  Furniture|       1| 3500.0|2024-02-10|     3500.0|     2024|\n",
            "|      5|       104|    Mixer| Appliances|       1| 5000.0|2024-02-15|     5000.0|     2024|\n",
            "|      6|       105| Notebook| Stationery|       5|  500.0|2024-03-01|     2500.0|     2024|\n",
            "|      7|       102|    Phone|Electronics|       1|30000.0|2024-03-02|    30000.0|     2024|\n",
            "|      8|       105|      Pen| Stationery|       1|   10.0|2024-03-05|       10.0|     2024|\n",
            "+-------+----------+---------+-----------+--------+-------+----------+-----------+---------+\n",
            "\n"
          ]
        }
      ]
    },
    {
      "cell_type": "code",
      "source": [
        "orders_df = orders_df.withColumn(\"OrderCategory\",\n",
        "    when(col(\"TotalAmount\") < 5000, \"Low\")\n",
        "    .when((col(\"TotalAmount\") >= 5000) & (col(\"TotalAmount\") <= 20000), \"Medium\")\n",
        "    .otherwise(\"High\"))\n",
        "print(\"\\nTask 6 - Categorized orders:\")\n",
        "orders_df.show()"
      ],
      "metadata": {
        "colab": {
          "base_uri": "https://localhost:8080/"
        },
        "id": "JRgkS5XsYUt9",
        "outputId": "590c0086-6177-46aa-aa3a-c009c4a16da2"
      },
      "execution_count": 14,
      "outputs": [
        {
          "output_type": "stream",
          "name": "stdout",
          "text": [
            "\n",
            "Task 6 - Categorized orders:\n",
            "+-------+----------+---------+-----------+--------+-------+----------+-----------+---------+-------------+\n",
            "|OrderID|CustomerID|  Product|   Category|Quantity|  Price| OrderDate|TotalAmount|OrderYear|OrderCategory|\n",
            "+-------+----------+---------+-----------+--------+-------+----------+-----------+---------+-------------+\n",
            "|      1|       101|   Laptop|Electronics|       2|50000.0|2024-01-10|   100000.0|     2024|         High|\n",
            "|      2|       101|    Mouse|Electronics|       1| 1200.0|2024-01-15|     1200.0|     2024|          Low|\n",
            "|      3|       102|   Tablet|Electronics|       1|20000.0|2024-02-01|    20000.0|     2024|       Medium|\n",
            "|      4|       103|Bookshelf|  Furniture|       1| 3500.0|2024-02-10|     3500.0|     2024|          Low|\n",
            "|      5|       104|    Mixer| Appliances|       1| 5000.0|2024-02-15|     5000.0|     2024|       Medium|\n",
            "|      6|       105| Notebook| Stationery|       5|  500.0|2024-03-01|     2500.0|     2024|          Low|\n",
            "|      7|       102|    Phone|Electronics|       1|30000.0|2024-03-02|    30000.0|     2024|         High|\n",
            "+-------+----------+---------+-----------+--------+-------+----------+-----------+---------+-------------+\n",
            "\n"
          ]
        }
      ]
    },
    {
      "cell_type": "code",
      "source": [
        "spark.sql(\"USE sales\")\n",
        "ali_orders = spark.sql(\"\"\"\n",
        "    SELECT o.*\n",
        "    FROM orders o\n",
        "    JOIN customers c ON o.CustomerID = c.CustomerID\n",
        "    WHERE c.Name = 'Ali'\n",
        "\"\"\")\n",
        "print(\"\\nTask 7 - Orders made by Ali:\")\n",
        "ali_orders.show()"
      ],
      "metadata": {
        "colab": {
          "base_uri": "https://localhost:8080/"
        },
        "id": "bdwAIMjkYUwV",
        "outputId": "325413db-45c1-43a6-ca5c-95f81991d8a2"
      },
      "execution_count": 15,
      "outputs": [
        {
          "output_type": "stream",
          "name": "stdout",
          "text": [
            "\n",
            "Task 7 - Orders made by Ali:\n",
            "+-------+----------+-------+-----------+--------+-------+----------+\n",
            "|OrderID|CustomerID|Product|   Category|Quantity|  Price| OrderDate|\n",
            "+-------+----------+-------+-----------+--------+-------+----------+\n",
            "|      1|       101| Laptop|Electronics|       2|50000.0|2024-01-10|\n",
            "|      2|       101|  Mouse|Electronics|       1| 1200.0|2024-01-15|\n",
            "+-------+----------+-------+-----------+--------+-------+----------+\n",
            "\n"
          ]
        }
      ]
    },
    {
      "cell_type": "code",
      "source": [
        "customer_spending = spark.sql(\"\"\"\n",
        "    SELECT c.CustomerID, c.Name, SUM(o.Price * o.Quantity) as TotalSpending\n",
        "    FROM customers c\n",
        "    JOIN orders o ON c.CustomerID = o.CustomerID\n",
        "    GROUP BY c.CustomerID, c.Name\n",
        "    ORDER BY TotalSpending DESC\n",
        "\"\"\")\n",
        "print(\"\\nTask 8 - Total spending by each customer:\")\n",
        "customer_spending.show()"
      ],
      "metadata": {
        "colab": {
          "base_uri": "https://localhost:8080/"
        },
        "id": "tNLP7dNyYUz4",
        "outputId": "622a4446-36e5-45ff-db18-3b8cda614408"
      },
      "execution_count": 16,
      "outputs": [
        {
          "output_type": "stream",
          "name": "stdout",
          "text": [
            "\n",
            "Task 8 - Total spending by each customer:\n",
            "+----------+-----+-------------+\n",
            "|CustomerID| Name|TotalSpending|\n",
            "+----------+-----+-------------+\n",
            "|       101|  Ali|     101200.0|\n",
            "|       102| Neha|      50000.0|\n",
            "|       104|Sneha|       5000.0|\n",
            "|       103| Ravi|       3500.0|\n",
            "|       105| Amit|       2500.0|\n",
            "+----------+-----+-------------+\n",
            "\n"
          ]
        }
      ]
    },
    {
      "cell_type": "code",
      "source": [
        "top_category = spark.sql(\"\"\"\n",
        "    SELECT Category, SUM(Price * Quantity) as TotalRevenue\n",
        "    FROM orders\n",
        "    GROUP BY Category\n",
        "    ORDER BY TotalRevenue DESC\n",
        "    LIMIT 1\n",
        "\"\"\")\n",
        "print(\"\\nTask 9 - Category with highest total revenue:\")\n",
        "top_category.show()"
      ],
      "metadata": {
        "colab": {
          "base_uri": "https://localhost:8080/"
        },
        "id": "ZJMJyRkVW9rR",
        "outputId": "e2a7ca6c-e476-46f2-cb62-eb8e588fdbec"
      },
      "execution_count": 17,
      "outputs": [
        {
          "output_type": "stream",
          "name": "stdout",
          "text": [
            "\n",
            "Task 9 - Category with highest total revenue:\n",
            "+-----------+------------+\n",
            "|   Category|TotalRevenue|\n",
            "+-----------+------------+\n",
            "|Electronics|    151200.0|\n",
            "+-----------+------------+\n",
            "\n"
          ]
        }
      ]
    },
    {
      "cell_type": "code",
      "source": [
        "spark.sql(\"\"\"\n",
        "    CREATE OR REPLACE VIEW customer_orders AS\n",
        "    SELECT c.Name as CustomerName, o.Product, (o.Price * o.Quantity) as TotalAmount\n",
        "    FROM customers c\n",
        "    JOIN orders o ON c.CustomerID = o.CustomerID\n",
        "\"\"\")\n",
        "print(\"\\nTask 10 - Created customer_orders view. Sample data:\")\n",
        "spark.sql(\"SELECT * FROM customer_orders LIMIT 5\").show()"
      ],
      "metadata": {
        "colab": {
          "base_uri": "https://localhost:8080/"
        },
        "id": "GbodenaYZE8n",
        "outputId": "01254229-ec56-45b4-a6b1-e295e6c76510"
      },
      "execution_count": 18,
      "outputs": [
        {
          "output_type": "stream",
          "name": "stdout",
          "text": [
            "\n",
            "Task 10 - Created customer_orders view. Sample data:\n",
            "+------------+---------+-----------+\n",
            "|CustomerName|  Product|TotalAmount|\n",
            "+------------+---------+-----------+\n",
            "|         Ali|   Laptop|   100000.0|\n",
            "|         Ali|    Mouse|     1200.0|\n",
            "|        Neha|   Tablet|    20000.0|\n",
            "|        Ravi|Bookshelf|     3500.0|\n",
            "|       Sneha|    Mixer|     5000.0|\n",
            "+------------+---------+-----------+\n",
            "\n"
          ]
        }
      ]
    },
    {
      "cell_type": "code",
      "source": [
        "post_feb_orders = spark.sql(\"\"\"\n",
        "    SELECT co.*, o.OrderDate\n",
        "    FROM customer_orders co\n",
        "    JOIN sales.orders o ON co.Product = o.Product\n",
        "    WHERE o.OrderDate >= '2024-03-01'\n",
        "\"\"\")\n",
        "print(\"\\nTask 11 - Products ordered after Feb 2024:\")\n",
        "post_feb_orders.show()"
      ],
      "metadata": {
        "colab": {
          "base_uri": "https://localhost:8080/"
        },
        "id": "LWZJggiJZE-u",
        "outputId": "1e424eaa-7ac2-4156-a69c-80df6613611f"
      },
      "execution_count": 19,
      "outputs": [
        {
          "output_type": "stream",
          "name": "stdout",
          "text": [
            "\n",
            "Task 11 - Products ordered after Feb 2024:\n",
            "+------------+--------+-----------+----------+\n",
            "|CustomerName| Product|TotalAmount| OrderDate|\n",
            "+------------+--------+-----------+----------+\n",
            "|        Amit|Notebook|     2500.0|2024-03-01|\n",
            "|        Neha|   Phone|    30000.0|2024-03-02|\n",
            "+------------+--------+-----------+----------+\n",
            "\n"
          ]
        }
      ]
    },
    {
      "cell_type": "code",
      "source": [
        "customers_df.createGlobalTempView(\"customers\")\n",
        "print(\"\\nTask 12 - Customers from Mumbai (Global Temp View):\")\n",
        "spark.sql(\"SELECT * FROM global_temp.customers WHERE City = 'mumbai'\").show()"
      ],
      "metadata": {
        "colab": {
          "base_uri": "https://localhost:8080/"
        },
        "id": "EChd_TD5ZFEJ",
        "outputId": "d03f3330-0a83-478a-c0e2-7848f9b69391"
      },
      "execution_count": 20,
      "outputs": [
        {
          "output_type": "stream",
          "name": "stdout",
          "text": [
            "\n",
            "Task 12 - Customers from Mumbai (Global Temp View):\n",
            "+----------+----+-------------+------+----------+\n",
            "|CustomerID|Name|        Email|  City|SignupDate|\n",
            "+----------+----+-------------+------+----------+\n",
            "|       101| Ali|ali@gmail.com|mumbai|2022-05-10|\n",
            "+----------+----+-------------+------+----------+\n",
            "\n"
          ]
        }
      ]
    },
    {
      "cell_type": "code",
      "source": [
        "orders_df.write.mode(\"overwrite\").parquet(\"orders_with_total.parquet\")\n",
        "print(\"\\nTask 13 - Saved orders with TotalAmount to Parquet file\")"
      ],
      "metadata": {
        "colab": {
          "base_uri": "https://localhost:8080/"
        },
        "id": "jVGSZa6pZFHt",
        "outputId": "b02c468f-ad2f-443c-af16-959c0bbeb76a"
      },
      "execution_count": 21,
      "outputs": [
        {
          "output_type": "stream",
          "name": "stdout",
          "text": [
            "\n",
            "Task 13 - Saved orders with TotalAmount to Parquet file\n"
          ]
        }
      ]
    },
    {
      "cell_type": "code",
      "source": [
        "parquet_orders = spark.read.parquet(\"orders_with_total.parquet\")\n",
        "order_count = parquet_orders.count()\n",
        "print(f\"\\nTask 14 - Number of orders in Parquet file: {order_count}\")"
      ],
      "metadata": {
        "colab": {
          "base_uri": "https://localhost:8080/"
        },
        "id": "yRKJyAmtZOH-",
        "outputId": "ed9ab4b5-63be-497c-cbf5-32bc05ab4a08"
      },
      "execution_count": 22,
      "outputs": [
        {
          "output_type": "stream",
          "name": "stdout",
          "text": [
            "\n",
            "Task 14 - Number of orders in Parquet file: 7\n"
          ]
        }
      ]
    },
    {
      "cell_type": "code",
      "source": [
        "def mask_email(email):\n",
        "    if not email or '@' not in email:\n",
        "        return email\n",
        "    name, domain = email.split('@', 1)\n",
        "    return f\"{name[0]}***@{domain}\"\n",
        "\n",
        "mask_email_udf = udf(mask_email, StringType())\n",
        "customers_df = customers_df.withColumn(\"MaskedEmail\", mask_email_udf(col(\"Email\")))\n",
        "print(\"\\nTask 15 - Masked emails:\")\n",
        "customers_df.select(\"Email\", \"MaskedEmail\").show()"
      ],
      "metadata": {
        "colab": {
          "base_uri": "https://localhost:8080/"
        },
        "id": "LDij0mW3ZOKk",
        "outputId": "80658781-34f7-45cb-d4c9-8f5d52431df4"
      },
      "execution_count": 23,
      "outputs": [
        {
          "output_type": "stream",
          "name": "stdout",
          "text": [
            "\n",
            "Task 15 - Masked emails:\n",
            "+-----------------+----------------+\n",
            "|            Email|     MaskedEmail|\n",
            "+-----------------+----------------+\n",
            "|    ali@gmail.com|  a***@gmail.com|\n",
            "|   neha@yahoo.com|  n***@yahoo.com|\n",
            "| ravi@hotmail.com|r***@hotmail.com|\n",
            "|sneha@outlook.com|s***@outlook.com|\n",
            "|   amit@gmail.com|  a***@gmail.com|\n",
            "+-----------------+----------------+\n",
            "\n"
          ]
        }
      ]
    },
    {
      "cell_type": "code",
      "source": [
        "customers_df = customers_df.withColumn(\"FullLabel\",\n",
        "    concat_ws(\" from \", col(\"Name\"), col(\"City\")))\n",
        "print(\"\\nTask 16 - Full labels:\")\n",
        "customers_df.select(\"FullLabel\").show()"
      ],
      "metadata": {
        "colab": {
          "base_uri": "https://localhost:8080/"
        },
        "id": "rBK_dS-CZONB",
        "outputId": "ae7be19d-8d62-45d6-8422-172a588211dd"
      },
      "execution_count": 24,
      "outputs": [
        {
          "output_type": "stream",
          "name": "stdout",
          "text": [
            "\n",
            "Task 16 - Full labels:\n",
            "+--------------------+\n",
            "|           FullLabel|\n",
            "+--------------------+\n",
            "|     Ali from mumbai|\n",
            "|     Neha from delhi|\n",
            "| Ravi from bangalore|\n",
            "|Sneha from hyderabad|\n",
            "|   Amit from chennai|\n",
            "+--------------------+\n",
            "\n"
          ]
        }
      ]
    },
    {
      "cell_type": "code",
      "source": [
        "orders_df = orders_df.withColumn(\"CleanProduct\",\n",
        "    regexp_replace(col(\"Product\"), \"[^a-zA-Z0-9]\", \"\"))\n",
        "print(\"\\nTask 17 - Products with special characters removed:\")\n",
        "orders_df.select(\"Product\", \"CleanProduct\").show()"
      ],
      "metadata": {
        "colab": {
          "base_uri": "https://localhost:8080/"
        },
        "id": "XWGg6uP8ZUG9",
        "outputId": "f765d35d-08cd-4f65-dec9-3d72759d041c"
      },
      "execution_count": 25,
      "outputs": [
        {
          "output_type": "stream",
          "name": "stdout",
          "text": [
            "\n",
            "Task 17 - Products with special characters removed:\n",
            "+---------+------------+\n",
            "|  Product|CleanProduct|\n",
            "+---------+------------+\n",
            "|   Laptop|      Laptop|\n",
            "|    Mouse|       Mouse|\n",
            "|   Tablet|      Tablet|\n",
            "|Bookshelf|   Bookshelf|\n",
            "|    Mixer|       Mixer|\n",
            "| Notebook|    Notebook|\n",
            "|    Phone|       Phone|\n",
            "+---------+------------+\n",
            "\n"
          ]
        }
      ]
    },
    {
      "cell_type": "code",
      "source": [
        "customers_df = customers_df.withColumn(\"SignupDate\", to_date(col(\"SignupDate\"))) \\\n",
        "    .withColumn(\"DaysSinceSignup\",\n",
        "        datediff(current_date(), col(\"SignupDate\")))\n",
        "print(\"\\nTask 18 - Customer age in days:\")\n",
        "customers_df.select(\"Name\", \"SignupDate\", \"DaysSinceSignup\").show()"
      ],
      "metadata": {
        "colab": {
          "base_uri": "https://localhost:8080/"
        },
        "id": "grXrMbZNZUJi",
        "outputId": "06d353df-f998-4c0e-d501-2f8d4eac3aa5"
      },
      "execution_count": 26,
      "outputs": [
        {
          "output_type": "stream",
          "name": "stdout",
          "text": [
            "\n",
            "Task 18 - Customer age in days:\n",
            "+-----+----------+---------------+\n",
            "| Name|SignupDate|DaysSinceSignup|\n",
            "+-----+----------+---------------+\n",
            "|  Ali|2022-05-10|           1121|\n",
            "| Neha|2023-01-15|            871|\n",
            "| Ravi|2021-11-01|           1311|\n",
            "|Sneha|2020-07-22|           1778|\n",
            "| Amit|2023-03-10|            817|\n",
            "+-----+----------+---------------+\n",
            "\n"
          ]
        }
      ]
    }
  ]
}