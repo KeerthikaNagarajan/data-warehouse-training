{
  "nbformat": 4,
  "nbformat_minor": 0,
  "metadata": {
    "colab": {
      "provenance": []
    },
    "kernelspec": {
      "name": "python3",
      "display_name": "Python 3"
    },
    "language_info": {
      "name": "python"
    }
  },
  "cells": [
    {
      "cell_type": "code",
      "source": [
        "from pyspark.sql import SparkSession\n",
        "import pandas as pd\n",
        "from io import StringIO\n",
        "\n",
        "spark=SparkSession.builder.appName(\"Colab PySpark Setup\").getOrCreate()\n",
        "\n",
        "spark"
      ],
      "metadata": {
        "colab": {
          "base_uri": "https://localhost:8080/",
          "height": 219
        },
        "id": "HS_PsKpbnTZc",
        "outputId": "2383e52d-a4c4-45cb-902e-ebcdb1f246e1"
      },
      "execution_count": 7,
      "outputs": [
        {
          "output_type": "execute_result",
          "data": {
            "text/plain": [
              "<pyspark.sql.session.SparkSession at 0x788751e325d0>"
            ],
            "text/html": [
              "\n",
              "            <div>\n",
              "                <p><b>SparkSession - in-memory</b></p>\n",
              "                \n",
              "        <div>\n",
              "            <p><b>SparkContext</b></p>\n",
              "\n",
              "            <p><a href=\"http://f16f03705b87:4040\">Spark UI</a></p>\n",
              "\n",
              "            <dl>\n",
              "              <dt>Version</dt>\n",
              "                <dd><code>v3.5.1</code></dd>\n",
              "              <dt>Master</dt>\n",
              "                <dd><code>local[*]</code></dd>\n",
              "              <dt>AppName</dt>\n",
              "                <dd><code>Sales Analysis</code></dd>\n",
              "            </dl>\n",
              "        </div>\n",
              "        \n",
              "            </div>\n",
              "        "
            ]
          },
          "metadata": {},
          "execution_count": 7
        }
      ]
    },
    {
      "cell_type": "code",
      "source": [
        "#1. Create a new database named sales_db.\n",
        "spark.sql(\"\"\"create database if not exists sales_db\"\"\")\n",
        "#2. Set the current database to sales_db.\n",
        "spark.sql(\"\"\"use sales_db\"\"\")\n",
        "#3. Create a table product_sales with columns:\n",
        "#\"\"\"ProductID (INT)\n",
        "# ProductName (STRING)\n",
        "# Category (STRING)\n",
        "# Price (DOUBLE)\n",
        "# Quantity (INT)\n",
        "# SaleDate (DATE)\n",
        "#\"\"\"\n",
        "spark.sql(\"\"\"create table if not exists product_sales(productid int,\n",
        "productname string, category string,\n",
        "price double, quantity int, saledate date) using parquet\"\"\")\n",
        "#4. Insert at least 5 rows into product_sales.\n",
        "spark.sql(\"\"\"insert into product_sales values\n",
        "  (201, 'Smartphone', 'Electronics', 45000.00, 3, date '2024-06-01'),\n",
        "  (202, 'Office Chair', 'Furniture', 3000.00, 2, date '2024-06-02'),\n",
        "  (203, 'Notebook', 'Stationery', 50.00, 10, date '2024-06-03'),\n",
        "  (204, 'Headphones', 'Electronics', 1500.00, 4, date '2024-06-04'),\n",
        "  (205, 'Water Bottle', 'Accessories', 250.00, 6, date '2024-06-05');\n",
        "\"\"\")\n"
      ],
      "metadata": {
        "colab": {
          "base_uri": "https://localhost:8080/"
        },
        "id": "Run1-ShenbZH",
        "outputId": "cee5c50d-b74f-4c5c-9741-526fb9be831d"
      },
      "execution_count": 11,
      "outputs": [
        {
          "output_type": "execute_result",
          "data": {
            "text/plain": [
              "DataFrame[]"
            ]
          },
          "metadata": {},
          "execution_count": 11
        }
      ]
    },
    {
      "cell_type": "code",
      "source": [
        "#5. Select all records from product_sales.\n",
        "spark.sql(\"\"\"select * from product_sales\"\"\").show()\n",
        "#6. Retrieve products where price is above 500.\n",
        "spark.sql(\"\"\"select * from product_sales where Price > 500\"\"\").show()\n",
        "#7. Calculate total sale amount (Price * Quantity) for each product.\n",
        "spark.sql(\"\"\"select ProductName, Price * Quantity as TotalSaleAmount from product_sales\"\"\").show()\n",
        "#8. Find the number of products sold in each Category.\n",
        "spark.sql(\"\"\"select Category, count(ProductID) as NumberOfProductsSold from product_sales group by Category\"\"\").show()\n",
        "#9. Sort products by total sales in descending order.\n",
        "spark.sql(\"\"\"select ProductName, Price * Quantity as TotalSaleAmount from product_sales order by TotalSaleAmount desc\"\"\").show()\n"
      ],
      "metadata": {
        "colab": {
          "base_uri": "https://localhost:8080/"
        },
        "id": "XFMRG6BQnzDP",
        "outputId": "ce891ac5-77d9-49a0-d4f7-a982391547b0"
      },
      "execution_count": 12,
      "outputs": [
        {
          "output_type": "stream",
          "name": "stdout",
          "text": [
            "+---------+------------+-----------+-------+--------+----------+\n",
            "|productid| productname|   category|  price|quantity|  saledate|\n",
            "+---------+------------+-----------+-------+--------+----------+\n",
            "|      203|    Notebook| Stationery|   50.0|      10|2024-06-03|\n",
            "|      204|  Headphones|Electronics| 1500.0|       4|2024-06-04|\n",
            "|      205|Water Bottle|Accessories|  250.0|       6|2024-06-05|\n",
            "|      201|  Smartphone|Electronics|45000.0|       3|2024-06-01|\n",
            "|      202|Office Chair|  Furniture| 3000.0|       2|2024-06-02|\n",
            "+---------+------------+-----------+-------+--------+----------+\n",
            "\n",
            "+---------+------------+-----------+-------+--------+----------+\n",
            "|productid| productname|   category|  price|quantity|  saledate|\n",
            "+---------+------------+-----------+-------+--------+----------+\n",
            "|      204|  Headphones|Electronics| 1500.0|       4|2024-06-04|\n",
            "|      201|  Smartphone|Electronics|45000.0|       3|2024-06-01|\n",
            "|      202|Office Chair|  Furniture| 3000.0|       2|2024-06-02|\n",
            "+---------+------------+-----------+-------+--------+----------+\n",
            "\n",
            "+------------+---------------+\n",
            "| ProductName|TotalSaleAmount|\n",
            "+------------+---------------+\n",
            "|    Notebook|          500.0|\n",
            "|  Headphones|         6000.0|\n",
            "|Water Bottle|         1500.0|\n",
            "|  Smartphone|       135000.0|\n",
            "|Office Chair|         6000.0|\n",
            "+------------+---------------+\n",
            "\n",
            "+-----------+--------------------+\n",
            "|   Category|NumberOfProductsSold|\n",
            "+-----------+--------------------+\n",
            "| Stationery|                   1|\n",
            "|Electronics|                   2|\n",
            "|Accessories|                   1|\n",
            "|  Furniture|                   1|\n",
            "+-----------+--------------------+\n",
            "\n",
            "+------------+---------------+\n",
            "| ProductName|TotalSaleAmount|\n",
            "+------------+---------------+\n",
            "|  Smartphone|       135000.0|\n",
            "|  Headphones|         6000.0|\n",
            "|Office Chair|         6000.0|\n",
            "|Water Bottle|         1500.0|\n",
            "|    Notebook|          500.0|\n",
            "+------------+---------------+\n",
            "\n"
          ]
        }
      ]
    },
    {
      "cell_type": "code",
      "source": [
        "\n",
        "#10. Create a PySpark DataFrame with dummy product data.\n",
        "from pyspark.sql import Row\n",
        "data = [\n",
        "    Row(206, 'Laptop', 'Electronics', 75000.0, 2, '2024-06-06'),\n",
        "    Row(207, 'Bookshelf', 'Furniture', 5200.0, 1, '2024-06-07'),\n",
        "    Row(208, 'Pen Set', 'Stationery', 120.0, 15, '2024-06-08'),\n",
        "    Row(209, 'Bluetooth Speaker', 'Electronics', 3200.0, 3, '2024-06-09'),\n",
        "    Row(210, 'Coffee Mug', 'Accessories', 350.0, 5, '2024-06-10'),\n",
        "]\n",
        "# Create DataFrame\n",
        "df = spark.createDataFrame(data, [\"ProductID\", \"ProductName\", \"Category\", \"Price\", \"Quantity\", \"SaleDate\"])\n",
        "\n",
        "#11. Register it as a temporary view called temp_orders.\n",
        "# Register temporary view\n",
        "df.createOrReplaceTempView(\"temp_orders\")\n",
        "\n",
        "#12. Run a SQL query to filter temp_orders where quantity > 1.\n",
        "spark.sql(\"select * from product_sales where quantity>1\").show()"
      ],
      "metadata": {
        "colab": {
          "base_uri": "https://localhost:8080/"
        },
        "id": "7gU6RrsZn2eZ",
        "outputId": "3ad2e0f0-99a9-4c38-ed30-8755de3476aa"
      },
      "execution_count": 13,
      "outputs": [
        {
          "output_type": "stream",
          "name": "stdout",
          "text": [
            "+---------+------------+-----------+-------+--------+----------+\n",
            "|productid| productname|   category|  price|quantity|  saledate|\n",
            "+---------+------------+-----------+-------+--------+----------+\n",
            "|      203|    Notebook| Stationery|   50.0|      10|2024-06-03|\n",
            "|      204|  Headphones|Electronics| 1500.0|       4|2024-06-04|\n",
            "|      205|Water Bottle|Accessories|  250.0|       6|2024-06-05|\n",
            "|      201|  Smartphone|Electronics|45000.0|       3|2024-06-01|\n",
            "|      202|Office Chair|  Furniture| 3000.0|       2|2024-06-02|\n",
            "+---------+------------+-----------+-------+--------+----------+\n",
            "\n"
          ]
        }
      ]
    },
    {
      "cell_type": "code",
      "source": [
        "\n",
        "#13. Create a global temp view from a PySpark DataFrame named global_orders.\n",
        "df.createOrReplaceGlobalTempView(\"global_orders\")\n",
        "#14. Run a SQL query on the global view from another notebook cell/session.\n",
        "spark.sql(\"select * from global_temp.global_orders\").show()"
      ],
      "metadata": {
        "colab": {
          "base_uri": "https://localhost:8080/"
        },
        "id": "y2Wo-8ywn5rz",
        "outputId": "b016d860-5eb9-4b5d-9d3b-884302db0614"
      },
      "execution_count": 14,
      "outputs": [
        {
          "output_type": "stream",
          "name": "stdout",
          "text": [
            "+---------+-----------------+-----------+-------+--------+----------+\n",
            "|ProductID|      ProductName|   Category|  Price|Quantity|  SaleDate|\n",
            "+---------+-----------------+-----------+-------+--------+----------+\n",
            "|      206|           Laptop|Electronics|75000.0|       2|2024-06-06|\n",
            "|      207|        Bookshelf|  Furniture| 5200.0|       1|2024-06-07|\n",
            "|      208|          Pen Set| Stationery|  120.0|      15|2024-06-08|\n",
            "|      209|Bluetooth Speaker|Electronics| 3200.0|       3|2024-06-09|\n",
            "|      210|       Coffee Mug|Accessories|  350.0|       5|2024-06-10|\n",
            "+---------+-----------------+-----------+-------+--------+----------+\n",
            "\n"
          ]
        }
      ]
    },
    {
      "cell_type": "code",
      "source": [
        "#15. Create a second table customer_details with:\n",
        "#CustomerID, Name, Gender, City, SignupDate\n",
        "spark.sql(\"\"\"create table if not exists customer_details(CustomerID INT,\n",
        "Name STRING, Gender STRING, City STRING, SignupDate DATE) using parquet\"\"\")\n",
        "#16. Insert at least 3 records into customer_details.\n",
        "spark.sql(\"\"\"\n",
        "insert into customer_details values\n",
        "  (201, 'Sharma', 'Female', 'Mumbai', DATE '2024-05-12'),\n",
        "  (202, 'Ravi', 'Male', 'Delhi', DATE '2024-05-15'),\n",
        "  (203, 'Priya', 'Female', 'Bangalore', DATE '2024-05-20')\n",
        "\"\"\")\n",
        "#17. Write a SQL join between product_sales and customer_details based on\n",
        "#ProductID = CustomerID (simulate a match).\n",
        "spark.sql(\"\"\"\n",
        "select p.*, c.Name, c.Gender, c.City, c.SignupDate\n",
        "from product_sales p\n",
        "join customer_details c ON p.ProductID = c.CustomerID\n",
        "\"\"\").show()\n",
        "\n",
        "#18. List customers who bought more than 2 products.\n",
        "spark.sql(\"\"\"\n",
        "select c.Name, SUM(p.Quantity) AS TotalQuantity\n",
        "from customer_details c\n",
        "join product_sales p ON c.CustomerID = p.ProductID\n",
        "group by c.Name\n",
        "having SUM(p.Quantity) > 2\n",
        "\"\"\").show()\n"
      ],
      "metadata": {
        "colab": {
          "base_uri": "https://localhost:8080/"
        },
        "id": "7YgxSfP9n-KQ",
        "outputId": "b9a51142-f0d8-4dc1-b650-2b162615458c"
      },
      "execution_count": 15,
      "outputs": [
        {
          "output_type": "stream",
          "name": "stdout",
          "text": [
            "+---------+------------+-----------+-------+--------+----------+------------+------+---------+----------+\n",
            "|productid| productname|   category|  price|quantity|  saledate|        Name|Gender|     City|SignupDate|\n",
            "+---------+------------+-----------+-------+--------+----------+------------+------+---------+----------+\n",
            "|      203|    Notebook| Stationery|   50.0|      10|2024-06-03| Priya Singh|Female|Bangalore|2024-05-20|\n",
            "|      201|  Smartphone|Electronics|45000.0|       3|2024-06-01|Alice Sharma|Female|   Mumbai|2024-05-12|\n",
            "|      202|Office Chair|  Furniture| 3000.0|       2|2024-06-02|  Ravi Verma|  Male|    Delhi|2024-05-15|\n",
            "+---------+------------+-----------+-------+--------+----------+------------+------+---------+----------+\n",
            "\n",
            "+------------+-------------+\n",
            "|        Name|TotalQuantity|\n",
            "+------------+-------------+\n",
            "|Alice Sharma|            3|\n",
            "| Priya Singh|           10|\n",
            "+------------+-------------+\n",
            "\n"
          ]
        }
      ]
    },
    {
      "cell_type": "code",
      "source": [
        "\n",
        "#19. Create a SQL view sales_summary that includes:\n",
        "#ProductName, Price, Quantity, Total = Price * Quantity\n",
        "\n",
        "spark.sql(\"\"\"create or replace view sales_summary as\n",
        "select productname, price, quantity, price * quantity as total\n",
        "from product_sales\n",
        "\"\"\")\n",
        "\n",
        "#20. Query the view for records with\n",
        "#Total > 1000 .\n",
        "spark.sql(\"\"\"\n",
        "select *\n",
        "from sales_summary\n",
        "where total > 1000\n",
        "\"\"\").show()"
      ],
      "metadata": {
        "colab": {
          "base_uri": "https://localhost:8080/"
        },
        "id": "Mr5u7IU8n-Nv",
        "outputId": "e56648cd-82ce-46fa-f93d-5eac33bd83e8"
      },
      "execution_count": 16,
      "outputs": [
        {
          "output_type": "stream",
          "name": "stdout",
          "text": [
            "+------------+-------+--------+--------+\n",
            "| productname|  price|quantity|   total|\n",
            "+------------+-------+--------+--------+\n",
            "|  Headphones| 1500.0|       4|  6000.0|\n",
            "|Water Bottle|  250.0|       6|  1500.0|\n",
            "|  Smartphone|45000.0|       3|135000.0|\n",
            "|Office Chair| 3000.0|       2|  6000.0|\n",
            "+------------+-------+--------+--------+\n",
            "\n"
          ]
        }
      ]
    },
    {
      "cell_type": "code",
      "source": [
        "\n",
        "#21. Drop the view sales_summary .\n",
        "spark.sql(\"\"\"drop view if exists sales_summary\"\"\")\n",
        "\n",
        "#22. Drop the tables product_sales and customer_details\n",
        "spark.sql(\"drop table product_sales\")\n",
        "spark.sql(\"drop table customer_details\")\n",
        "#23. Drop the database sales_db .\n",
        "spark.sql(\"drop database sales_db\")"
      ],
      "metadata": {
        "colab": {
          "base_uri": "https://localhost:8080/"
        },
        "id": "Lhn4fAMkoIls",
        "outputId": "0ca58455-91e4-4ca7-e4e0-4c543aed40a8"
      },
      "execution_count": 17,
      "outputs": [
        {
          "output_type": "execute_result",
          "data": {
            "text/plain": [
              "DataFrame[]"
            ]
          },
          "metadata": {},
          "execution_count": 17
        }
      ]
    }
  ]
}