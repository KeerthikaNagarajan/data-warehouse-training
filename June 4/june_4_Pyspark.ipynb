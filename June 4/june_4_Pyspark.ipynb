{
  "nbformat": 4,
  "nbformat_minor": 0,
  "metadata": {
    "colab": {
      "provenance": []
    },
    "kernelspec": {
      "name": "python3",
      "display_name": "Python 3"
    },
    "language_info": {
      "name": "python"
    }
  },
  "cells": [
    {
      "cell_type": "code",
      "source": [
        "from pyspark.sql import SparkSession\n",
        "import pandas as pd\n",
        "from io import StringIO\n",
        "\n",
        "spark=SparkSession.builder.appName(\"Colab PySpark Setup\").getOrCreate()\n",
        "\n",
        "spark"
      ],
      "metadata": {
        "colab": {
          "base_uri": "https://localhost:8080/",
          "height": 219
        },
        "id": "HS_PsKpbnTZc",
        "outputId": "2383e52d-a4c4-45cb-902e-ebcdb1f246e1"
      },
      "execution_count": null,
      "outputs": [
        {
          "output_type": "execute_result",
          "data": {
            "text/plain": [
              "<pyspark.sql.session.SparkSession at 0x788751e325d0>"
            ],
            "text/html": [
              "\n",
              "            <div>\n",
              "                <p><b>SparkSession - in-memory</b></p>\n",
              "                \n",
              "        <div>\n",
              "            <p><b>SparkContext</b></p>\n",
              "\n",
              "            <p><a href=\"http://f16f03705b87:4040\">Spark UI</a></p>\n",
              "\n",
              "            <dl>\n",
              "              <dt>Version</dt>\n",
              "                <dd><code>v3.5.1</code></dd>\n",
              "              <dt>Master</dt>\n",
              "                <dd><code>local[*]</code></dd>\n",
              "              <dt>AppName</dt>\n",
              "                <dd><code>Sales Analysis</code></dd>\n",
              "            </dl>\n",
              "        </div>\n",
              "        \n",
              "            </div>\n",
              "        "
            ]
          },
          "metadata": {},
          "execution_count": 7
        }
      ]
    },
    {
      "cell_type": "code",
      "source": [
        "#1. Create a new database named sales_db.\n",
        "spark.sql(\"\"\"create database if not exists sales_db\"\"\")\n",
        "\n",
        "#2. Set the current database to sales_db.\n",
        "spark.sql(\"\"\"use sales_db\"\"\")\n",
        "\n",
        "#3. Create a table product_sales with columns:\n",
        "# \"\"\"ProductID (INT)\n",
        "# ProductName (STRING)\n",
        "# Category (STRING)\n",
        "# Price (DOUBLE)\n",
        "# Quantity (INT)\n",
        "# SaleDate (DATE)\n",
        "#\"\"\"\n",
        "spark.sql(\"\"\"create table if not exists product_sales(productid int,\n",
        "productname string, category string,\n",
        "price double, quantity int, saledate date) using parquet\"\"\")\n",
        "#4. Insert at least 5 rows into product_sales.\n",
        "spark.sql(\"\"\"insert into product_sales values\n",
        "  (301, 'Bluetooth Speaker', 'Electronics', 2999.00, 5, date '2024-06-06'),\n",
        "  (302, 'Desk Lamp', 'Home Goods', 899.00, 8, date '2024-06-07'),\n",
        "  (303, 'Sticky Notes', 'Office Supplies', 35.00, 20, date '2024-06-08'),\n",
        "  (304, 'Wireless Mouse', 'Electronics', 599.00, 12, date '2024-06-09'),\n",
        "  (305, 'Coffee Mug', 'Kitchenware', 199.00, 15, date '2024-06-10');\n",
        "\"\"\")\n"
      ],
      "metadata": {
        "colab": {
          "base_uri": "https://localhost:8080/"
        },
        "id": "Run1-ShenbZH",
        "outputId": "5c9820b5-0f66-4246-dae5-382e94361f4c"
      },
      "execution_count": 18,
      "outputs": [
        {
          "output_type": "execute_result",
          "data": {
            "text/plain": [
              "DataFrame[]"
            ]
          },
          "metadata": {},
          "execution_count": 18
        }
      ]
    },
    {
      "cell_type": "code",
      "source": [
        "#5. Select all records from product_sales.\n",
        "spark.sql(\"\"\"select * from product_sales\"\"\").show()\n",
        "#6. Retrieve products where price is above 500.\n",
        "spark.sql(\"\"\"select * from product_sales where Price > 500\"\"\").show()\n",
        "#7. Calculate total sale amount (Price * Quantity) for each product.\n",
        "spark.sql(\"\"\"select ProductName, Price * Quantity as TotalSaleAmount from product_sales\"\"\").show()\n",
        "#8. Find the number of products sold in each Category.\n",
        "spark.sql(\"\"\"select Category, count(ProductID) as NumberOfProductsSold from product_sales group by Category\"\"\").show()\n",
        "#9. Sort products by total sales in descending order.\n",
        "spark.sql(\"\"\"select ProductName, Price * Quantity as TotalSaleAmount from product_sales order by TotalSaleAmount desc\"\"\").show()\n"
      ],
      "metadata": {
        "colab": {
          "base_uri": "https://localhost:8080/"
        },
        "id": "XFMRG6BQnzDP",
        "outputId": "9a230594-6281-470a-99c0-5214d9e054ef"
      },
      "execution_count": 19,
      "outputs": [
        {
          "output_type": "stream",
          "name": "stdout",
          "text": [
            "+---------+-----------------+---------------+------+--------+----------+\n",
            "|productid|      productname|       category| price|quantity|  saledate|\n",
            "+---------+-----------------+---------------+------+--------+----------+\n",
            "|      303|     Sticky Notes|Office Supplies|  35.0|      20|2024-06-08|\n",
            "|      304|   Wireless Mouse|    Electronics| 599.0|      12|2024-06-09|\n",
            "|      305|       Coffee Mug|    Kitchenware| 199.0|      15|2024-06-10|\n",
            "|      301|Bluetooth Speaker|    Electronics|2999.0|       5|2024-06-06|\n",
            "|      302|        Desk Lamp|     Home Goods| 899.0|       8|2024-06-07|\n",
            "+---------+-----------------+---------------+------+--------+----------+\n",
            "\n",
            "+---------+-----------------+-----------+------+--------+----------+\n",
            "|productid|      productname|   category| price|quantity|  saledate|\n",
            "+---------+-----------------+-----------+------+--------+----------+\n",
            "|      304|   Wireless Mouse|Electronics| 599.0|      12|2024-06-09|\n",
            "|      301|Bluetooth Speaker|Electronics|2999.0|       5|2024-06-06|\n",
            "|      302|        Desk Lamp| Home Goods| 899.0|       8|2024-06-07|\n",
            "+---------+-----------------+-----------+------+--------+----------+\n",
            "\n",
            "+-----------------+---------------+\n",
            "|      ProductName|TotalSaleAmount|\n",
            "+-----------------+---------------+\n",
            "|     Sticky Notes|          700.0|\n",
            "|   Wireless Mouse|         7188.0|\n",
            "|       Coffee Mug|         2985.0|\n",
            "|Bluetooth Speaker|        14995.0|\n",
            "|        Desk Lamp|         7192.0|\n",
            "+-----------------+---------------+\n",
            "\n",
            "+---------------+--------------------+\n",
            "|       Category|NumberOfProductsSold|\n",
            "+---------------+--------------------+\n",
            "|    Kitchenware|                   1|\n",
            "|    Electronics|                   2|\n",
            "|Office Supplies|                   1|\n",
            "|     Home Goods|                   1|\n",
            "+---------------+--------------------+\n",
            "\n",
            "+-----------------+---------------+\n",
            "|      ProductName|TotalSaleAmount|\n",
            "+-----------------+---------------+\n",
            "|Bluetooth Speaker|        14995.0|\n",
            "|        Desk Lamp|         7192.0|\n",
            "|   Wireless Mouse|         7188.0|\n",
            "|       Coffee Mug|         2985.0|\n",
            "|     Sticky Notes|          700.0|\n",
            "+-----------------+---------------+\n",
            "\n"
          ]
        }
      ]
    },
    {
      "cell_type": "code",
      "source": [
        "\n",
        "#10. Create a PySpark DataFrame with dummy product data.\n",
        "from pyspark.sql import Row\n",
        "data = [\n",
        "    Row(306, 'Gaming Console', 'Electronics', 39999.0, 3, '2024-06-21'),\n",
        "    Row(307, 'Study Table', 'Furniture', 6500.0, 2, '2024-06-22'),\n",
        "    Row(308, 'Marker Pens', 'Office Supplies', 180.0, 20, '2024-06-23'),\n",
        "    Row(309, 'Wireless Earbuds', 'Electronics', 1999.0, 5, '2024-06-24'),\n",
        "    Row(310, 'Lunch Box', 'Accessories', 499.0, 8, '2024-06-25'),\n",
        "]\n",
        "# Create DataFrame\n",
        "df = spark.createDataFrame(data, [\"ProductID\", \"ProductName\", \"Category\", \"Price\", \"Quantity\", \"SaleDate\"])\n",
        "\n",
        "#11. Register it as a temporary view called temp_orders.\n",
        "# Register temporary view\n",
        "df.createOrReplaceTempView(\"temp_orders\")\n",
        "\n",
        "#12. Run a SQL query to filter temp_orders where quantity > 1.\n",
        "spark.sql(\"select * from product_sales where quantity>1\").show()"
      ],
      "metadata": {
        "colab": {
          "base_uri": "https://localhost:8080/"
        },
        "id": "7gU6RrsZn2eZ",
        "outputId": "dd257305-eb93-4c4a-ecb9-84ed33b0890a"
      },
      "execution_count": 20,
      "outputs": [
        {
          "output_type": "stream",
          "name": "stdout",
          "text": [
            "+---------+-----------------+---------------+------+--------+----------+\n",
            "|productid|      productname|       category| price|quantity|  saledate|\n",
            "+---------+-----------------+---------------+------+--------+----------+\n",
            "|      303|     Sticky Notes|Office Supplies|  35.0|      20|2024-06-08|\n",
            "|      304|   Wireless Mouse|    Electronics| 599.0|      12|2024-06-09|\n",
            "|      305|       Coffee Mug|    Kitchenware| 199.0|      15|2024-06-10|\n",
            "|      301|Bluetooth Speaker|    Electronics|2999.0|       5|2024-06-06|\n",
            "|      302|        Desk Lamp|     Home Goods| 899.0|       8|2024-06-07|\n",
            "+---------+-----------------+---------------+------+--------+----------+\n",
            "\n"
          ]
        }
      ]
    },
    {
      "cell_type": "code",
      "source": [
        "\n",
        "#13. Create a global temp view from a PySpark DataFrame named global_orders.\n",
        "df.createOrReplaceGlobalTempView(\"global_orders\")\n",
        "#14. Run a SQL query on the global view from another notebook cell/session.\n",
        "spark.sql(\"select * from global_temp.global_orders\").show()"
      ],
      "metadata": {
        "colab": {
          "base_uri": "https://localhost:8080/"
        },
        "id": "y2Wo-8ywn5rz",
        "outputId": "07c1d2eb-5ede-49d9-cb25-8694f2eede6b"
      },
      "execution_count": 21,
      "outputs": [
        {
          "output_type": "stream",
          "name": "stdout",
          "text": [
            "+---------+----------------+---------------+-------+--------+----------+\n",
            "|ProductID|     ProductName|       Category|  Price|Quantity|  SaleDate|\n",
            "+---------+----------------+---------------+-------+--------+----------+\n",
            "|      306|  Gaming Console|    Electronics|39999.0|       3|2024-06-21|\n",
            "|      307|     Study Table|      Furniture| 6500.0|       2|2024-06-22|\n",
            "|      308|     Marker Pens|Office Supplies|  180.0|      20|2024-06-23|\n",
            "|      309|Wireless Earbuds|    Electronics| 1999.0|       5|2024-06-24|\n",
            "|      310|       Lunch Box|    Accessories|  499.0|       8|2024-06-25|\n",
            "+---------+----------------+---------------+-------+--------+----------+\n",
            "\n"
          ]
        }
      ]
    },
    {
      "cell_type": "code",
      "source": [
        "#15. Create a second table customer_details with:\n",
        "#CustomerID, Name, Gender, City, SignupDate\n",
        "spark.sql(\"\"\"create table if not exists customer_details(CustomerID INT,\n",
        "Name STRING, Gender STRING, City STRING, SignupDate DATE) using parquet\"\"\")\n",
        "#16. Insert at least 3 records into customer_details.\n",
        "spark.sql(\"\"\"\n",
        "insert into customer_details values\n",
        "  (301, 'Lewis', 'Male', 'Mumbai', DATE '2024-05-12'),\n",
        "  (302, 'Max', 'Male', 'Delhi', DATE '2024-05-15'),\n",
        "  (303, 'Landoni', 'Female', 'Bangalore', DATE '2024-05-20')\n",
        "\"\"\")\n",
        "#17. Write a SQL join between product_sales and customer_details based on\n",
        "#ProductID = CustomerID (simulate a match).\n",
        "spark.sql(\"\"\"\n",
        "select p.*, c.Name, c.Gender, c.City, c.SignupDate\n",
        "from product_sales p\n",
        "join customer_details c ON p.ProductID = c.CustomerID\n",
        "\"\"\").show()\n",
        "\n",
        "#18. List customers who bought more than 2 products.\n",
        "spark.sql(\"\"\"\n",
        "select c.Name, SUM(p.Quantity) AS TotalQuantity\n",
        "from customer_details c\n",
        "join product_sales p ON c.CustomerID = p.ProductID\n",
        "group by c.Name\n",
        "having SUM(p.Quantity) > 2\n",
        "\"\"\").show()\n"
      ],
      "metadata": {
        "colab": {
          "base_uri": "https://localhost:8080/"
        },
        "id": "7YgxSfP9n-KQ",
        "outputId": "3b0a6c7d-a856-4894-c9c6-66b676d8f5c3"
      },
      "execution_count": 22,
      "outputs": [
        {
          "output_type": "stream",
          "name": "stdout",
          "text": [
            "+---------+-----------------+---------------+------+--------+----------+-------+------+---------+----------+\n",
            "|productid|      productname|       category| price|quantity|  saledate|   Name|Gender|     City|SignupDate|\n",
            "+---------+-----------------+---------------+------+--------+----------+-------+------+---------+----------+\n",
            "|      303|     Sticky Notes|Office Supplies|  35.0|      20|2024-06-08|Landoni|Female|Bangalore|2024-05-20|\n",
            "|      301|Bluetooth Speaker|    Electronics|2999.0|       5|2024-06-06|  Lewis|  Male|   Mumbai|2024-05-12|\n",
            "|      302|        Desk Lamp|     Home Goods| 899.0|       8|2024-06-07|    Max|  Male|    Delhi|2024-05-15|\n",
            "+---------+-----------------+---------------+------+--------+----------+-------+------+---------+----------+\n",
            "\n",
            "+-------+-------------+\n",
            "|   Name|TotalQuantity|\n",
            "+-------+-------------+\n",
            "|Landoni|           20|\n",
            "|    Max|            8|\n",
            "|  Lewis|            5|\n",
            "+-------+-------------+\n",
            "\n"
          ]
        }
      ]
    },
    {
      "cell_type": "code",
      "source": [
        "\n",
        "#19. Create a SQL view sales_summary that includes:\n",
        "#ProductName, Price, Quantity, Total = Price * Quantity\n",
        "\n",
        "spark.sql(\"\"\"create or replace view sales_summary as\n",
        "select productname, price, quantity, price * quantity as total\n",
        "from product_sales\n",
        "\"\"\")\n",
        "\n",
        "#20. Query the view for records with\n",
        "#Total > 1000 .\n",
        "spark.sql(\"\"\"\n",
        "select *\n",
        "from sales_summary\n",
        "where total > 1000\n",
        "\"\"\").show()"
      ],
      "metadata": {
        "colab": {
          "base_uri": "https://localhost:8080/"
        },
        "id": "Mr5u7IU8n-Nv",
        "outputId": "35019c2d-b1ab-4934-e285-7bf02f48f055"
      },
      "execution_count": 23,
      "outputs": [
        {
          "output_type": "stream",
          "name": "stdout",
          "text": [
            "+-----------------+------+--------+-------+\n",
            "|      productname| price|quantity|  total|\n",
            "+-----------------+------+--------+-------+\n",
            "|   Wireless Mouse| 599.0|      12| 7188.0|\n",
            "|       Coffee Mug| 199.0|      15| 2985.0|\n",
            "|Bluetooth Speaker|2999.0|       5|14995.0|\n",
            "|        Desk Lamp| 899.0|       8| 7192.0|\n",
            "+-----------------+------+--------+-------+\n",
            "\n"
          ]
        }
      ]
    },
    {
      "cell_type": "code",
      "source": [
        "\n",
        "#21. Drop the view sales_summary .\n",
        "spark.sql(\"\"\"drop view if exists sales_summary\"\"\")\n",
        "\n",
        "#22. Drop the tables product_sales and customer_details\n",
        "spark.sql(\"drop table product_sales\")\n",
        "spark.sql(\"drop table customer_details\")\n",
        "#23. Drop the database sales_db .\n",
        "spark.sql(\"drop database sales_db\")"
      ],
      "metadata": {
        "colab": {
          "base_uri": "https://localhost:8080/"
        },
        "id": "Lhn4fAMkoIls",
        "outputId": "8b4947ab-2b45-4270-a079-297ff81f6a04"
      },
      "execution_count": 24,
      "outputs": [
        {
          "output_type": "execute_result",
          "data": {
            "text/plain": [
              "DataFrame[]"
            ]
          },
          "metadata": {},
          "execution_count": 24
        }
      ]
    }
  ]
}