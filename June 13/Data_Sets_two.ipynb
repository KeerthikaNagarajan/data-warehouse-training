{
  "nbformat": 4,
  "nbformat_minor": 0,
  "metadata": {
    "colab": {
      "provenance": []
    },
    "kernelspec": {
      "name": "python3",
      "display_name": "Python 3"
    },
    "language_info": {
      "name": "python"
    }
  },
  "cells": [
    {
      "cell_type": "code",
      "execution_count": 1,
      "metadata": {
        "id": "iFAWUFiAhaEe"
      },
      "outputs": [],
      "source": [
        "from pyspark.sql import SparkSession\n",
        "from pyspark.sql.functions import col, count, avg, desc, sum\n",
        "\n",
        "# Initialize Spark\n",
        "spark = SparkSession.builder \\\n",
        "    .appName(\"CustomerOrdersAnalysis\") \\\n",
        "    .getOrCreate()"
      ]
    },
    {
      "cell_type": "code",
      "source": [
        "# Load customers data\n",
        "customers_df = spark.read.csv(\n",
        "    \"/content/customers.csv\",\n",
        "    header=True,\n",
        "    inferSchema=True\n",
        ")\n",
        "\n",
        "# Load orders data\n",
        "orders_df = spark.read.csv(\n",
        "    \"/content/orders.csv\",\n",
        "    header=True,\n",
        "    inferSchema=True\n",
        ")\n",
        "\n",
        "# Verify data\n",
        "print(\"Customers Data:\")\n",
        "customers_df.show()\n",
        "\n",
        "print(\"\\nOrders Data:\")\n",
        "orders_df.show()"
      ],
      "metadata": {
        "colab": {
          "base_uri": "https://localhost:8080/"
        },
        "id": "1we98j4IhcI6",
        "outputId": "a3fd98d5-2de6-4657-ba55-9f168cf2ec64"
      },
      "execution_count": 3,
      "outputs": [
        {
          "output_type": "stream",
          "name": "stdout",
          "text": [
            "Customers Data:\n",
            "+----------+-----+---------+---+\n",
            "|CustomerID| Name|     City|Age|\n",
            "+----------+-----+---------+---+\n",
            "|       101|Aditi|   Mumbai| 28|\n",
            "|       102|Rohan|    Delhi| 35|\n",
            "|       103|Meena|Bangalore| 41|\n",
            "|       104|Kabir|Hyderabad| 30|\n",
            "|       105| Zoya|  Chennai| 25|\n",
            "+----------+-----+---------+---+\n",
            "\n",
            "\n",
            "Orders Data:\n",
            "+-------+----------+-------+--------+-----+----------+\n",
            "|OrderID|CustomerID|Product|Quantity|Price| OrderDate|\n",
            "+-------+----------+-------+--------+-----+----------+\n",
            "|   1001|       101| Laptop|       1|70000|2024-01-05|\n",
            "|   1002|       102| Mobile|       2|25000|2024-02-10|\n",
            "|   1003|       103|   Desk|       1|10000|2024-03-15|\n",
            "|   1004|       101|  Mouse|       3| 1000|2024-04-01|\n",
            "|   1005|       104|Monitor|       1|12000|2024-04-25|\n",
            "+-------+----------+-------+--------+-----+----------+\n",
            "\n"
          ]
        }
      ]
    },
    {
      "cell_type": "code",
      "source": [
        "# 1. Add TotalAmount column\n",
        "orders_df = orders_df.withColumn(\n",
        "    \"TotalAmount\",\n",
        "    col(\"Quantity\") * col(\"Price\")\n",
        ")\n",
        "\n",
        "# 2. Join DataFrames\n",
        "joined_df = customers_df.join(orders_df, \"CustomerID\", \"left\")"
      ],
      "metadata": {
        "id": "u2ReyErkhcLs"
      },
      "execution_count": 4,
      "outputs": []
    },
    {
      "cell_type": "code",
      "source": [
        "# Task 3: High-value orders (>20000)\n",
        "high_value_orders = joined_df.filter(col(\"TotalAmount\") > 20000)\n",
        "print(\"\\nHigh value orders (>20000):\")\n",
        "high_value_orders.show()\n",
        "\n",
        "# Task 4: Customers with multiple orders\n",
        "multi_order_customers = joined_df.groupBy(\"CustomerID\", \"Name\") \\\n",
        "    .agg(count(\"OrderID\").alias(\"OrderCount\")) \\\n",
        "    .filter(col(\"OrderCount\") > 1)\n",
        "print(\"\\nCustomers with >1 order:\")\n",
        "multi_order_customers.show()\n",
        "\n",
        "# Task 5: Average order by city\n",
        "avg_by_city = joined_df.groupBy(\"City\") \\\n",
        "    .agg(avg(\"TotalAmount\").alias(\"AvgOrderValue\")) \\\n",
        "    .orderBy(desc(\"AvgOrderValue\"))\n",
        "print(\"\\nAverage order value by city:\")\n",
        "avg_by_city.show()\n",
        "\n",
        "# Task 6: Sort by OrderDate\n",
        "sorted_orders = joined_df.orderBy(desc(\"OrderDate\"))\n",
        "print(\"\\nOrders sorted by date:\")\n",
        "sorted_orders.show()\n"
      ],
      "metadata": {
        "colab": {
          "base_uri": "https://localhost:8080/"
        },
        "id": "3xdubnqChcOo",
        "outputId": "be66daa4-8cc1-4fb9-a6c4-65122de37157"
      },
      "execution_count": 5,
      "outputs": [
        {
          "output_type": "stream",
          "name": "stdout",
          "text": [
            "\n",
            "High value orders (>20000):\n",
            "+----------+-----+------+---+-------+-------+--------+-----+----------+-----------+\n",
            "|CustomerID| Name|  City|Age|OrderID|Product|Quantity|Price| OrderDate|TotalAmount|\n",
            "+----------+-----+------+---+-------+-------+--------+-----+----------+-----------+\n",
            "|       101|Aditi|Mumbai| 28|   1001| Laptop|       1|70000|2024-01-05|      70000|\n",
            "|       102|Rohan| Delhi| 35|   1002| Mobile|       2|25000|2024-02-10|      50000|\n",
            "+----------+-----+------+---+-------+-------+--------+-----+----------+-----------+\n",
            "\n",
            "\n",
            "Customers with >1 order:\n",
            "+----------+-----+----------+\n",
            "|CustomerID| Name|OrderCount|\n",
            "+----------+-----+----------+\n",
            "|       101|Aditi|         2|\n",
            "+----------+-----+----------+\n",
            "\n",
            "\n",
            "Average order value by city:\n",
            "+---------+-------------+\n",
            "|     City|AvgOrderValue|\n",
            "+---------+-------------+\n",
            "|    Delhi|      50000.0|\n",
            "|   Mumbai|      36500.0|\n",
            "|Hyderabad|      12000.0|\n",
            "|Bangalore|      10000.0|\n",
            "|  Chennai|         NULL|\n",
            "+---------+-------------+\n",
            "\n",
            "\n",
            "Orders sorted by date:\n",
            "+----------+-----+---------+---+-------+-------+--------+-----+----------+-----------+\n",
            "|CustomerID| Name|     City|Age|OrderID|Product|Quantity|Price| OrderDate|TotalAmount|\n",
            "+----------+-----+---------+---+-------+-------+--------+-----+----------+-----------+\n",
            "|       104|Kabir|Hyderabad| 30|   1005|Monitor|       1|12000|2024-04-25|      12000|\n",
            "|       101|Aditi|   Mumbai| 28|   1004|  Mouse|       3| 1000|2024-04-01|       3000|\n",
            "|       103|Meena|Bangalore| 41|   1003|   Desk|       1|10000|2024-03-15|      10000|\n",
            "|       102|Rohan|    Delhi| 35|   1002| Mobile|       2|25000|2024-02-10|      50000|\n",
            "|       101|Aditi|   Mumbai| 28|   1001| Laptop|       1|70000|2024-01-05|      70000|\n",
            "|       105| Zoya|  Chennai| 25|   NULL|   NULL|    NULL| NULL|      NULL|       NULL|\n",
            "+----------+-----+---------+---+-------+-------+--------+-----+----------+-----------+\n",
            "\n"
          ]
        }
      ]
    },
    {
      "cell_type": "code",
      "source": [
        "# Task 7: Save as Parquet\n",
        "joined_df.write.partitionBy(\"City\") \\\n",
        "    .mode(\"overwrite\") \\\n",
        "    .parquet(\"output/customer_orders\")\n",
        "\n",
        "# Task 8-10: SQL Queries\n",
        "joined_df.createOrReplaceTempView(\"customer_orders\")\n",
        "\n",
        "print(\"\\nTotal sales by customer:\")\n",
        "spark.sql(\"\"\"\n",
        "    SELECT CustomerID, Name, SUM(TotalAmount) as TotalSpent\n",
        "    FROM customer_orders\n",
        "    GROUP BY CustomerID, Name\n",
        "    ORDER BY TotalSpent DESC\n",
        "\"\"\").show()\n",
        "\n",
        "print(\"\\nProducts per city:\")\n",
        "spark.sql(\"\"\"\n",
        "    SELECT City, COUNT(DISTINCT Product) as UniqueProducts\n",
        "    FROM customer_orders\n",
        "    GROUP BY City\n",
        "\"\"\").show()\n",
        "\n",
        "print(\"\\nTop 2 cities by revenue:\")\n",
        "spark.sql(\"\"\"\n",
        "    SELECT City, SUM(TotalAmount) as TotalRevenue\n",
        "    FROM customer_orders\n",
        "    GROUP BY City\n",
        "    ORDER BY TotalRevenue DESC\n",
        "    LIMIT 2\n",
        "\"\"\").show()"
      ],
      "metadata": {
        "colab": {
          "base_uri": "https://localhost:8080/"
        },
        "id": "49iMHE9FhcRa",
        "outputId": "5c8b90e9-e804-4626-e7eb-a94218035def"
      },
      "execution_count": 6,
      "outputs": [
        {
          "output_type": "stream",
          "name": "stdout",
          "text": [
            "\n",
            "Total sales by customer:\n",
            "+----------+-----+----------+\n",
            "|CustomerID| Name|TotalSpent|\n",
            "+----------+-----+----------+\n",
            "|       101|Aditi|     73000|\n",
            "|       102|Rohan|     50000|\n",
            "|       104|Kabir|     12000|\n",
            "|       103|Meena|     10000|\n",
            "|       105| Zoya|      NULL|\n",
            "+----------+-----+----------+\n",
            "\n",
            "\n",
            "Products per city:\n",
            "+---------+--------------+\n",
            "|     City|UniqueProducts|\n",
            "+---------+--------------+\n",
            "|Bangalore|             1|\n",
            "|  Chennai|             0|\n",
            "|   Mumbai|             2|\n",
            "|    Delhi|             1|\n",
            "|Hyderabad|             1|\n",
            "+---------+--------------+\n",
            "\n",
            "\n",
            "Top 2 cities by revenue:\n",
            "+------+------------+\n",
            "|  City|TotalRevenue|\n",
            "+------+------------+\n",
            "|Mumbai|       73000|\n",
            "| Delhi|       50000|\n",
            "+------+------------+\n",
            "\n"
          ]
        }
      ]
    },
    {
      "cell_type": "code",
      "source": [
        "spark.stop()\n",
        "print(\"Analysis complete!\")\n"
      ],
      "metadata": {
        "colab": {
          "base_uri": "https://localhost:8080/"
        },
        "id": "FN02VaY0hcU2",
        "outputId": "071ddd7e-458a-4af6-bddd-b68a60a53655"
      },
      "execution_count": 7,
      "outputs": [
        {
          "output_type": "stream",
          "name": "stdout",
          "text": [
            "Analysis complete!\n"
          ]
        }
      ]
    }
  ]
}