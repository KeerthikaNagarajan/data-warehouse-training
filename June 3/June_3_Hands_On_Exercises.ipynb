{
  "nbformat": 4,
  "nbformat_minor": 0,
  "metadata": {
    "colab": {
      "provenance": []
    },
    "kernelspec": {
      "name": "python3",
      "display_name": "Python 3"
    },
    "language_info": {
      "name": "python"
    }
  },
  "cells": [
    {
      "cell_type": "code",
      "execution_count": 1,
      "metadata": {
        "colab": {
          "base_uri": "https://localhost:8080/",
          "height": 128
        },
        "id": "nUPZ5xs1SWPW",
        "outputId": "429168f0-6a91-4ef2-e148-d82f589d0ce3"
      },
      "outputs": [
        {
          "output_type": "stream",
          "name": "stdout",
          "text": [
            "Requirement already satisfied: pyspark in /usr/local/lib/python3.11/dist-packages (3.5.1)\n",
            "Requirement already satisfied: py4j==0.10.9.7 in /usr/local/lib/python3.11/dist-packages (from pyspark) (0.10.9.7)\n"
          ]
        },
        {
          "output_type": "display_data",
          "data": {
            "text/plain": [
              "<IPython.core.display.HTML object>"
            ],
            "text/html": [
              "\n",
              "     <input type=\"file\" id=\"files-5fa5e49c-d023-4450-8e09-bfb8eee05171\" name=\"files[]\" multiple disabled\n",
              "        style=\"border:none\" />\n",
              "     <output id=\"result-5fa5e49c-d023-4450-8e09-bfb8eee05171\">\n",
              "      Upload widget is only available when the cell has been executed in the\n",
              "      current browser session. Please rerun this cell to enable.\n",
              "      </output>\n",
              "      <script>// Copyright 2017 Google LLC\n",
              "//\n",
              "// Licensed under the Apache License, Version 2.0 (the \"License\");\n",
              "// you may not use this file except in compliance with the License.\n",
              "// You may obtain a copy of the License at\n",
              "//\n",
              "//      http://www.apache.org/licenses/LICENSE-2.0\n",
              "//\n",
              "// Unless required by applicable law or agreed to in writing, software\n",
              "// distributed under the License is distributed on an \"AS IS\" BASIS,\n",
              "// WITHOUT WARRANTIES OR CONDITIONS OF ANY KIND, either express or implied.\n",
              "// See the License for the specific language governing permissions and\n",
              "// limitations under the License.\n",
              "\n",
              "/**\n",
              " * @fileoverview Helpers for google.colab Python module.\n",
              " */\n",
              "(function(scope) {\n",
              "function span(text, styleAttributes = {}) {\n",
              "  const element = document.createElement('span');\n",
              "  element.textContent = text;\n",
              "  for (const key of Object.keys(styleAttributes)) {\n",
              "    element.style[key] = styleAttributes[key];\n",
              "  }\n",
              "  return element;\n",
              "}\n",
              "\n",
              "// Max number of bytes which will be uploaded at a time.\n",
              "const MAX_PAYLOAD_SIZE = 100 * 1024;\n",
              "\n",
              "function _uploadFiles(inputId, outputId) {\n",
              "  const steps = uploadFilesStep(inputId, outputId);\n",
              "  const outputElement = document.getElementById(outputId);\n",
              "  // Cache steps on the outputElement to make it available for the next call\n",
              "  // to uploadFilesContinue from Python.\n",
              "  outputElement.steps = steps;\n",
              "\n",
              "  return _uploadFilesContinue(outputId);\n",
              "}\n",
              "\n",
              "// This is roughly an async generator (not supported in the browser yet),\n",
              "// where there are multiple asynchronous steps and the Python side is going\n",
              "// to poll for completion of each step.\n",
              "// This uses a Promise to block the python side on completion of each step,\n",
              "// then passes the result of the previous step as the input to the next step.\n",
              "function _uploadFilesContinue(outputId) {\n",
              "  const outputElement = document.getElementById(outputId);\n",
              "  const steps = outputElement.steps;\n",
              "\n",
              "  const next = steps.next(outputElement.lastPromiseValue);\n",
              "  return Promise.resolve(next.value.promise).then((value) => {\n",
              "    // Cache the last promise value to make it available to the next\n",
              "    // step of the generator.\n",
              "    outputElement.lastPromiseValue = value;\n",
              "    return next.value.response;\n",
              "  });\n",
              "}\n",
              "\n",
              "/**\n",
              " * Generator function which is called between each async step of the upload\n",
              " * process.\n",
              " * @param {string} inputId Element ID of the input file picker element.\n",
              " * @param {string} outputId Element ID of the output display.\n",
              " * @return {!Iterable<!Object>} Iterable of next steps.\n",
              " */\n",
              "function* uploadFilesStep(inputId, outputId) {\n",
              "  const inputElement = document.getElementById(inputId);\n",
              "  inputElement.disabled = false;\n",
              "\n",
              "  const outputElement = document.getElementById(outputId);\n",
              "  outputElement.innerHTML = '';\n",
              "\n",
              "  const pickedPromise = new Promise((resolve) => {\n",
              "    inputElement.addEventListener('change', (e) => {\n",
              "      resolve(e.target.files);\n",
              "    });\n",
              "  });\n",
              "\n",
              "  const cancel = document.createElement('button');\n",
              "  inputElement.parentElement.appendChild(cancel);\n",
              "  cancel.textContent = 'Cancel upload';\n",
              "  const cancelPromise = new Promise((resolve) => {\n",
              "    cancel.onclick = () => {\n",
              "      resolve(null);\n",
              "    };\n",
              "  });\n",
              "\n",
              "  // Wait for the user to pick the files.\n",
              "  const files = yield {\n",
              "    promise: Promise.race([pickedPromise, cancelPromise]),\n",
              "    response: {\n",
              "      action: 'starting',\n",
              "    }\n",
              "  };\n",
              "\n",
              "  cancel.remove();\n",
              "\n",
              "  // Disable the input element since further picks are not allowed.\n",
              "  inputElement.disabled = true;\n",
              "\n",
              "  if (!files) {\n",
              "    return {\n",
              "      response: {\n",
              "        action: 'complete',\n",
              "      }\n",
              "    };\n",
              "  }\n",
              "\n",
              "  for (const file of files) {\n",
              "    const li = document.createElement('li');\n",
              "    li.append(span(file.name, {fontWeight: 'bold'}));\n",
              "    li.append(span(\n",
              "        `(${file.type || 'n/a'}) - ${file.size} bytes, ` +\n",
              "        `last modified: ${\n",
              "            file.lastModifiedDate ? file.lastModifiedDate.toLocaleDateString() :\n",
              "                                    'n/a'} - `));\n",
              "    const percent = span('0% done');\n",
              "    li.appendChild(percent);\n",
              "\n",
              "    outputElement.appendChild(li);\n",
              "\n",
              "    const fileDataPromise = new Promise((resolve) => {\n",
              "      const reader = new FileReader();\n",
              "      reader.onload = (e) => {\n",
              "        resolve(e.target.result);\n",
              "      };\n",
              "      reader.readAsArrayBuffer(file);\n",
              "    });\n",
              "    // Wait for the data to be ready.\n",
              "    let fileData = yield {\n",
              "      promise: fileDataPromise,\n",
              "      response: {\n",
              "        action: 'continue',\n",
              "      }\n",
              "    };\n",
              "\n",
              "    // Use a chunked sending to avoid message size limits. See b/62115660.\n",
              "    let position = 0;\n",
              "    do {\n",
              "      const length = Math.min(fileData.byteLength - position, MAX_PAYLOAD_SIZE);\n",
              "      const chunk = new Uint8Array(fileData, position, length);\n",
              "      position += length;\n",
              "\n",
              "      const base64 = btoa(String.fromCharCode.apply(null, chunk));\n",
              "      yield {\n",
              "        response: {\n",
              "          action: 'append',\n",
              "          file: file.name,\n",
              "          data: base64,\n",
              "        },\n",
              "      };\n",
              "\n",
              "      let percentDone = fileData.byteLength === 0 ?\n",
              "          100 :\n",
              "          Math.round((position / fileData.byteLength) * 100);\n",
              "      percent.textContent = `${percentDone}% done`;\n",
              "\n",
              "    } while (position < fileData.byteLength);\n",
              "  }\n",
              "\n",
              "  // All done.\n",
              "  yield {\n",
              "    response: {\n",
              "      action: 'complete',\n",
              "    }\n",
              "  };\n",
              "}\n",
              "\n",
              "scope.google = scope.google || {};\n",
              "scope.google.colab = scope.google.colab || {};\n",
              "scope.google.colab._files = {\n",
              "  _uploadFiles,\n",
              "  _uploadFilesContinue,\n",
              "};\n",
              "})(self);\n",
              "</script> "
            ]
          },
          "metadata": {}
        },
        {
          "output_type": "stream",
          "name": "stdout",
          "text": [
            "Saving Sales_Dataset__500_Records_.csv to Sales_Dataset__500_Records_.csv\n"
          ]
        }
      ],
      "source": [
        "# Install PySpark\n",
        "!pip install pyspark\n",
        "\n",
        "# Import libraries and initialize Spark\n",
        "from pyspark.sql import SparkSession\n",
        "from pyspark.sql import functions as F\n",
        "from pyspark.sql.types import *\n",
        "import pandas as pd\n",
        "\n",
        "spark = SparkSession.builder \\\n",
        "    .appName(\"SalesDataAnalysis\") \\\n",
        "    .getOrCreate()\n",
        "\n",
        "# Upload your file\n",
        "from google.colab import files\n",
        "uploaded = files.upload()\n",
        "file_name = list(uploaded.keys())[0]\n",
        "\n",
        "# Load the dataset\n",
        "df = spark.read.csv(file_name, header=True, inferSchema=True)"
      ]
    },
    {
      "cell_type": "code",
      "source": [
        "print(\"=== Exercise 1 ===\")\n",
        "df.show(5)\n",
        "df.orderBy(F.col(\"OrderID\").desc()).show(5)\n",
        "df.printSchema()"
      ],
      "metadata": {
        "colab": {
          "base_uri": "https://localhost:8080/"
        },
        "id": "EuA6QY-6Saxj",
        "outputId": "bcf812d3-4332-4446-e661-8aab38d3d378"
      },
      "execution_count": 2,
      "outputs": [
        {
          "output_type": "stream",
          "name": "stdout",
          "text": [
            "=== Exercise 1 ===\n",
            "+-------+--------------+---------------+------+----------+--------------+--------+----------------+-----------+-------------+\n",
            "|OrderID|  CustomerName|ProductCategory|Amount| OrderDate|DeliveryStatus|Discount|            City|PaymentMode|CustomerSince|\n",
            "+-------+--------------+---------------+------+----------+--------------+--------+----------------+-----------+-------------+\n",
            "|   2824| Donald Walker|          Books|783.04|2024-12-26|      Returned|    0.15|    Lake Joyside|Credit Card|   2020-10-15|\n",
            "|   7912|  Brandon Hall|      Groceries| 905.0|2024-09-12|     Cancelled|    0.03|   New Jamesside|     Wallet|   2022-03-15|\n",
            "|   4611|  Donald Booth|        Fashion|657.96|2025-01-12|      Returned|    0.01|    Lake Roberto|     Wallet|   2021-08-07|\n",
            "|   3547|Phillip Garcia|        Fashion|606.89|2024-03-24|      Returned|    0.15|West Melanieview|     Wallet|   2020-08-08|\n",
            "|   8527|  Valerie Gray|           Toys| 77.87|2024-08-04|     Delivered|    0.17|       Mariastad|       Cash|   2022-11-15|\n",
            "+-------+--------------+---------------+------+----------+--------------+--------+----------------+-----------+-------------+\n",
            "only showing top 5 rows\n",
            "\n",
            "+-------+-----------------+---------------+------+----------+--------------+--------+-----------+-----------+-------------+\n",
            "|OrderID|     CustomerName|ProductCategory|Amount| OrderDate|DeliveryStatus|Discount|       City|PaymentMode|CustomerSince|\n",
            "+-------+-----------------+---------------+------+----------+--------------+--------+-----------+-----------+-------------+\n",
            "|   9996|    Brandon Munoz|           Toys|839.38|2024-09-25|     Delivered|    0.08| Pamelaside|Credit Card|   2021-04-19|\n",
            "|   9992|   Joshua Roberts|          Books|960.97|2023-07-25|       Pending|     0.2| Coreyshire|     Wallet|   2022-06-28|\n",
            "|   9970|Elizabeth Goodman|           Toys|821.02|2025-05-04|     Cancelled|    0.29| Jasonhaven|       Cash|   2021-01-09|\n",
            "|   9962|   Vanessa Morgan|           Toys|701.01|2024-09-21|       Pending|    0.06|Bushchester|       Cash|   2023-03-14|\n",
            "|   9920|       James Hall|           Toys| 280.8|2024-05-25|     Cancelled|    0.28|Ericborough|     Wallet|   2020-11-24|\n",
            "+-------+-----------------+---------------+------+----------+--------------+--------+-----------+-----------+-------------+\n",
            "only showing top 5 rows\n",
            "\n",
            "root\n",
            " |-- OrderID: integer (nullable = true)\n",
            " |-- CustomerName: string (nullable = true)\n",
            " |-- ProductCategory: string (nullable = true)\n",
            " |-- Amount: double (nullable = true)\n",
            " |-- OrderDate: date (nullable = true)\n",
            " |-- DeliveryStatus: string (nullable = true)\n",
            " |-- Discount: double (nullable = true)\n",
            " |-- City: string (nullable = true)\n",
            " |-- PaymentMode: string (nullable = true)\n",
            " |-- CustomerSince: date (nullable = true)\n",
            "\n"
          ]
        }
      ]
    },
    {
      "cell_type": "code",
      "source": [
        "print(\"=== Exercise 2 ===\")\n",
        "df_selected = df.select(\"OrderID\", \"CustomerName\", \"Amount\").withColumnRenamed(\"Amount\", \"OrderAmount\")\n",
        "df_selected.show(5)\n",
        "\n",
        "df_filtered = df_selected.filter(F.col(\"OrderAmount\") > 500)\n",
        "df_filtered.show(5)\n",
        "\n",
        "df.filter(F.col(\"City\") == \"New Jamesside\").show(5)"
      ],
      "metadata": {
        "colab": {
          "base_uri": "https://localhost:8080/"
        },
        "id": "9yIhVsTzSo5e",
        "outputId": "fe818131-2718-49a4-c483-71106c0fd94b"
      },
      "execution_count": 3,
      "outputs": [
        {
          "output_type": "stream",
          "name": "stdout",
          "text": [
            "=== Exercise 2 ===\n",
            "+-------+--------------+-----------+\n",
            "|OrderID|  CustomerName|OrderAmount|\n",
            "+-------+--------------+-----------+\n",
            "|   2824| Donald Walker|     783.04|\n",
            "|   7912|  Brandon Hall|      905.0|\n",
            "|   4611|  Donald Booth|     657.96|\n",
            "|   3547|Phillip Garcia|     606.89|\n",
            "|   8527|  Valerie Gray|      77.87|\n",
            "+-------+--------------+-----------+\n",
            "only showing top 5 rows\n",
            "\n",
            "+-------+------------------+-----------+\n",
            "|OrderID|      CustomerName|OrderAmount|\n",
            "+-------+------------------+-----------+\n",
            "|   2824|     Donald Walker|     783.04|\n",
            "|   7912|      Brandon Hall|      905.0|\n",
            "|   4611|      Donald Booth|     657.96|\n",
            "|   3547|    Phillip Garcia|     606.89|\n",
            "|   6155|Jonathan Wilkerson|     882.68|\n",
            "+-------+------------------+-----------+\n",
            "only showing top 5 rows\n",
            "\n",
            "+-------+------------+---------------+------+----------+--------------+--------+-------------+-----------+-------------+\n",
            "|OrderID|CustomerName|ProductCategory|Amount| OrderDate|DeliveryStatus|Discount|         City|PaymentMode|CustomerSince|\n",
            "+-------+------------+---------------+------+----------+--------------+--------+-------------+-----------+-------------+\n",
            "|   7912|Brandon Hall|      Groceries| 905.0|2024-09-12|     Cancelled|    0.03|New Jamesside|     Wallet|   2022-03-15|\n",
            "+-------+------------+---------------+------+----------+--------------+--------+-------------+-----------+-------------+\n",
            "\n"
          ]
        }
      ]
    },
    {
      "cell_type": "code",
      "source": [
        "print(\"=== Exercise 3 ===\")\n",
        "df_manipulated = df.drop(\"CustomerSince\") \\\n",
        "    .withColumn(\"FinalAmount\", F.col(\"Amount\") - (F.col(\"Amount\") * F.col(\"Discount\"))) \\\n",
        "    .orderBy(F.col(\"FinalAmount\").desc()) \\\n",
        "    .withColumn(\"DeliveryStatus\",\n",
        "               F.when(F.col(\"DeliveryStatus\") == \"Cancelled\", \"Order Cancelled\")\n",
        "                .otherwise(F.col(\"DeliveryStatus\")))\n",
        "df_manipulated.show(5)"
      ],
      "metadata": {
        "colab": {
          "base_uri": "https://localhost:8080/"
        },
        "id": "LNKdzyekSqDE",
        "outputId": "c0bf1900-94ee-48e3-c9fe-447d5ab45a7f"
      },
      "execution_count": 5,
      "outputs": [
        {
          "output_type": "stream",
          "name": "stdout",
          "text": [
            "=== Exercise 3 ===\n",
            "+-------+--------------+---------------+------+----------+---------------+--------+------------+-----------+-----------------+\n",
            "|OrderID|  CustomerName|ProductCategory|Amount| OrderDate| DeliveryStatus|Discount|        City|PaymentMode|      FinalAmount|\n",
            "+-------+--------------+---------------+------+----------+---------------+--------+------------+-----------+-----------------+\n",
            "|   5573|Jordan Frazier|          Books|981.05|2025-03-19|Order Cancelled|    0.02| Sheilaville|       Cash|          961.429|\n",
            "|   8474|   Heidi Brown|    Electronics|968.91|2023-11-23|Order Cancelled|    0.02|  Riverafort|       Cash|         949.5318|\n",
            "|   8889|   Karen Garza|          Books| 998.3|2024-10-17|Order Cancelled|    0.06|  Johnsonton|Credit Card|938.4019999999999|\n",
            "|   2127|  Jaclyn Moore|      Groceries|933.32|2025-03-11|       Returned|    0.01| Cherylhaven|       Cash|         923.9868|\n",
            "|   9806| Samantha Gill|      Groceries|993.17|2024-11-12|Order Cancelled|    0.07|New Seanstad|     Wallet|         923.6481|\n",
            "+-------+--------------+---------------+------+----------+---------------+--------+------------+-----------+-----------------+\n",
            "only showing top 5 rows\n",
            "\n"
          ]
        }
      ]
    },
    {
      "cell_type": "code",
      "source": [
        "print(\"=== Exercise 4 ===\")\n",
        "df.groupBy(\"DeliveryStatus\").count().show()\n",
        "df.groupBy(\"ProductCategory\").agg(F.avg(\"Amount\").alias(\"AvgAmount\")).show()\n",
        "df.groupBy(\"City\").agg(F.sum(\"Amount\").alias(\"TotalSales\")).orderBy(F.col(\"TotalSales\").desc()).show(10)"
      ],
      "metadata": {
        "colab": {
          "base_uri": "https://localhost:8080/"
        },
        "id": "Oa3srdU1SxJ8",
        "outputId": "249428d6-0a4a-484d-8273-e64e4295c951"
      },
      "execution_count": 6,
      "outputs": [
        {
          "output_type": "stream",
          "name": "stdout",
          "text": [
            "=== Exercise 4 ===\n",
            "+--------------+-----+\n",
            "|DeliveryStatus|count|\n",
            "+--------------+-----+\n",
            "|      Returned|  117|\n",
            "|     Cancelled|  149|\n",
            "|     Delivered|  119|\n",
            "|       Pending|  115|\n",
            "+--------------+-----+\n",
            "\n",
            "+---------------+------------------+\n",
            "|ProductCategory|         AvgAmount|\n",
            "+---------------+------------------+\n",
            "|        Fashion| 500.6308235294116|\n",
            "|      Groceries|459.51786407766957|\n",
            "|    Electronics|           551.745|\n",
            "|          Books| 568.6003773584907|\n",
            "|           Toys| 534.2837499999999|\n",
            "+---------------+------------------+\n",
            "\n",
            "+----------------+------------------+\n",
            "|            City|        TotalSales|\n",
            "+----------------+------------------+\n",
            "|       Smithside|           1842.13|\n",
            "|       Meganside|1607.8899999999999|\n",
            "|    West Jessica|           1249.33|\n",
            "|   Armstrongfort|           1226.18|\n",
            "|     East Robert|            1194.5|\n",
            "|West Christopher|           1144.37|\n",
            "|       Lake John|           1141.28|\n",
            "|    South Andrea|           1048.53|\n",
            "|    Smithborough|           1026.98|\n",
            "|    Gonzaleztown|            999.17|\n",
            "+----------------+------------------+\n",
            "only showing top 10 rows\n",
            "\n"
          ]
        }
      ]
    },
    {
      "cell_type": "code",
      "source": [
        "print(\"=== Exercise 5 ===\")\n",
        "# Inject nulls if none exist\n",
        "if df.filter(F.col(\"City\").isNull()).count() == 0:\n",
        "    df = df.withColumn(\"City\", F.when(F.rand() > 0.9, F.lit(None)).otherwise(F.col(\"City\")))\n",
        "\n",
        "# Show handling options\n",
        "df.fillna(\"Unknown\", subset=[\"City\"]).show(5)\n",
        "df.dropna(subset=[\"City\"]).show(5)\n",
        "df.withColumn(\"HighValue\", F.when(F.col(\"Amount\") > 800, \"Yes\").otherwise(\"No\")).show(5)\n",
        "df.fillna(\"Unknown\", subset=[\"City\"]).show(5)\n",
        "df.dropna(subset=[\"City\"]).show(5)\n",
        "df.withColumn(\"HighValue\", F.when(F.col(\"Amount\") > 800, \"Yes\").otherwise(\"No\")).show(5)"
      ],
      "metadata": {
        "colab": {
          "base_uri": "https://localhost:8080/"
        },
        "id": "gk8yoeHoSxU9",
        "outputId": "85f02453-1e11-4bb2-979f-2a8d11acf5df"
      },
      "execution_count": 9,
      "outputs": [
        {
          "output_type": "stream",
          "name": "stdout",
          "text": [
            "=== Exercise 5 ===\n",
            "+-------+--------------+---------------+------+----------+--------------+--------+-------------+-----------+-------------+\n",
            "|OrderID|  CustomerName|ProductCategory|Amount| OrderDate|DeliveryStatus|Discount|         City|PaymentMode|CustomerSince|\n",
            "+-------+--------------+---------------+------+----------+--------------+--------+-------------+-----------+-------------+\n",
            "|   2824| Donald Walker|          Books|783.04|2024-12-26|      Returned|    0.15| Lake Joyside|Credit Card|   2020-10-15|\n",
            "|   7912|  Brandon Hall|      Groceries| 905.0|2024-09-12|     Cancelled|    0.03|New Jamesside|     Wallet|   2022-03-15|\n",
            "|   4611|  Donald Booth|        Fashion|657.96|2025-01-12|      Returned|    0.01| Lake Roberto|     Wallet|   2021-08-07|\n",
            "|   3547|Phillip Garcia|        Fashion|606.89|2024-03-24|      Returned|    0.15|      Unknown|     Wallet|   2020-08-08|\n",
            "|   8527|  Valerie Gray|           Toys| 77.87|2024-08-04|     Delivered|    0.17|    Mariastad|       Cash|   2022-11-15|\n",
            "+-------+--------------+---------------+------+----------+--------------+--------+-------------+-----------+-------------+\n",
            "only showing top 5 rows\n",
            "\n",
            "+-------+-------------+---------------+------+----------+--------------+--------+---------------+-----------+-------------+\n",
            "|OrderID| CustomerName|ProductCategory|Amount| OrderDate|DeliveryStatus|Discount|           City|PaymentMode|CustomerSince|\n",
            "+-------+-------------+---------------+------+----------+--------------+--------+---------------+-----------+-------------+\n",
            "|   2824|Donald Walker|          Books|783.04|2024-12-26|      Returned|    0.15|   Lake Joyside|Credit Card|   2020-10-15|\n",
            "|   7912| Brandon Hall|      Groceries| 905.0|2024-09-12|     Cancelled|    0.03|  New Jamesside|     Wallet|   2022-03-15|\n",
            "|   4611| Donald Booth|        Fashion|657.96|2025-01-12|      Returned|    0.01|   Lake Roberto|     Wallet|   2021-08-07|\n",
            "|   8527| Valerie Gray|           Toys| 77.87|2024-08-04|     Delivered|    0.17|      Mariastad|       Cash|   2022-11-15|\n",
            "|   4150|  Amber Perez|          Books|352.37|2024-01-13|     Cancelled|    0.24|Port Jesseville|       Cash|   2022-01-13|\n",
            "+-------+-------------+---------------+------+----------+--------------+--------+---------------+-----------+-------------+\n",
            "only showing top 5 rows\n",
            "\n",
            "+-------+--------------+---------------+------+----------+--------------+--------+-------------+-----------+-------------+---------+\n",
            "|OrderID|  CustomerName|ProductCategory|Amount| OrderDate|DeliveryStatus|Discount|         City|PaymentMode|CustomerSince|HighValue|\n",
            "+-------+--------------+---------------+------+----------+--------------+--------+-------------+-----------+-------------+---------+\n",
            "|   2824| Donald Walker|          Books|783.04|2024-12-26|      Returned|    0.15| Lake Joyside|Credit Card|   2020-10-15|       No|\n",
            "|   7912|  Brandon Hall|      Groceries| 905.0|2024-09-12|     Cancelled|    0.03|New Jamesside|     Wallet|   2022-03-15|      Yes|\n",
            "|   4611|  Donald Booth|        Fashion|657.96|2025-01-12|      Returned|    0.01| Lake Roberto|     Wallet|   2021-08-07|       No|\n",
            "|   3547|Phillip Garcia|        Fashion|606.89|2024-03-24|      Returned|    0.15|         NULL|     Wallet|   2020-08-08|       No|\n",
            "|   8527|  Valerie Gray|           Toys| 77.87|2024-08-04|     Delivered|    0.17|    Mariastad|       Cash|   2022-11-15|       No|\n",
            "+-------+--------------+---------------+------+----------+--------------+--------+-------------+-----------+-------------+---------+\n",
            "only showing top 5 rows\n",
            "\n",
            "+-------+--------------+---------------+------+----------+--------------+--------+-------------+-----------+-------------+\n",
            "|OrderID|  CustomerName|ProductCategory|Amount| OrderDate|DeliveryStatus|Discount|         City|PaymentMode|CustomerSince|\n",
            "+-------+--------------+---------------+------+----------+--------------+--------+-------------+-----------+-------------+\n",
            "|   2824| Donald Walker|          Books|783.04|2024-12-26|      Returned|    0.15| Lake Joyside|Credit Card|   2020-10-15|\n",
            "|   7912|  Brandon Hall|      Groceries| 905.0|2024-09-12|     Cancelled|    0.03|New Jamesside|     Wallet|   2022-03-15|\n",
            "|   4611|  Donald Booth|        Fashion|657.96|2025-01-12|      Returned|    0.01| Lake Roberto|     Wallet|   2021-08-07|\n",
            "|   3547|Phillip Garcia|        Fashion|606.89|2024-03-24|      Returned|    0.15|      Unknown|     Wallet|   2020-08-08|\n",
            "|   8527|  Valerie Gray|           Toys| 77.87|2024-08-04|     Delivered|    0.17|    Mariastad|       Cash|   2022-11-15|\n",
            "+-------+--------------+---------------+------+----------+--------------+--------+-------------+-----------+-------------+\n",
            "only showing top 5 rows\n",
            "\n",
            "+-------+-------------+---------------+------+----------+--------------+--------+---------------+-----------+-------------+\n",
            "|OrderID| CustomerName|ProductCategory|Amount| OrderDate|DeliveryStatus|Discount|           City|PaymentMode|CustomerSince|\n",
            "+-------+-------------+---------------+------+----------+--------------+--------+---------------+-----------+-------------+\n",
            "|   2824|Donald Walker|          Books|783.04|2024-12-26|      Returned|    0.15|   Lake Joyside|Credit Card|   2020-10-15|\n",
            "|   7912| Brandon Hall|      Groceries| 905.0|2024-09-12|     Cancelled|    0.03|  New Jamesside|     Wallet|   2022-03-15|\n",
            "|   4611| Donald Booth|        Fashion|657.96|2025-01-12|      Returned|    0.01|   Lake Roberto|     Wallet|   2021-08-07|\n",
            "|   8527| Valerie Gray|           Toys| 77.87|2024-08-04|     Delivered|    0.17|      Mariastad|       Cash|   2022-11-15|\n",
            "|   4150|  Amber Perez|          Books|352.37|2024-01-13|     Cancelled|    0.24|Port Jesseville|       Cash|   2022-01-13|\n",
            "+-------+-------------+---------------+------+----------+--------------+--------+---------------+-----------+-------------+\n",
            "only showing top 5 rows\n",
            "\n",
            "+-------+--------------+---------------+------+----------+--------------+--------+-------------+-----------+-------------+---------+\n",
            "|OrderID|  CustomerName|ProductCategory|Amount| OrderDate|DeliveryStatus|Discount|         City|PaymentMode|CustomerSince|HighValue|\n",
            "+-------+--------------+---------------+------+----------+--------------+--------+-------------+-----------+-------------+---------+\n",
            "|   2824| Donald Walker|          Books|783.04|2024-12-26|      Returned|    0.15| Lake Joyside|Credit Card|   2020-10-15|       No|\n",
            "|   7912|  Brandon Hall|      Groceries| 905.0|2024-09-12|     Cancelled|    0.03|New Jamesside|     Wallet|   2022-03-15|      Yes|\n",
            "|   4611|  Donald Booth|        Fashion|657.96|2025-01-12|      Returned|    0.01| Lake Roberto|     Wallet|   2021-08-07|       No|\n",
            "|   3547|Phillip Garcia|        Fashion|606.89|2024-03-24|      Returned|    0.15|         NULL|     Wallet|   2020-08-08|       No|\n",
            "|   8527|  Valerie Gray|           Toys| 77.87|2024-08-04|     Delivered|    0.17|    Mariastad|       Cash|   2022-11-15|       No|\n",
            "+-------+--------------+---------------+------+----------+--------------+--------+-------------+-----------+-------------+---------+\n",
            "only showing top 5 rows\n",
            "\n"
          ]
        }
      ]
    },
    {
      "cell_type": "code",
      "source": [
        "print(\"=== Exercise 6 ===\")\n",
        "df_dates = df.withColumn(\"OrderDate\", F.to_date(F.col(\"OrderDate\"))) \\\n",
        "    .withColumn(\"OrderYear\", F.year(\"OrderDate\")) \\\n",
        "    .withColumn(\"OrderMonth\", F.month(\"OrderDate\")) \\\n",
        "    .withColumn(\"LoyaltyYears\", F.datediff(F.current_date(), F.to_date(F.col(\"CustomerSince\"))) / 365)\n",
        "df_dates.select(\"OrderID\", \"OrderYear\", \"OrderMonth\", \"LoyaltyYears\").show(5)"
      ],
      "metadata": {
        "colab": {
          "base_uri": "https://localhost:8080/"
        },
        "id": "EIeteGjzSqK_",
        "outputId": "00f47e2e-5498-44a5-da94-419518de43e1"
      },
      "execution_count": 10,
      "outputs": [
        {
          "output_type": "stream",
          "name": "stdout",
          "text": [
            "=== Exercise 6 ===\n",
            "+-------+---------+----------+------------------+\n",
            "|OrderID|OrderYear|OrderMonth|      LoyaltyYears|\n",
            "+-------+---------+----------+------------------+\n",
            "|   2824|     2024|        12| 4.635616438356164|\n",
            "|   7912|     2024|         9| 3.221917808219178|\n",
            "|   4611|     2025|         1| 3.824657534246575|\n",
            "|   3547|     2024|         3| 4.821917808219178|\n",
            "|   8527|     2024|         8|2.5506849315068494|\n",
            "+-------+---------+----------+------------------+\n",
            "only showing top 5 rows\n",
            "\n"
          ]
        }
      ]
    },
    {
      "cell_type": "code",
      "source": [
        "print(\"=== Exercise 7 ===\")\n",
        "# Create region mapping\n",
        "regions = spark.createDataFrame(\n",
        "    [(city, [\"North\",\"South\",\"East\",\"West\"][i%4])\n",
        "     for i, city in enumerate(df.select(\"City\").distinct().rdd.flatMap(lambda x: x).collect())],\n",
        "    [\"City\", \"Region\"])\n",
        "\n",
        "# Join examples\n",
        "df.join(regions, \"City\", \"inner\").show(5)\n",
        "df.join(regions, \"City\", \"left\").show(5)\n",
        "\n",
        "# Union example\n",
        "df.filter(F.year(F.to_date(F.col(\"OrderDate\"))) == 2023).union(\n",
        "   df.filter(F.year(F.to_date(F.col(\"OrderDate\"))) == 2024)).count()"
      ],
      "metadata": {
        "colab": {
          "base_uri": "https://localhost:8080/"
        },
        "id": "IaFsMbfFW9Vs",
        "outputId": "aee4922d-1060-4fc5-8f96-8c4d6ca9e629"
      },
      "execution_count": 11,
      "outputs": [
        {
          "output_type": "stream",
          "name": "stdout",
          "text": [
            "=== Exercise 7 ===\n",
            "+----------------+-------+------------------+---------------+------+----------+--------------+--------+-----------+-------------+------+\n",
            "|            City|OrderID|      CustomerName|ProductCategory|Amount| OrderDate|DeliveryStatus|Discount|PaymentMode|CustomerSince|Region|\n",
            "+----------------+-------+------------------+---------------+------+----------+--------------+--------+-----------+-------------+------+\n",
            "|     Ramseymouth|   4613|     Don Tucker MD|           Toys|761.06|2024-11-03|      Returned|    0.03|Credit Card|   2020-12-17| North|\n",
            "|East Edwardshire|   8827|    Austin Vasquez|          Books|291.26|2024-08-24|      Returned|    0.21|     Wallet|   2021-09-16| South|\n",
            "|      Thomasberg|   6155|Jonathan Wilkerson|        Fashion|882.68|2024-10-14|     Cancelled|    0.27|       Cash|   2021-06-20|  East|\n",
            "|     Laurenville|   1046|    William Huerta|      Groceries|383.26|2024-07-26|     Delivered|    0.16|     Wallet|   2023-03-25|  West|\n",
            "| South Colinstad|   3500|        Kara Davis|           Toys|786.27|2023-08-08|      Returned|     0.2|Credit Card|   2020-12-21| North|\n",
            "+----------------+-------+------------------+---------------+------+----------+--------------+--------+-----------+-------------+------+\n",
            "only showing top 5 rows\n",
            "\n",
            "+-------------+-------+--------------+---------------+------+----------+--------------+--------+-----------+-------------+------+\n",
            "|         City|OrderID|  CustomerName|ProductCategory|Amount| OrderDate|DeliveryStatus|Discount|PaymentMode|CustomerSince|Region|\n",
            "+-------------+-------+--------------+---------------+------+----------+--------------+--------+-----------+-------------+------+\n",
            "|         NULL|   3547|Phillip Garcia|        Fashion|606.89|2024-03-24|      Returned|    0.15|     Wallet|   2020-08-08|  NULL|\n",
            "| Lake Joyside|   2824| Donald Walker|          Books|783.04|2024-12-26|      Returned|    0.15|Credit Card|   2020-10-15| South|\n",
            "| Lake Roberto|   4611|  Donald Booth|        Fashion|657.96|2025-01-12|      Returned|    0.01|     Wallet|   2021-08-07|  East|\n",
            "|    Mariastad|   8527|  Valerie Gray|           Toys| 77.87|2024-08-04|     Delivered|    0.17|       Cash|   2022-11-15|  East|\n",
            "|New Jamesside|   7912|  Brandon Hall|      Groceries| 905.0|2024-09-12|     Cancelled|    0.03|     Wallet|   2022-03-15|  West|\n",
            "+-------------+-------+--------------+---------------+------+----------+--------------+--------+-----------+-------------+------+\n",
            "only showing top 5 rows\n",
            "\n"
          ]
        },
        {
          "output_type": "execute_result",
          "data": {
            "text/plain": [
              "401"
            ]
          },
          "metadata": {},
          "execution_count": 11
        }
      ]
    },
    {
      "source": [
        "print(\"=== Exercise 8 ===\")\n",
        "df_json = df.withColumn(\"OrderJSON\", F.to_json(F.struct([F.col(c) for c in df.columns])))\n",
        "df_json.select(\"OrderJSON\").show(2, truncate=False)\n",
        "\n",
        "# Access JSON fields\n",
        "# Read the JSON strings into a new DataFrame\n",
        "df_parsed_json = spark.read.json(df_json.select(\"OrderJSON\").rdd.map(lambda x: x[0]))\n",
        "\n",
        "# Select the desired field (CustomerName) directly from the parsed DataFrame\n",
        "df_parsed_json.select(\"CustomerName\").alias(\"Name\").show(5)"
      ],
      "cell_type": "code",
      "metadata": {
        "colab": {
          "base_uri": "https://localhost:8080/"
        },
        "id": "0BXfQPMcXKAQ",
        "outputId": "240b45bb-15b8-4bd2-c769-1ab6182d6796"
      },
      "execution_count": 13,
      "outputs": [
        {
          "output_type": "stream",
          "name": "stdout",
          "text": [
            "=== Exercise 8 ===\n",
            "+---------------------------------------------------------------------------------------------------------------------------------------------------------------------------------------------------------------------------------------------+\n",
            "|OrderJSON                                                                                                                                                                                                                                    |\n",
            "+---------------------------------------------------------------------------------------------------------------------------------------------------------------------------------------------------------------------------------------------+\n",
            "|{\"OrderID\":2824,\"CustomerName\":\"Donald Walker\",\"ProductCategory\":\"Books\",\"Amount\":783.04,\"OrderDate\":\"2024-12-26\",\"DeliveryStatus\":\"Returned\",\"Discount\":0.15,\"City\":\"Lake Joyside\",\"PaymentMode\":\"Credit Card\",\"CustomerSince\":\"2020-10-15\"}|\n",
            "|{\"OrderID\":7912,\"CustomerName\":\"Brandon Hall\",\"ProductCategory\":\"Groceries\",\"Amount\":905.0,\"OrderDate\":\"2024-09-12\",\"DeliveryStatus\":\"Cancelled\",\"Discount\":0.03,\"City\":\"New Jamesside\",\"PaymentMode\":\"Wallet\",\"CustomerSince\":\"2022-03-15\"} |\n",
            "+---------------------------------------------------------------------------------------------------------------------------------------------------------------------------------------------------------------------------------------------+\n",
            "only showing top 2 rows\n",
            "\n",
            "+--------------+\n",
            "|  CustomerName|\n",
            "+--------------+\n",
            "| Donald Walker|\n",
            "|  Brandon Hall|\n",
            "|  Donald Booth|\n",
            "|Phillip Garcia|\n",
            "|  Valerie Gray|\n",
            "+--------------+\n",
            "only showing top 5 rows\n",
            "\n"
          ]
        }
      ]
    },
    {
      "cell_type": "code",
      "source": [
        "print(\"=== Exercise 9 ===\")\n",
        "categorize_udf = F.udf(lambda amt: \"Big\" if amt>800 else \"Medium\" if amt>500 else \"Small\")\n",
        "df.withColumn(\"OrderSize\", categorize_udf(F.col(\"Amount\"))).select(\"OrderID\", \"Amount\", \"OrderSize\").show(10)"
      ],
      "metadata": {
        "colab": {
          "base_uri": "https://localhost:8080/"
        },
        "id": "L8Y-f-MBXE18",
        "outputId": "aeabe9a7-0ecb-4f06-e1b1-ae0d8abf038e"
      },
      "execution_count": 14,
      "outputs": [
        {
          "output_type": "stream",
          "name": "stdout",
          "text": [
            "=== Exercise 9 ===\n",
            "+-------+------+---------+\n",
            "|OrderID|Amount|OrderSize|\n",
            "+-------+------+---------+\n",
            "|   2824|783.04|   Medium|\n",
            "|   7912| 905.0|      Big|\n",
            "|   4611|657.96|   Medium|\n",
            "|   3547|606.89|   Medium|\n",
            "|   8527| 77.87|    Small|\n",
            "|   4150|352.37|    Small|\n",
            "|   5554|148.33|    Small|\n",
            "|   2169| 14.09|    Small|\n",
            "|   6313| 79.83|    Small|\n",
            "|   6155|882.68|      Big|\n",
            "+-------+------+---------+\n",
            "only showing top 10 rows\n",
            "\n"
          ]
        }
      ]
    },
    {
      "cell_type": "code",
      "source": [
        "spark.stop()"
      ],
      "metadata": {
        "id": "2N-8TaoqXRkj"
      },
      "execution_count": 15,
      "outputs": []
    }
  ]
}