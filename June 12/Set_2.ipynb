{
  "nbformat": 4,
  "nbformat_minor": 0,
  "metadata": {
    "colab": {
      "provenance": []
    },
    "kernelspec": {
      "name": "python3",
      "display_name": "Python 3"
    },
    "language_info": {
      "name": "python"
    }
  },
  "cells": [
    {
      "cell_type": "code",
      "execution_count": 2,
      "metadata": {
        "id": "fQAEkSfXycE6"
      },
      "outputs": [],
      "source": [
        "from pyspark.sql import SparkSession\n",
        "from pyspark.sql.functions import col, to_timestamp, minute, avg, count, max, sum, row_number\n",
        "from pyspark.sql.window import Window\n",
        "\n",
        "spark = SparkSession.builder.appName(\"WebTrafficAnalysis\").getOrCreate()"
      ]
    },
    {
      "cell_type": "code",
      "source": [
        "from datetime import datetime\n",
        "from pyspark.sql import Row\n",
        "\n",
        "web_data = [\n",
        "    Row(UserID=1, Page=\"Home\", Timestamp=\"2024-06-12 10:00:00\", Duration=35, Device=\"Mobile\", Country=\"India\"),\n",
        "    Row(UserID=2, Page=\"Products\", Timestamp=\"2024-06-12 10:02:00\", Duration=120, Device=\"Desktop\", Country=\"USA\"),\n",
        "    Row(UserID=3, Page=\"Cart\", Timestamp=\"2024-06-12 10:05:00\", Duration=45, Device=\"Tablet\", Country=\"UK\"),\n",
        "    Row(UserID=1, Page=\"Checkout\", Timestamp=\"2024-06-12 10:08:00\", Duration=60, Device=\"Mobile\", Country=\"India\"),\n",
        "    Row(UserID=4, Page=\"Home\", Timestamp=\"2024-06-12 10:10:00\", Duration=15, Device=\"Mobile\", Country=\"Canada\"),\n",
        "    Row(UserID=2, Page=\"Contact\", Timestamp=\"2024-06-12 10:15:00\", Duration=25, Device=\"Desktop\", Country=\"USA\"),\n",
        "    Row(UserID=5, Page=\"Products\", Timestamp=\"2024-06-12 10:20:00\", Duration=90, Device=\"Desktop\", Country=\"India\"),\n",
        "]\n",
        "\n",
        "df_web = spark.createDataFrame(web_data)\n",
        "df_web.show(truncate=False)"
      ],
      "metadata": {
        "colab": {
          "base_uri": "https://localhost:8080/"
        },
        "id": "nB53YOsAzhic",
        "outputId": "5e938c02-906b-40a9-cf3c-2d5afbdc69d1"
      },
      "execution_count": 3,
      "outputs": [
        {
          "output_type": "stream",
          "name": "stdout",
          "text": [
            "+------+--------+-------------------+--------+-------+-------+\n",
            "|UserID|Page    |Timestamp          |Duration|Device |Country|\n",
            "+------+--------+-------------------+--------+-------+-------+\n",
            "|1     |Home    |2024-06-12 10:00:00|35      |Mobile |India  |\n",
            "|2     |Products|2024-06-12 10:02:00|120     |Desktop|USA    |\n",
            "|3     |Cart    |2024-06-12 10:05:00|45      |Tablet |UK     |\n",
            "|1     |Checkout|2024-06-12 10:08:00|60      |Mobile |India  |\n",
            "|4     |Home    |2024-06-12 10:10:00|15      |Mobile |Canada |\n",
            "|2     |Contact |2024-06-12 10:15:00|25      |Desktop|USA    |\n",
            "|5     |Products|2024-06-12 10:20:00|90      |Desktop|India  |\n",
            "+------+--------+-------------------+--------+-------+-------+\n",
            "\n"
          ]
        }
      ]
    },
    {
      "cell_type": "code",
      "source": [
        "# 1. Display schema\n",
        "df_web.printSchema()\n",
        "\n",
        "# 2. Convert Timestamp to proper type\n",
        "df_web = df_web.withColumn(\"Timestamp\", to_timestamp(\"Timestamp\", \"yyyy-MM-dd HH:mm:ss\"))\n",
        "df_web.show()\n",
        "\n",
        "# 3. Add SessionMinute column\n",
        "df_web = df_web.withColumn(\"SessionMinute\", minute(\"Timestamp\"))\n",
        "df_web.show()"
      ],
      "metadata": {
        "colab": {
          "base_uri": "https://localhost:8080/"
        },
        "id": "pCL32HZvzhk5",
        "outputId": "a3a7e304-5cd8-4058-bffe-a1331ba27a67"
      },
      "execution_count": 4,
      "outputs": [
        {
          "output_type": "stream",
          "name": "stdout",
          "text": [
            "root\n",
            " |-- UserID: long (nullable = true)\n",
            " |-- Page: string (nullable = true)\n",
            " |-- Timestamp: string (nullable = true)\n",
            " |-- Duration: long (nullable = true)\n",
            " |-- Device: string (nullable = true)\n",
            " |-- Country: string (nullable = true)\n",
            "\n",
            "+------+--------+-------------------+--------+-------+-------+\n",
            "|UserID|    Page|          Timestamp|Duration| Device|Country|\n",
            "+------+--------+-------------------+--------+-------+-------+\n",
            "|     1|    Home|2024-06-12 10:00:00|      35| Mobile|  India|\n",
            "|     2|Products|2024-06-12 10:02:00|     120|Desktop|    USA|\n",
            "|     3|    Cart|2024-06-12 10:05:00|      45| Tablet|     UK|\n",
            "|     1|Checkout|2024-06-12 10:08:00|      60| Mobile|  India|\n",
            "|     4|    Home|2024-06-12 10:10:00|      15| Mobile| Canada|\n",
            "|     2| Contact|2024-06-12 10:15:00|      25|Desktop|    USA|\n",
            "|     5|Products|2024-06-12 10:20:00|      90|Desktop|  India|\n",
            "+------+--------+-------------------+--------+-------+-------+\n",
            "\n",
            "+------+--------+-------------------+--------+-------+-------+-------------+\n",
            "|UserID|    Page|          Timestamp|Duration| Device|Country|SessionMinute|\n",
            "+------+--------+-------------------+--------+-------+-------+-------------+\n",
            "|     1|    Home|2024-06-12 10:00:00|      35| Mobile|  India|            0|\n",
            "|     2|Products|2024-06-12 10:02:00|     120|Desktop|    USA|            2|\n",
            "|     3|    Cart|2024-06-12 10:05:00|      45| Tablet|     UK|            5|\n",
            "|     1|Checkout|2024-06-12 10:08:00|      60| Mobile|  India|            8|\n",
            "|     4|    Home|2024-06-12 10:10:00|      15| Mobile| Canada|           10|\n",
            "|     2| Contact|2024-06-12 10:15:00|      25|Desktop|    USA|           15|\n",
            "|     5|Products|2024-06-12 10:20:00|      90|Desktop|  India|           20|\n",
            "+------+--------+-------------------+--------+-------+-------+-------------+\n",
            "\n"
          ]
        }
      ]
    },
    {
      "cell_type": "code",
      "source": [
        "# 4. Mobile users on Checkout page\n",
        "df_web.filter((df_web.Device == \"Mobile\") & (df_web.Page == \"Checkout\")).show()\n",
        "\n",
        "# 5. Sessions > 60 seconds\n",
        "df_web.filter(df_web.Duration > 60).show()\n",
        "\n",
        "# 6. Indian users on Products page\n",
        "df_web.filter((df_web.Country == \"India\") & (df_web.Page == \"Products\")).show()"
      ],
      "metadata": {
        "colab": {
          "base_uri": "https://localhost:8080/"
        },
        "id": "KoK4JFEezhnF",
        "outputId": "d376a4d1-ec0f-49df-95ba-493a59dfbb8c"
      },
      "execution_count": 5,
      "outputs": [
        {
          "output_type": "stream",
          "name": "stdout",
          "text": [
            "+------+--------+-------------------+--------+------+-------+-------------+\n",
            "|UserID|    Page|          Timestamp|Duration|Device|Country|SessionMinute|\n",
            "+------+--------+-------------------+--------+------+-------+-------------+\n",
            "|     1|Checkout|2024-06-12 10:08:00|      60|Mobile|  India|            8|\n",
            "+------+--------+-------------------+--------+------+-------+-------------+\n",
            "\n",
            "+------+--------+-------------------+--------+-------+-------+-------------+\n",
            "|UserID|    Page|          Timestamp|Duration| Device|Country|SessionMinute|\n",
            "+------+--------+-------------------+--------+-------+-------+-------------+\n",
            "|     2|Products|2024-06-12 10:02:00|     120|Desktop|    USA|            2|\n",
            "|     5|Products|2024-06-12 10:20:00|      90|Desktop|  India|           20|\n",
            "+------+--------+-------------------+--------+-------+-------+-------------+\n",
            "\n",
            "+------+--------+-------------------+--------+-------+-------+-------------+\n",
            "|UserID|    Page|          Timestamp|Duration| Device|Country|SessionMinute|\n",
            "+------+--------+-------------------+--------+-------+-------+-------------+\n",
            "|     5|Products|2024-06-12 10:20:00|      90|Desktop|  India|           20|\n",
            "+------+--------+-------------------+--------+-------+-------+-------------+\n",
            "\n"
          ]
        }
      ]
    },
    {
      "cell_type": "code",
      "source": [
        "# 7. Avg duration per device\n",
        "df_web.groupBy(\"Device\").agg(avg(\"Duration\").alias(\"AvgDuration\")).show()\n",
        "\n",
        "# 8. Sessions per country\n",
        "df_web.groupBy(\"Country\").agg(count(\"UserID\").alias(\"SessionCount\")).show()\n",
        "\n",
        "# 9. Max duration per page\n",
        "df_web.groupBy(\"Page\").agg(max(\"Duration\").alias(\"MaxDuration\")).show()"
      ],
      "metadata": {
        "colab": {
          "base_uri": "https://localhost:8080/"
        },
        "id": "mv4b4rn7ztUN",
        "outputId": "e7d62a86-8d18-46dc-9524-16369f847c62"
      },
      "execution_count": 6,
      "outputs": [
        {
          "output_type": "stream",
          "name": "stdout",
          "text": [
            "+-------+------------------+\n",
            "| Device|       AvgDuration|\n",
            "+-------+------------------+\n",
            "| Mobile|36.666666666666664|\n",
            "| Tablet|              45.0|\n",
            "|Desktop| 78.33333333333333|\n",
            "+-------+------------------+\n",
            "\n",
            "+-------+------------+\n",
            "|Country|SessionCount|\n",
            "+-------+------------+\n",
            "|  India|           3|\n",
            "|    USA|           2|\n",
            "|     UK|           1|\n",
            "| Canada|           1|\n",
            "+-------+------------+\n",
            "\n",
            "+--------+-----------+\n",
            "|    Page|MaxDuration|\n",
            "+--------+-----------+\n",
            "|    Cart|         45|\n",
            "|    Home|         35|\n",
            "|Products|        120|\n",
            "|Checkout|         60|\n",
            "| Contact|         25|\n",
            "+--------+-----------+\n",
            "\n"
          ]
        }
      ]
    },
    {
      "cell_type": "code",
      "source": [
        "# 10. Rank pages by timestamp per user\n",
        "user_window = Window.partitionBy(\"UserID\").orderBy(\"Timestamp\")\n",
        "df_web = df_web.withColumn(\"PageRank\", row_number().over(user_window))\n",
        "df_web.show()\n",
        "\n",
        "# 11. Total duration per user\n",
        "df_web.groupBy(\"UserID\").agg(sum(\"Duration\").alias(\"TotalDuration\")).show()"
      ],
      "metadata": {
        "colab": {
          "base_uri": "https://localhost:8080/"
        },
        "id": "3ZblEijOzhpp",
        "outputId": "18368ad6-e988-4ae6-bc8f-75b230b853bc"
      },
      "execution_count": 7,
      "outputs": [
        {
          "output_type": "stream",
          "name": "stdout",
          "text": [
            "+------+--------+-------------------+--------+-------+-------+-------------+--------+\n",
            "|UserID|    Page|          Timestamp|Duration| Device|Country|SessionMinute|PageRank|\n",
            "+------+--------+-------------------+--------+-------+-------+-------------+--------+\n",
            "|     1|    Home|2024-06-12 10:00:00|      35| Mobile|  India|            0|       1|\n",
            "|     1|Checkout|2024-06-12 10:08:00|      60| Mobile|  India|            8|       2|\n",
            "|     2|Products|2024-06-12 10:02:00|     120|Desktop|    USA|            2|       1|\n",
            "|     2| Contact|2024-06-12 10:15:00|      25|Desktop|    USA|           15|       2|\n",
            "|     3|    Cart|2024-06-12 10:05:00|      45| Tablet|     UK|            5|       1|\n",
            "|     4|    Home|2024-06-12 10:10:00|      15| Mobile| Canada|           10|       1|\n",
            "|     5|Products|2024-06-12 10:20:00|      90|Desktop|  India|           20|       1|\n",
            "+------+--------+-------------------+--------+-------+-------+-------------+--------+\n",
            "\n",
            "+------+-------------+\n",
            "|UserID|TotalDuration|\n",
            "+------+-------------+\n",
            "|     1|           95|\n",
            "|     3|           45|\n",
            "|     2|          145|\n",
            "|     5|           90|\n",
            "|     4|           15|\n",
            "+------+-------------+\n",
            "\n"
          ]
        }
      ]
    },
    {
      "cell_type": "code",
      "source": [
        "# 12. Create temporary view\n",
        "df_web.createOrReplaceTempView(\"traffic_view\")\n",
        "\n",
        "# 13. Top 2 longest sessions\n",
        "spark.sql(\"SELECT * FROM traffic_view ORDER BY Duration DESC LIMIT 2\").show()\n",
        "\n",
        "# 14. Unique users per page\n",
        "spark.sql(\"SELECT Page, COUNT(DISTINCT UserID) AS UniqueUsers FROM traffic_view GROUP BY Page\").show()"
      ],
      "metadata": {
        "colab": {
          "base_uri": "https://localhost:8080/"
        },
        "id": "4PYFt52-zxA9",
        "outputId": "82564632-66db-4381-e727-ff0be54e6430"
      },
      "execution_count": 8,
      "outputs": [
        {
          "output_type": "stream",
          "name": "stdout",
          "text": [
            "+------+--------+-------------------+--------+-------+-------+-------------+--------+\n",
            "|UserID|    Page|          Timestamp|Duration| Device|Country|SessionMinute|PageRank|\n",
            "+------+--------+-------------------+--------+-------+-------+-------------+--------+\n",
            "|     2|Products|2024-06-12 10:02:00|     120|Desktop|    USA|            2|       1|\n",
            "|     5|Products|2024-06-12 10:20:00|      90|Desktop|  India|           20|       1|\n",
            "+------+--------+-------------------+--------+-------+-------+-------------+--------+\n",
            "\n",
            "+--------+-----------+\n",
            "|    Page|UniqueUsers|\n",
            "+--------+-----------+\n",
            "|    Cart|          1|\n",
            "|    Home|          2|\n",
            "|Checkout|          1|\n",
            "|Products|          2|\n",
            "| Contact|          1|\n",
            "+--------+-----------+\n",
            "\n"
          ]
        }
      ]
    },
    {
      "cell_type": "code",
      "source": [
        "# For CSV\n",
        "df_web.write.mode(\"overwrite\").option(\"header\", True).csv(\"/content/drive/MyDrive/web_traffic_csv\")\n",
        "\n",
        "# For Parquet\n",
        "df_web.write.mode(\"overwrite\").partitionBy(\"Country\").parquet(\"/content/drive/MyDrive/web_traffic_parquet\")"
      ],
      "metadata": {
        "id": "vpg1u6FfzxEj"
      },
      "execution_count": 11,
      "outputs": []
    },
    {
      "cell_type": "code",
      "source": [
        "from google.colab import drive\n",
        "drive.mount('/content/drive')"
      ],
      "metadata": {
        "colab": {
          "base_uri": "https://localhost:8080/"
        },
        "id": "WQ7ukPL-0z9F",
        "outputId": "ca1441f4-2061-41fa-ed6d-d6f6125646c5"
      },
      "execution_count": 10,
      "outputs": [
        {
          "output_type": "stream",
          "name": "stdout",
          "text": [
            "Mounted at /content/drive\n"
          ]
        }
      ]
    }
  ]
}