{
  "nbformat": 4,
  "nbformat_minor": 0,
  "metadata": {
    "colab": {
      "provenance": []
    },
    "kernelspec": {
      "name": "python3",
      "display_name": "Python 3"
    },
    "language_info": {
      "name": "python"
    }
  },
  "cells": [
    {
      "cell_type": "code",
      "execution_count": 1,
      "metadata": {
        "colab": {
          "base_uri": "https://localhost:8080/"
        },
        "id": "OxmLACnKxZfC",
        "outputId": "b5a2a46f-41cb-41ab-b1f2-fdc82674a62d"
      },
      "outputs": [
        {
          "output_type": "stream",
          "name": "stdout",
          "text": [
            "+-------+--------+--------------------------------------------------------------+------+------+\n",
            "|OrderID|Customer|Items                                                         |Region|Amount|\n",
            "+-------+--------+--------------------------------------------------------------+------+------+\n",
            "|101    |Ali     |[{Product -> Laptop, Qty -> 1}, {Product -> Mouse, Qty -> 2}] |Asia  |1200.0|\n",
            "|102    |Zara    |[{Product -> Tablet, Qty -> 1}]                               |Europe|650.0 |\n",
            "|103    |Mohan   |[{Product -> Phone, Qty -> 2}, {Product -> Charger, Qty -> 1}]|Asia  |890.0 |\n",
            "|104    |Sara    |[{Product -> Desk, Qty -> 1}]                                 |US    |450.0 |\n",
            "+-------+--------+--------------------------------------------------------------+------+------+\n",
            "\n"
          ]
        }
      ],
      "source": [
        "from pyspark.sql import SparkSession\n",
        "spark = SparkSession.builder.appName(\"SalesDataAnalysis\").getOrCreate()\n",
        "\n",
        "from pyspark.sql import Row\n",
        "data = [\n",
        "    Row(OrderID=101, Customer=\"Ali\", Items=[{\"Product\":\"Laptop\", \"Qty\":1}, {\"Product\":\"Mouse\", \"Qty\":2}], Region=\"Asia\", Amount=1200.0),\n",
        "    Row(OrderID=102, Customer=\"Zara\", Items=[{\"Product\":\"Tablet\", \"Qty\":1}], Region=\"Europe\", Amount=650.0),\n",
        "    Row(OrderID=103, Customer=\"Mohan\", Items=[{\"Product\":\"Phone\", \"Qty\":2}, {\"Product\":\"Charger\", \"Qty\":1}], Region=\"Asia\", Amount=890.0),\n",
        "    Row(OrderID=104, Customer=\"Sara\", Items=[{\"Product\":\"Desk\", \"Qty\":1}], Region=\"US\", Amount=450.0)\n",
        "]\n",
        "\n",
        "df_sales = spark.createDataFrame(data)\n",
        "df_sales.show(truncate=False)"
      ]
    },
    {
      "cell_type": "code",
      "source": [
        "from pyspark.sql.functions import explode, sum, countDistinct\n",
        "\n",
        "# Exercise 1: Flatten Items\n",
        "df_flat = df_sales.withColumn(\"Item\", explode(\"Items\"))\n",
        "df_flat = df_flat.select(\"OrderID\", \"Item.Product\", \"Item.Qty\", \"Region\")\n",
        "df_flat.show()\n",
        "\n",
        "# Exercise 2: Total quantity per product\n",
        "df_flat.groupBy(\"Product\").agg(sum(\"Qty\").alias(\"TotalQuantity\")).show()\n",
        "\n",
        "# Exercise 3: Orders per region\n",
        "df_sales.groupBy(\"Region\").agg(countDistinct(\"OrderID\").alias(\"OrderCount\")).show()"
      ],
      "metadata": {
        "colab": {
          "base_uri": "https://localhost:8080/"
        },
        "id": "c76tF7Dlxc8B",
        "outputId": "5e60308a-f228-4093-d101-f161ed90189e"
      },
      "execution_count": 2,
      "outputs": [
        {
          "output_type": "stream",
          "name": "stdout",
          "text": [
            "+-------+-------+---+------+\n",
            "|OrderID|Product|Qty|Region|\n",
            "+-------+-------+---+------+\n",
            "|    101| Laptop|  1|  Asia|\n",
            "|    101|  Mouse|  2|  Asia|\n",
            "|    102| Tablet|  1|Europe|\n",
            "|    103|  Phone|  2|  Asia|\n",
            "|    103|Charger|  1|  Asia|\n",
            "|    104|   Desk|  1|    US|\n",
            "+-------+-------+---+------+\n",
            "\n",
            "+-------+-------------+\n",
            "|Product|TotalQuantity|\n",
            "+-------+-------------+\n",
            "| Laptop|          1.0|\n",
            "|  Mouse|          2.0|\n",
            "| Tablet|          1.0|\n",
            "|   Desk|          1.0|\n",
            "|  Phone|          2.0|\n",
            "|Charger|          1.0|\n",
            "+-------+-------------+\n",
            "\n",
            "+------+----------+\n",
            "|Region|OrderCount|\n",
            "+------+----------+\n",
            "|Europe|         1|\n",
            "|    US|         1|\n",
            "|  Asia|         2|\n",
            "+------+----------+\n",
            "\n"
          ]
        }
      ]
    },
    {
      "cell_type": "code",
      "source": [
        "from pyspark.sql.functions import when\n",
        "\n",
        "# Exercise 4: HighValueOrder\n",
        "df_sales = df_sales.withColumn(\n",
        "    \"HighValueOrder\",\n",
        "    when(df_sales[\"Amount\"] > 1000, \"Yes\").otherwise(\"No\")\n",
        ")\n",
        "\n",
        "# Exercise 5: ShippingZone\n",
        "df_sales = df_sales.withColumn(\n",
        "    \"ShippingZone\",\n",
        "    when(df_sales[\"Region\"] == \"Asia\", \"Zone A\")\n",
        "    .when(df_sales[\"Region\"] == \"Europe\", \"Zone B\")\n",
        "    .when(df_sales[\"Region\"] == \"US\", \"Zone C\")\n",
        ")\n",
        "\n",
        "df_sales.show()"
      ],
      "metadata": {
        "colab": {
          "base_uri": "https://localhost:8080/"
        },
        "id": "3GOLAzHfxc-j",
        "outputId": "5730d2d2-c487-4147-86c8-6aed331c52c7"
      },
      "execution_count": 3,
      "outputs": [
        {
          "output_type": "stream",
          "name": "stdout",
          "text": [
            "+-------+--------+--------------------+------+------+--------------+------------+\n",
            "|OrderID|Customer|               Items|Region|Amount|HighValueOrder|ShippingZone|\n",
            "+-------+--------+--------------------+------+------+--------------+------------+\n",
            "|    101|     Ali|[{Product -> Lapt...|  Asia|1200.0|           Yes|      Zone A|\n",
            "|    102|    Zara|[{Product -> Tabl...|Europe| 650.0|            No|      Zone B|\n",
            "|    103|   Mohan|[{Product -> Phon...|  Asia| 890.0|            No|      Zone A|\n",
            "|    104|    Sara|[{Product -> Desk...|    US| 450.0|            No|      Zone C|\n",
            "+-------+--------+--------------------+------+------+--------------+------------+\n",
            "\n"
          ]
        }
      ]
    },
    {
      "cell_type": "code",
      "source": [
        "# Exercise 6: Temporary view\n",
        "df_sales.createOrReplaceTempView(\"sales_view\")\n",
        "\n",
        "# Exercise 7: Region stats (SQL)\n",
        "spark.sql(\"\"\"\n",
        "  SELECT Region,\n",
        "         COUNT(*) AS OrderCount,\n",
        "         AVG(Amount) AS AvgAmount\n",
        "  FROM sales_view\n",
        "  GROUP BY Region\n",
        "\"\"\").show()\n",
        "\n",
        "# Exercise 8: Permanent table\n",
        "df_sales.write.mode(\"overwrite\").saveAsTable(\"sales_permanent_table\")\n",
        "\n",
        "# Exercise 9: Filter orders with >1 item\n",
        "spark.sql(\"SELECT * FROM sales_view WHERE size(Items) > 1\").show()\n",
        "\n",
        "# Exercise 10: Customers with Amount > 800\n",
        "spark.sql(\"SELECT Customer FROM sales_view WHERE Amount > 800\").show()"
      ],
      "metadata": {
        "colab": {
          "base_uri": "https://localhost:8080/"
        },
        "id": "Lsn2GYHuxdBE",
        "outputId": "e5e6cf8b-4e2e-429c-ae99-6ec03c5117c5"
      },
      "execution_count": 4,
      "outputs": [
        {
          "output_type": "stream",
          "name": "stdout",
          "text": [
            "+------+----------+---------+\n",
            "|Region|OrderCount|AvgAmount|\n",
            "+------+----------+---------+\n",
            "|Europe|         1|    650.0|\n",
            "|  Asia|         2|   1045.0|\n",
            "|    US|         1|    450.0|\n",
            "+------+----------+---------+\n",
            "\n",
            "+-------+--------+--------------------+------+------+--------------+------------+\n",
            "|OrderID|Customer|               Items|Region|Amount|HighValueOrder|ShippingZone|\n",
            "+-------+--------+--------------------+------+------+--------------+------------+\n",
            "|    101|     Ali|[{Product -> Lapt...|  Asia|1200.0|           Yes|      Zone A|\n",
            "|    103|   Mohan|[{Product -> Phon...|  Asia| 890.0|            No|      Zone A|\n",
            "+-------+--------+--------------------+------+------+--------------+------------+\n",
            "\n",
            "+--------+\n",
            "|Customer|\n",
            "+--------+\n",
            "|     Ali|\n",
            "|   Mohan|\n",
            "+--------+\n",
            "\n"
          ]
        }
      ]
    },
    {
      "cell_type": "code",
      "source": [
        "# Exercise 11: Save as Parquet (partitioned)\n",
        "df_flat.write.mode(\"overwrite\").partitionBy(\"Region\").parquet(\"/content/drive/MyDrive/sales_products_partitioned\")\n",
        "\n",
        "# Exercise 12: Read back and group by Product\n",
        "df_parquet = spark.read.parquet(\"/content/drive/MyDrive/sales_products_partitioned\")\n",
        "df_parquet.groupBy(\"Product\").agg(sum(\"Qty\").alias(\"TotalQuantity\")).show()"
      ],
      "metadata": {
        "colab": {
          "base_uri": "https://localhost:8080/"
        },
        "id": "aHwXV7R7xdEf",
        "outputId": "f9d904a1-4bde-4bfb-d2ac-b2afdbfd0ab1"
      },
      "execution_count": 7,
      "outputs": [
        {
          "output_type": "stream",
          "name": "stdout",
          "text": [
            "+-------+-------------+\n",
            "|Product|TotalQuantity|\n",
            "+-------+-------------+\n",
            "|  Phone|          2.0|\n",
            "| Laptop|          1.0|\n",
            "|Charger|          1.0|\n",
            "|  Mouse|          2.0|\n",
            "|   Desk|          1.0|\n",
            "| Tablet|          1.0|\n",
            "+-------+-------------+\n",
            "\n"
          ]
        }
      ]
    },
    {
      "cell_type": "code",
      "source": [
        "from google.colab import drive\n",
        "drive.mount('/content/drive')"
      ],
      "metadata": {
        "colab": {
          "base_uri": "https://localhost:8080/"
        },
        "id": "7kVcZxAA1cOy",
        "outputId": "5e5082eb-cb44-4cf5-c5c1-073a5e09b58b"
      },
      "execution_count": 6,
      "outputs": [
        {
          "output_type": "stream",
          "name": "stdout",
          "text": [
            "Mounted at /content/drive\n"
          ]
        }
      ]
    }
  ]
}