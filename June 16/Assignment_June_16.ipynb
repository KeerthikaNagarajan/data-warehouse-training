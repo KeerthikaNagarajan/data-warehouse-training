{
  "nbformat": 4,
  "nbformat_minor": 0,
  "metadata": {
    "colab": {
      "provenance": []
    },
    "kernelspec": {
      "name": "python3",
      "display_name": "Python 3"
    },
    "language_info": {
      "name": "python"
    }
  },
  "cells": [
    {
      "cell_type": "code",
      "execution_count": 1,
      "metadata": {
        "colab": {
          "base_uri": "https://localhost:8080/"
        },
        "id": "S7Gtv3ZsE-5o",
        "outputId": "548a9910-d006-4bc7-df61-e026245f4b5c"
      },
      "outputs": [
        {
          "output_type": "stream",
          "name": "stdout",
          "text": [
            "Requirement already satisfied: pyspark in /usr/local/lib/python3.11/dist-packages (3.5.1)\n",
            "Requirement already satisfied: py4j==0.10.9.7 in /usr/local/lib/python3.11/dist-packages (from pyspark) (0.10.9.7)\n"
          ]
        }
      ],
      "source": [
        "!pip install pyspark\n",
        "from pyspark.sql import SparkSession\n",
        "from pyspark.sql.types import *\n",
        "from pyspark.sql.functions import *\n",
        "\n",
        "# Initialize Spark Session\n",
        "spark = SparkSession.builder.appName(\"CourseAnalysis\").getOrCreate()"
      ]
    },
    {
      "cell_type": "code",
      "source": [
        "# Load with schema inference\n",
        "inferred_df = spark.read.option(\"header\", True).csv(\"course_enrollments.csv\")\n",
        "print(\"Inferred Schema:\")\n",
        "inferred_df.printSchema()"
      ],
      "metadata": {
        "colab": {
          "base_uri": "https://localhost:8080/"
        },
        "id": "8d8pBpf2FAhg",
        "outputId": "47187d0c-2931-4c24-cb8c-111c909cd1c4"
      },
      "execution_count": 2,
      "outputs": [
        {
          "output_type": "stream",
          "name": "stdout",
          "text": [
            "Inferred Schema:\n",
            "root\n",
            " |-- EnrollmentID: string (nullable = true)\n",
            " |-- StudentName: string (nullable = true)\n",
            " |-- CourseName: string (nullable = true)\n",
            " |-- Category: string (nullable = true)\n",
            " |-- EnrollDate: string (nullable = true)\n",
            " |-- ProgressPercent: string (nullable = true)\n",
            " |-- Rating: string (nullable = true)\n",
            " |-- Status: string (nullable = true)\n",
            "\n"
          ]
        }
      ]
    },
    {
      "cell_type": "code",
      "source": [
        "# Define schema manually\n",
        "manual_schema = StructType([\n",
        "    StructField(\"EnrollmentID\", StringType(), True),\n",
        "    StructField(\"StudentName\", StringType(), True),\n",
        "    StructField(\"CourseName\", StringType(), True),\n",
        "    StructField(\"Category\", StringType(), True),\n",
        "    StructField(\"EnrollDate\", DateType(), True),\n",
        "    StructField(\"ProgressPercent\", IntegerType(), True),\n",
        "    StructField(\"Rating\", DoubleType(), True),\n",
        "    StructField(\"Status\", StringType(), True)\n",
        "])\n",
        "\n",
        "# Load data with manual schema\n",
        "manual_df = spark.read.option(\"header\", True).schema(manual_schema).csv(\"course_enrollments.csv\")\n",
        "print(\"\\nManual Schema:\")\n",
        "manual_df.printSchema()"
      ],
      "metadata": {
        "colab": {
          "base_uri": "https://localhost:8080/"
        },
        "id": "iWPf9iIhGA0_",
        "outputId": "a83f0831-f38f-472f-9e5c-a0a7684dcf6f"
      },
      "execution_count": 3,
      "outputs": [
        {
          "output_type": "stream",
          "name": "stdout",
          "text": [
            "\n",
            "Manual Schema:\n",
            "root\n",
            " |-- EnrollmentID: string (nullable = true)\n",
            " |-- StudentName: string (nullable = true)\n",
            " |-- CourseName: string (nullable = true)\n",
            " |-- Category: string (nullable = true)\n",
            " |-- EnrollDate: date (nullable = true)\n",
            " |-- ProgressPercent: integer (nullable = true)\n",
            " |-- Rating: double (nullable = true)\n",
            " |-- Status: string (nullable = true)\n",
            "\n"
          ]
        }
      ]
    },
    {
      "cell_type": "code",
      "source": [
        "low_progress = manual_df.filter(col(\"ProgressPercent\") < 50)\n",
        "print(\"\\nStudents with Progress < 50%:\")\n",
        "low_progress.show()"
      ],
      "metadata": {
        "colab": {
          "base_uri": "https://localhost:8080/"
        },
        "id": "2VoWCXbfGA3m",
        "outputId": "21c32fc9-74ee-4a16-93f3-e6a4831d0286"
      },
      "execution_count": 4,
      "outputs": [
        {
          "output_type": "stream",
          "name": "stdout",
          "text": [
            "\n",
            "Students with Progress < 50%:\n",
            "+------------+-----------+-------------------+-----------+----------+---------------+------+--------+\n",
            "|EnrollmentID|StudentName|         CourseName|   Category|EnrollDate|ProgressPercent|Rating|  Status|\n",
            "+------------+-----------+-------------------+-----------+----------+---------------+------+--------+\n",
            "|      ENRQ03|     Aakash|Power BI Essentials|  Analytics|2024-05-13|             30|   3.8|  Active|\n",
            "|      ENRQ04|       Meha|        Java Basics|Programming|2024-05-15|              0|  NULL|Inactive|\n",
            "+------------+-----------+-------------------+-----------+----------+---------------+------+--------+\n",
            "\n"
          ]
        }
      ]
    },
    {
      "cell_type": "code",
      "source": [
        "avg_rating = manual_df.select(avg(\"Rating\")).collect()[0][0]\n",
        "df_with_ratings = manual_df.withColumn(\"Rating\", when(col(\"Rating\").isNull(), avg_rating).otherwise(col(\"Rating\")))\n",
        "print(\"\\nData after filling null ratings:\")\n",
        "df_with_ratings.show()"
      ],
      "metadata": {
        "colab": {
          "base_uri": "https://localhost:8080/"
        },
        "id": "az0GJjEVGKUS",
        "outputId": "eca61d8b-1248-46a0-cea9-80ae16989eba"
      },
      "execution_count": 5,
      "outputs": [
        {
          "output_type": "stream",
          "name": "stdout",
          "text": [
            "\n",
            "Data after filling null ratings:\n",
            "+------------+-----------+--------------------+-----------+----------+---------------+-----------------+---------+\n",
            "|EnrollmentID|StudentName|          CourseName|   Category|EnrollDate|ProgressPercent|           Rating|   Status|\n",
            "+------------+-----------+--------------------+-----------+----------+---------------+-----------------+---------+\n",
            "|      ENRQ01|     Aditya|Python for Beginners|Programming|2024-05-10|             80|              4.5|   Active|\n",
            "|      ENRQ02|     Simran|Data Analysis wit...|  Analytics|2024-05-12|            100|              4.7|Completed|\n",
            "|      ENRQ03|     Aakash| Power BI Essentials|  Analytics|2024-05-13|             30|              3.8|   Active|\n",
            "|      ENRQ04|       Meha|         Java Basics|Programming|2024-05-15|              0|4.359999999999999| Inactive|\n",
            "|      ENRQ05|       Zara|Machine Learning 101|         AI|2024-05-17|             60|              4.2|   Active|\n",
            "|      ENRQ06|    Ibrahim|Python for Beginners|Programming|2024-05-18|             90|              4.6|Completed|\n",
            "+------------+-----------+--------------------+-----------+----------+---------------+-----------------+---------+\n",
            "\n"
          ]
        }
      ]
    },
    {
      "cell_type": "code",
      "source": [
        "final_df = df_with_ratings.withColumn(\"IsActive\", when(col(\"Status\") == \"Active\", 1).otherwise(0))\n",
        "print(\"\\nData with IsActive column:\")\n",
        "final_df.show()"
      ],
      "metadata": {
        "colab": {
          "base_uri": "https://localhost:8080/"
        },
        "id": "Zqvxo5PqGKXc",
        "outputId": "eb035bcf-bc1a-45c5-fb6f-d31320a279dc"
      },
      "execution_count": 6,
      "outputs": [
        {
          "output_type": "stream",
          "name": "stdout",
          "text": [
            "\n",
            "Data with IsActive column:\n",
            "+------------+-----------+--------------------+-----------+----------+---------------+-----------------+---------+--------+\n",
            "|EnrollmentID|StudentName|          CourseName|   Category|EnrollDate|ProgressPercent|           Rating|   Status|IsActive|\n",
            "+------------+-----------+--------------------+-----------+----------+---------------+-----------------+---------+--------+\n",
            "|      ENRQ01|     Aditya|Python for Beginners|Programming|2024-05-10|             80|              4.5|   Active|       1|\n",
            "|      ENRQ02|     Simran|Data Analysis wit...|  Analytics|2024-05-12|            100|              4.7|Completed|       0|\n",
            "|      ENRQ03|     Aakash| Power BI Essentials|  Analytics|2024-05-13|             30|              3.8|   Active|       1|\n",
            "|      ENRQ04|       Meha|         Java Basics|Programming|2024-05-15|              0|4.359999999999999| Inactive|       0|\n",
            "|      ENRQ05|       Zara|Machine Learning 101|         AI|2024-05-17|             60|              4.2|   Active|       1|\n",
            "|      ENRQ06|    Ibrahim|Python for Beginners|Programming|2024-05-18|             90|              4.6|Completed|       0|\n",
            "+------------+-----------+--------------------+-----------+----------+---------------+-----------------+---------+--------+\n",
            "\n"
          ]
        }
      ]
    },
    {
      "cell_type": "code",
      "source": [
        "avg_progress = final_df.groupBy(\"CourseName\").agg(avg(\"ProgressPercent\").alias(\"AvgProgress\"))\n",
        "print(\"\\nAverage Progress by Course:\")\n",
        "avg_progress.show()"
      ],
      "metadata": {
        "colab": {
          "base_uri": "https://localhost:8080/"
        },
        "id": "3EJB27JFGKa6",
        "outputId": "e42119bb-d173-4c47-bbab-ba249bdda81b"
      },
      "execution_count": 7,
      "outputs": [
        {
          "output_type": "stream",
          "name": "stdout",
          "text": [
            "\n",
            "Average Progress by Course:\n",
            "+--------------------+-----------+\n",
            "|          CourseName|AvgProgress|\n",
            "+--------------------+-----------+\n",
            "|Data Analysis wit...|      100.0|\n",
            "|         Java Basics|        0.0|\n",
            "|Machine Learning 101|       60.0|\n",
            "|Python for Beginners|       85.0|\n",
            "| Power BI Essentials|       30.0|\n",
            "+--------------------+-----------+\n",
            "\n"
          ]
        }
      ]
    },
    {
      "cell_type": "code",
      "source": [
        "category_counts = final_df.groupBy(\"Category\").count().orderBy(\"count\", ascending=False)\n",
        "print(\"\\nEnrollments by Category:\")\n",
        "category_counts.show()"
      ],
      "metadata": {
        "colab": {
          "base_uri": "https://localhost:8080/"
        },
        "id": "vZOMJ05YGzrr",
        "outputId": "8869bc85-6d9c-416b-b5e6-6647541e0f97"
      },
      "execution_count": 8,
      "outputs": [
        {
          "output_type": "stream",
          "name": "stdout",
          "text": [
            "\n",
            "Enrollments by Category:\n",
            "+-----------+-----+\n",
            "|   Category|count|\n",
            "+-----------+-----+\n",
            "|Programming|    3|\n",
            "|  Analytics|    2|\n",
            "|         AI|    1|\n",
            "+-----------+-----+\n",
            "\n"
          ]
        }
      ]
    },
    {
      "cell_type": "code",
      "source": [
        "most_enrolled = final_df.groupBy(\"CourseName\").count().orderBy(\"count\", ascending=False).first()\n",
        "print(f\"\\nMost Enrolled Course: {most_enrolled['CourseName']} ({most_enrolled['count']} enrollments)\")"
      ],
      "metadata": {
        "colab": {
          "base_uri": "https://localhost:8080/"
        },
        "id": "ePzV9AqgGzuT",
        "outputId": "b1e24ee3-5e3c-493d-83be-32fc05a5229f"
      },
      "execution_count": 9,
      "outputs": [
        {
          "output_type": "stream",
          "name": "stdout",
          "text": [
            "\n",
            "Most Enrolled Course: Python for Beginners (2 enrollments)\n"
          ]
        }
      ]
    },
    {
      "cell_type": "code",
      "source": [
        "course_details = spark.read.option(\"header\", True).csv(\"course_details.csv\")\n",
        "enriched_df = final_df.join(course_details, \"CourseName\", \"left\")\n",
        "print(\"\\nData after joining with course details:\")\n",
        "enriched_df.show()"
      ],
      "metadata": {
        "colab": {
          "base_uri": "https://localhost:8080/"
        },
        "id": "Sxg_jDk2Gzwo",
        "outputId": "3661a81a-dc71-45bd-f0b6-fe4028b7e20d"
      },
      "execution_count": 10,
      "outputs": [
        {
          "output_type": "stream",
          "name": "stdout",
          "text": [
            "\n",
            "Data after joining with course details:\n",
            "+--------------------+------------+-----------+-----------+----------+---------------+-----------------+---------+--------+-------------+----------+\n",
            "|          CourseName|EnrollmentID|StudentName|   Category|EnrollDate|ProgressPercent|           Rating|   Status|IsActive|DurationWeeks|Instructor|\n",
            "+--------------------+------------+-----------+-----------+----------+---------------+-----------------+---------+--------+-------------+----------+\n",
            "|Python for Beginners|      ENRQ01|     Aditya|Programming|2024-05-10|             80|              4.5|   Active|       1|            4|    Rakesh|\n",
            "|Data Analysis wit...|      ENRQ02|     Simran|  Analytics|2024-05-12|            100|              4.7|Completed|       0|            3|    Anjali|\n",
            "| Power BI Essentials|      ENRQ03|     Aakash|  Analytics|2024-05-13|             30|              3.8|   Active|       1|            5|     Rekha|\n",
            "|         Java Basics|      ENRQ04|       Meha|Programming|2024-05-15|              0|4.359999999999999| Inactive|       0|            6|     Manoj|\n",
            "|Machine Learning 101|      ENRQ05|       Zara|         AI|2024-05-17|             60|              4.2|   Active|       1|            8|     Samir|\n",
            "|Python for Beginners|      ENRQ06|    Ibrahim|Programming|2024-05-18|             90|              4.6|Completed|       0|            4|    Rakesh|\n",
            "+--------------------+------------+-----------+-----------+----------+---------------+-----------------+---------+--------+-------------+----------+\n",
            "\n"
          ]
        }
      ]
    },
    {
      "cell_type": "code",
      "source": [
        "from pyspark.sql.window import Window\n",
        "window_spec = Window.partitionBy(\"CourseName\").orderBy(col(\"ProgressPercent\").desc())\n",
        "ranked_df = enriched_df.withColumn(\"Rank\", rank().over(window_spec))\n",
        "print(\"\\nStudents Ranked by Progress:\")\n",
        "ranked_df.show()"
      ],
      "metadata": {
        "colab": {
          "base_uri": "https://localhost:8080/"
        },
        "id": "IU5zl8-vGzz_",
        "outputId": "03c560d6-2885-47a7-e36b-cb842a990ada"
      },
      "execution_count": 11,
      "outputs": [
        {
          "output_type": "stream",
          "name": "stdout",
          "text": [
            "\n",
            "Students Ranked by Progress:\n",
            "+--------------------+------------+-----------+-----------+----------+---------------+-----------------+---------+--------+-------------+----------+----+\n",
            "|          CourseName|EnrollmentID|StudentName|   Category|EnrollDate|ProgressPercent|           Rating|   Status|IsActive|DurationWeeks|Instructor|Rank|\n",
            "+--------------------+------------+-----------+-----------+----------+---------------+-----------------+---------+--------+-------------+----------+----+\n",
            "|Data Analysis wit...|      ENRQ02|     Simran|  Analytics|2024-05-12|            100|              4.7|Completed|       0|            3|    Anjali|   1|\n",
            "|         Java Basics|      ENRQ04|       Meha|Programming|2024-05-15|              0|4.359999999999999| Inactive|       0|            6|     Manoj|   1|\n",
            "|Machine Learning 101|      ENRQ05|       Zara|         AI|2024-05-17|             60|              4.2|   Active|       1|            8|     Samir|   1|\n",
            "| Power BI Essentials|      ENRQ03|     Aakash|  Analytics|2024-05-13|             30|              3.8|   Active|       1|            5|     Rekha|   1|\n",
            "|Python for Beginners|      ENRQ06|    Ibrahim|Programming|2024-05-18|             90|              4.6|Completed|       0|            4|    Rakesh|   1|\n",
            "|Python for Beginners|      ENRQ01|     Aditya|Programming|2024-05-10|             80|              4.5|   Active|       1|            4|    Rakesh|   2|\n",
            "+--------------------+------------+-----------+-----------+----------+---------------+-----------------+---------+--------+-------------+----------+----+\n",
            "\n"
          ]
        }
      ]
    },
    {
      "cell_type": "code",
      "source": [
        "category_window = Window.partitionBy(\"Category\").orderBy(\"EnrollDate\")\n",
        "date_diff_df = enriched_df.withColumn(\"NextEnrollment\", lead(\"EnrollDate\").over(category_window)) \\\n",
        "                         .withColumn(\"PrevEnrollment\", lag(\"EnrollDate\").over(category_window))\n",
        "print(\"\\nEnrollment Dates with Lead/Lag:\")\n",
        "date_diff_df.show()"
      ],
      "metadata": {
        "colab": {
          "base_uri": "https://localhost:8080/"
        },
        "id": "1CMk1Tp0HAuj",
        "outputId": "672903f9-e6f9-41e3-d8cf-3a75a65f9167"
      },
      "execution_count": 12,
      "outputs": [
        {
          "output_type": "stream",
          "name": "stdout",
          "text": [
            "\n",
            "Enrollment Dates with Lead/Lag:\n",
            "+--------------------+------------+-----------+-----------+----------+---------------+-----------------+---------+--------+-------------+----------+--------------+--------------+\n",
            "|          CourseName|EnrollmentID|StudentName|   Category|EnrollDate|ProgressPercent|           Rating|   Status|IsActive|DurationWeeks|Instructor|NextEnrollment|PrevEnrollment|\n",
            "+--------------------+------------+-----------+-----------+----------+---------------+-----------------+---------+--------+-------------+----------+--------------+--------------+\n",
            "|Machine Learning 101|      ENRQ05|       Zara|         AI|2024-05-17|             60|              4.2|   Active|       1|            8|     Samir|          NULL|          NULL|\n",
            "|Data Analysis wit...|      ENRQ02|     Simran|  Analytics|2024-05-12|            100|              4.7|Completed|       0|            3|    Anjali|    2024-05-13|          NULL|\n",
            "| Power BI Essentials|      ENRQ03|     Aakash|  Analytics|2024-05-13|             30|              3.8|   Active|       1|            5|     Rekha|          NULL|    2024-05-12|\n",
            "|Python for Beginners|      ENRQ01|     Aditya|Programming|2024-05-10|             80|              4.5|   Active|       1|            4|    Rakesh|    2024-05-15|          NULL|\n",
            "|         Java Basics|      ENRQ04|       Meha|Programming|2024-05-15|              0|4.359999999999999| Inactive|       0|            6|     Manoj|    2024-05-18|    2024-05-10|\n",
            "|Python for Beginners|      ENRQ06|    Ibrahim|Programming|2024-05-18|             90|              4.6|Completed|       0|            4|    Rakesh|          NULL|    2024-05-15|\n",
            "+--------------------+------------+-----------+-----------+----------+---------------+-----------------+---------+--------+-------------+----------+--------------+--------------+\n",
            "\n"
          ]
        }
      ]
    },
    {
      "cell_type": "code",
      "source": [
        "pivot_df = enriched_df.groupBy(\"Category\").pivot(\"Status\").count().na.fill(0)\n",
        "print(\"\\nPivoted Enrollment Counts:\")\n",
        "pivot_df.show()"
      ],
      "metadata": {
        "colab": {
          "base_uri": "https://localhost:8080/"
        },
        "id": "wSqIK_mDHAyG",
        "outputId": "24cb0a49-54ac-4a49-8a4c-0a3531dad8d0"
      },
      "execution_count": 13,
      "outputs": [
        {
          "output_type": "stream",
          "name": "stdout",
          "text": [
            "\n",
            "Pivoted Enrollment Counts:\n",
            "+-----------+------+---------+--------+\n",
            "|   Category|Active|Completed|Inactive|\n",
            "+-----------+------+---------+--------+\n",
            "|Programming|     1|        1|       1|\n",
            "|         AI|     1|        0|       0|\n",
            "|  Analytics|     1|        1|       0|\n",
            "+-----------+------+---------+--------+\n",
            "\n"
          ]
        }
      ]
    },
    {
      "cell_type": "code",
      "source": [
        "date_extracted = enriched_df.withColumn(\"EnrollYear\", year(\"EnrollDate\")) \\\n",
        "                           .withColumn(\"EnrollMonth\", month(\"EnrollDate\"))\n",
        "print(\"\\nData with Year & Month Extracted:\")\n",
        "date_extracted.show()"
      ],
      "metadata": {
        "colab": {
          "base_uri": "https://localhost:8080/"
        },
        "id": "fprebS1sGA69",
        "outputId": "9f4ebe21-828a-4749-a50a-a0df0f615528"
      },
      "execution_count": 14,
      "outputs": [
        {
          "output_type": "stream",
          "name": "stdout",
          "text": [
            "\n",
            "Data with Year & Month Extracted:\n",
            "+--------------------+------------+-----------+-----------+----------+---------------+-----------------+---------+--------+-------------+----------+----------+-----------+\n",
            "|          CourseName|EnrollmentID|StudentName|   Category|EnrollDate|ProgressPercent|           Rating|   Status|IsActive|DurationWeeks|Instructor|EnrollYear|EnrollMonth|\n",
            "+--------------------+------------+-----------+-----------+----------+---------------+-----------------+---------+--------+-------------+----------+----------+-----------+\n",
            "|Python for Beginners|      ENRQ01|     Aditya|Programming|2024-05-10|             80|              4.5|   Active|       1|            4|    Rakesh|      2024|          5|\n",
            "|Data Analysis wit...|      ENRQ02|     Simran|  Analytics|2024-05-12|            100|              4.7|Completed|       0|            3|    Anjali|      2024|          5|\n",
            "| Power BI Essentials|      ENRQ03|     Aakash|  Analytics|2024-05-13|             30|              3.8|   Active|       1|            5|     Rekha|      2024|          5|\n",
            "|         Java Basics|      ENRQ04|       Meha|Programming|2024-05-15|              0|4.359999999999999| Inactive|       0|            6|     Manoj|      2024|          5|\n",
            "|Machine Learning 101|      ENRQ05|       Zara|         AI|2024-05-17|             60|              4.2|   Active|       1|            8|     Samir|      2024|          5|\n",
            "|Python for Beginners|      ENRQ06|    Ibrahim|Programming|2024-05-18|             90|              4.6|Completed|       0|            4|    Rakesh|      2024|          5|\n",
            "+--------------------+------------+-----------+-----------+----------+---------------+-----------------+---------+--------+-------------+----------+----------+-----------+\n",
            "\n"
          ]
        }
      ]
    },
    {
      "cell_type": "code",
      "source": [
        "cleaned_df = date_extracted.filter(col(\"Status\").isNotNull() & (col(\"Status\") != \"\"))\n",
        "print(\"\\nAfter Dropping Null/Empty Status:\")\n",
        "cleaned_df.show()"
      ],
      "metadata": {
        "colab": {
          "base_uri": "https://localhost:8080/"
        },
        "id": "wpVl1EakHIhq",
        "outputId": "6f58328f-7d78-4549-9b61-96f807994bf2"
      },
      "execution_count": 15,
      "outputs": [
        {
          "output_type": "stream",
          "name": "stdout",
          "text": [
            "\n",
            "After Dropping Null/Empty Status:\n",
            "+--------------------+------------+-----------+-----------+----------+---------------+-----------------+---------+--------+-------------+----------+----------+-----------+\n",
            "|          CourseName|EnrollmentID|StudentName|   Category|EnrollDate|ProgressPercent|           Rating|   Status|IsActive|DurationWeeks|Instructor|EnrollYear|EnrollMonth|\n",
            "+--------------------+------------+-----------+-----------+----------+---------------+-----------------+---------+--------+-------------+----------+----------+-----------+\n",
            "|Python for Beginners|      ENRQ01|     Aditya|Programming|2024-05-10|             80|              4.5|   Active|       1|            4|    Rakesh|      2024|          5|\n",
            "|Data Analysis wit...|      ENRQ02|     Simran|  Analytics|2024-05-12|            100|              4.7|Completed|       0|            3|    Anjali|      2024|          5|\n",
            "| Power BI Essentials|      ENRQ03|     Aakash|  Analytics|2024-05-13|             30|              3.8|   Active|       1|            5|     Rekha|      2024|          5|\n",
            "|         Java Basics|      ENRQ04|       Meha|Programming|2024-05-15|              0|4.359999999999999| Inactive|       0|            6|     Manoj|      2024|          5|\n",
            "|Machine Learning 101|      ENRQ05|       Zara|         AI|2024-05-17|             60|              4.2|   Active|       1|            8|     Samir|      2024|          5|\n",
            "|Python for Beginners|      ENRQ06|    Ibrahim|Programming|2024-05-18|             90|              4.6|Completed|       0|            4|    Rakesh|      2024|          5|\n",
            "+--------------------+------------+-----------+-----------+----------+---------------+-----------------+---------+--------+-------------+----------+----------+-----------+\n",
            "\n"
          ]
        }
      ]
    },
    {
      "cell_type": "code",
      "source": [
        "deduped_df = cleaned_df.dropDuplicates([\"EnrollmentID\", \"StudentName\", \"CourseName\"])\n",
        "print(\"\\nAfter Removing Duplicates:\")\n",
        "deduped_df.show()"
      ],
      "metadata": {
        "colab": {
          "base_uri": "https://localhost:8080/"
        },
        "id": "D_VuQraFHIkZ",
        "outputId": "3785e8e5-7974-44ef-d0fe-d4a65767a923"
      },
      "execution_count": 16,
      "outputs": [
        {
          "output_type": "stream",
          "name": "stdout",
          "text": [
            "\n",
            "After Removing Duplicates:\n",
            "+--------------------+------------+-----------+-----------+----------+---------------+-----------------+---------+--------+-------------+----------+----------+-----------+\n",
            "|          CourseName|EnrollmentID|StudentName|   Category|EnrollDate|ProgressPercent|           Rating|   Status|IsActive|DurationWeeks|Instructor|EnrollYear|EnrollMonth|\n",
            "+--------------------+------------+-----------+-----------+----------+---------------+-----------------+---------+--------+-------------+----------+----------+-----------+\n",
            "|Python for Beginners|      ENRQ01|     Aditya|Programming|2024-05-10|             80|              4.5|   Active|       1|            4|    Rakesh|      2024|          5|\n",
            "|Data Analysis wit...|      ENRQ02|     Simran|  Analytics|2024-05-12|            100|              4.7|Completed|       0|            3|    Anjali|      2024|          5|\n",
            "| Power BI Essentials|      ENRQ03|     Aakash|  Analytics|2024-05-13|             30|              3.8|   Active|       1|            5|     Rekha|      2024|          5|\n",
            "|         Java Basics|      ENRQ04|       Meha|Programming|2024-05-15|              0|4.359999999999999| Inactive|       0|            6|     Manoj|      2024|          5|\n",
            "|Machine Learning 101|      ENRQ05|       Zara|         AI|2024-05-17|             60|              4.2|   Active|       1|            8|     Samir|      2024|          5|\n",
            "|Python for Beginners|      ENRQ06|    Ibrahim|Programming|2024-05-18|             90|              4.6|Completed|       0|            4|    Rakesh|      2024|          5|\n",
            "+--------------------+------------+-----------+-----------+----------+---------------+-----------------+---------+--------+-------------+----------+----------+-----------+\n",
            "\n"
          ]
        }
      ]
    },
    {
      "cell_type": "code",
      "source": [
        "deduped_df.write.mode(\"overwrite\").csv(\"course_enrollments_cleaned.csv\")\n",
        "print(\"CSV saved successfully!\")"
      ],
      "metadata": {
        "colab": {
          "base_uri": "https://localhost:8080/"
        },
        "id": "QqmQNUb0HImz",
        "outputId": "06bc8268-43da-4642-de67-b040585e04a9"
      },
      "execution_count": 17,
      "outputs": [
        {
          "output_type": "stream",
          "name": "stdout",
          "text": [
            "CSV saved successfully!\n"
          ]
        }
      ]
    },
    {
      "cell_type": "code",
      "source": [
        "deduped_df.write.mode(\"overwrite\").json(\"course_enrollments_cleaned.json\")\n",
        "print(\"JSON saved successfully!\")"
      ],
      "metadata": {
        "colab": {
          "base_uri": "https://localhost:8080/"
        },
        "id": "5PgggnFHHIqP",
        "outputId": "db6d1859-72c7-414a-cd81-d78fe22d0b8f"
      },
      "execution_count": 18,
      "outputs": [
        {
          "output_type": "stream",
          "name": "stdout",
          "text": [
            "JSON saved successfully!\n"
          ]
        }
      ]
    },
    {
      "cell_type": "code",
      "source": [
        "deduped_df.write.mode(\"overwrite\").parquet(\"course_enrollments_cleaned.parquet\", compression=\"snappy\")\n",
        "print(\"Parquet saved successfully!\")"
      ],
      "metadata": {
        "colab": {
          "base_uri": "https://localhost:8080/"
        },
        "id": "rhYcoYqBHRNe",
        "outputId": "e3e642e8-ac9f-45cd-edb9-f7f4ced6b95d"
      },
      "execution_count": 19,
      "outputs": [
        {
          "output_type": "stream",
          "name": "stdout",
          "text": [
            "Parquet saved successfully!\n"
          ]
        }
      ]
    },
    {
      "cell_type": "code",
      "source": [
        "from google.colab import files\n",
        "\n",
        "# Download CSV\n",
        "!ls course_enrollments_cleaned.csv/part-*.csv | head -1 | xargs -I {} cp {} \"final_output.csv\"\n",
        "files.download(\"final_output.csv\")\n",
        "\n",
        "# Download JSON (zipped)\n",
        "!zip -r json_output.zip course_enrollments_cleaned.json\n",
        "files.download(\"json_output.zip\")\n",
        "\n",
        "# Download Parquet (zipped)\n",
        "!zip -r parquet_output.zip course_enrollments_cleaned.parquet\n",
        "files.download(\"parquet_output.zip\")"
      ],
      "metadata": {
        "colab": {
          "base_uri": "https://localhost:8080/",
          "height": 211
        },
        "id": "20Ctdr8MHRQ6",
        "outputId": "ad131550-83db-4621-afab-7daaa3728edc"
      },
      "execution_count": 20,
      "outputs": [
        {
          "output_type": "display_data",
          "data": {
            "text/plain": [
              "<IPython.core.display.Javascript object>"
            ],
            "application/javascript": [
              "\n",
              "    async function download(id, filename, size) {\n",
              "      if (!google.colab.kernel.accessAllowed) {\n",
              "        return;\n",
              "      }\n",
              "      const div = document.createElement('div');\n",
              "      const label = document.createElement('label');\n",
              "      label.textContent = `Downloading \"${filename}\": `;\n",
              "      div.appendChild(label);\n",
              "      const progress = document.createElement('progress');\n",
              "      progress.max = size;\n",
              "      div.appendChild(progress);\n",
              "      document.body.appendChild(div);\n",
              "\n",
              "      const buffers = [];\n",
              "      let downloaded = 0;\n",
              "\n",
              "      const channel = await google.colab.kernel.comms.open(id);\n",
              "      // Send a message to notify the kernel that we're ready.\n",
              "      channel.send({})\n",
              "\n",
              "      for await (const message of channel.messages) {\n",
              "        // Send a message to notify the kernel that we're ready.\n",
              "        channel.send({})\n",
              "        if (message.buffers) {\n",
              "          for (const buffer of message.buffers) {\n",
              "            buffers.push(buffer);\n",
              "            downloaded += buffer.byteLength;\n",
              "            progress.value = downloaded;\n",
              "          }\n",
              "        }\n",
              "      }\n",
              "      const blob = new Blob(buffers, {type: 'application/binary'});\n",
              "      const a = document.createElement('a');\n",
              "      a.href = window.URL.createObjectURL(blob);\n",
              "      a.download = filename;\n",
              "      div.appendChild(a);\n",
              "      a.click();\n",
              "      div.remove();\n",
              "    }\n",
              "  "
            ]
          },
          "metadata": {}
        },
        {
          "output_type": "display_data",
          "data": {
            "text/plain": [
              "<IPython.core.display.Javascript object>"
            ],
            "application/javascript": [
              "download(\"download_d1737cf0-9024-48b5-82cb-f7b28be3c1f1\", \"final_output.csv\", 537)"
            ]
          },
          "metadata": {}
        },
        {
          "output_type": "stream",
          "name": "stdout",
          "text": [
            "  adding: course_enrollments_cleaned.json/ (stored 0%)\n",
            "  adding: course_enrollments_cleaned.json/_SUCCESS (stored 0%)\n",
            "  adding: course_enrollments_cleaned.json/.part-00000-2c73a208-7681-4818-aea4-e6745f757e84-c000.json.crc (stored 0%)\n",
            "  adding: course_enrollments_cleaned.json/._SUCCESS.crc (stored 0%)\n",
            "  adding: course_enrollments_cleaned.json/part-00000-2c73a208-7681-4818-aea4-e6745f757e84-c000.json (deflated 73%)\n"
          ]
        },
        {
          "output_type": "display_data",
          "data": {
            "text/plain": [
              "<IPython.core.display.Javascript object>"
            ],
            "application/javascript": [
              "\n",
              "    async function download(id, filename, size) {\n",
              "      if (!google.colab.kernel.accessAllowed) {\n",
              "        return;\n",
              "      }\n",
              "      const div = document.createElement('div');\n",
              "      const label = document.createElement('label');\n",
              "      label.textContent = `Downloading \"${filename}\": `;\n",
              "      div.appendChild(label);\n",
              "      const progress = document.createElement('progress');\n",
              "      progress.max = size;\n",
              "      div.appendChild(progress);\n",
              "      document.body.appendChild(div);\n",
              "\n",
              "      const buffers = [];\n",
              "      let downloaded = 0;\n",
              "\n",
              "      const channel = await google.colab.kernel.comms.open(id);\n",
              "      // Send a message to notify the kernel that we're ready.\n",
              "      channel.send({})\n",
              "\n",
              "      for await (const message of channel.messages) {\n",
              "        // Send a message to notify the kernel that we're ready.\n",
              "        channel.send({})\n",
              "        if (message.buffers) {\n",
              "          for (const buffer of message.buffers) {\n",
              "            buffers.push(buffer);\n",
              "            downloaded += buffer.byteLength;\n",
              "            progress.value = downloaded;\n",
              "          }\n",
              "        }\n",
              "      }\n",
              "      const blob = new Blob(buffers, {type: 'application/binary'});\n",
              "      const a = document.createElement('a');\n",
              "      a.href = window.URL.createObjectURL(blob);\n",
              "      a.download = filename;\n",
              "      div.appendChild(a);\n",
              "      a.click();\n",
              "      div.remove();\n",
              "    }\n",
              "  "
            ]
          },
          "metadata": {}
        },
        {
          "output_type": "display_data",
          "data": {
            "text/plain": [
              "<IPython.core.display.Javascript object>"
            ],
            "application/javascript": [
              "download(\"download_57bc3ae1-0181-4b6a-91e4-d5dc526c4f8c\", \"json_output.zip\", 1736)"
            ]
          },
          "metadata": {}
        },
        {
          "output_type": "stream",
          "name": "stdout",
          "text": [
            "  adding: course_enrollments_cleaned.parquet/ (stored 0%)\n",
            "  adding: course_enrollments_cleaned.parquet/_SUCCESS (stored 0%)\n",
            "  adding: course_enrollments_cleaned.parquet/.part-00000-042158a9-612b-4864-97e7-1f59a2555c7e-c000.snappy.parquet.crc (stored 0%)\n",
            "  adding: course_enrollments_cleaned.parquet/._SUCCESS.crc (stored 0%)\n",
            "  adding: course_enrollments_cleaned.parquet/part-00000-042158a9-612b-4864-97e7-1f59a2555c7e-c000.snappy.parquet (deflated 57%)\n"
          ]
        },
        {
          "output_type": "display_data",
          "data": {
            "text/plain": [
              "<IPython.core.display.Javascript object>"
            ],
            "application/javascript": [
              "\n",
              "    async function download(id, filename, size) {\n",
              "      if (!google.colab.kernel.accessAllowed) {\n",
              "        return;\n",
              "      }\n",
              "      const div = document.createElement('div');\n",
              "      const label = document.createElement('label');\n",
              "      label.textContent = `Downloading \"${filename}\": `;\n",
              "      div.appendChild(label);\n",
              "      const progress = document.createElement('progress');\n",
              "      progress.max = size;\n",
              "      div.appendChild(progress);\n",
              "      document.body.appendChild(div);\n",
              "\n",
              "      const buffers = [];\n",
              "      let downloaded = 0;\n",
              "\n",
              "      const channel = await google.colab.kernel.comms.open(id);\n",
              "      // Send a message to notify the kernel that we're ready.\n",
              "      channel.send({})\n",
              "\n",
              "      for await (const message of channel.messages) {\n",
              "        // Send a message to notify the kernel that we're ready.\n",
              "        channel.send({})\n",
              "        if (message.buffers) {\n",
              "          for (const buffer of message.buffers) {\n",
              "            buffers.push(buffer);\n",
              "            downloaded += buffer.byteLength;\n",
              "            progress.value = downloaded;\n",
              "          }\n",
              "        }\n",
              "      }\n",
              "      const blob = new Blob(buffers, {type: 'application/binary'});\n",
              "      const a = document.createElement('a');\n",
              "      a.href = window.URL.createObjectURL(blob);\n",
              "      a.download = filename;\n",
              "      div.appendChild(a);\n",
              "      a.click();\n",
              "      div.remove();\n",
              "    }\n",
              "  "
            ]
          },
          "metadata": {}
        },
        {
          "output_type": "display_data",
          "data": {
            "text/plain": [
              "<IPython.core.display.Javascript object>"
            ],
            "application/javascript": [
              "download(\"download_dd3f8e96-7a75-4c18-812a-452f8847b3d4\", \"parquet_output.zip\", 3163)"
            ]
          },
          "metadata": {}
        }
      ]
    }
  ]
}