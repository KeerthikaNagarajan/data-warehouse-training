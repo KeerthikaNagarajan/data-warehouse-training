{
 "cells": [
  {
   "cell_type": "code",
   "execution_count": 0,
   "metadata": {
    "application/vnd.databricks.v1+cell": {
     "cellMetadata": {
      "byteLimit": 2048000,
      "rowLimit": 10000
     },
     "inputWidgets": {},
     "nuid": "0ef64364-a0d1-45ce-bd1d-f2c05e337439",
     "showTitle": false,
     "tableResultSettingsMap": {},
     "title": ""
    }
   },
   "outputs": [
    {
     "output_type": "display_data",
     "data": {
      "text/html": [
       "<style scoped>\n",
       "  .table-result-container {\n",
       "    max-height: 300px;\n",
       "    overflow: auto;\n",
       "  }\n",
       "  table, th, td {\n",
       "    border: 1px solid black;\n",
       "    border-collapse: collapse;\n",
       "  }\n",
       "  th, td {\n",
       "    padding: 5px;\n",
       "  }\n",
       "  th {\n",
       "    text-align: left;\n",
       "  }\n",
       "</style><div class='table-result-container'><table class='table-result'><thead style='background-color: white'><tr><th>Name</th><th>Department</th><th>Salary</th></tr></thead><tbody><tr><td>Ananya</td><td>HR</td><td>50000</td></tr><tr><td>Rahul</td><td>Engineering</td><td>60000</td></tr><tr><td>Priya</td><td>Engineering</td><td>55000</td></tr><tr><td>Zoya</td><td>Marketing</td><td>45000</td></tr><tr><td>Karan</td><td>HR</td><td>52000</td></tr><tr><td>Naveen</td><td>Engineering</td><td>65000</td></tr><tr><td>Fatima</td><td>Marketing</td><td>48000</td></tr></tbody></table></div>"
      ]
     },
     "metadata": {
      "application/vnd.databricks.v1+output": {
       "addedWidgets": {},
       "aggData": [],
       "aggError": "",
       "aggOverflow": false,
       "aggSchema": [],
       "aggSeriesLimitReached": false,
       "aggType": "",
       "arguments": {},
       "columnCustomDisplayInfos": {},
       "data": [
        [
         "Ananya",
         "HR",
         50000
        ],
        [
         "Rahul",
         "Engineering",
         60000
        ],
        [
         "Priya",
         "Engineering",
         55000
        ],
        [
         "Zoya",
         "Marketing",
         45000
        ],
        [
         "Karan",
         "HR",
         52000
        ],
        [
         "Naveen",
         "Engineering",
         65000
        ],
        [
         "Fatima",
         "Marketing",
         48000
        ]
       ],
       "datasetInfos": [],
       "dbfsResultPath": null,
       "isJsonSchema": true,
       "metadata": {},
       "overflow": false,
       "plotOptions": {
        "customPlotOptions": {},
        "displayType": "table",
        "pivotAggregation": null,
        "pivotColumns": null,
        "xColumns": null,
        "yColumns": null
       },
       "removedWidgets": [],
       "schema": [
        {
         "metadata": "{}",
         "name": "Name",
         "type": "\"string\""
        },
        {
         "metadata": "{}",
         "name": "Department",
         "type": "\"string\""
        },
        {
         "metadata": "{}",
         "name": "Salary",
         "type": "\"long\""
        }
       ],
       "type": "table"
      }
     },
     "output_type": "display_data"
    },
    {
     "output_type": "display_data",
     "data": {
      "text/html": [
       "<style scoped>\n",
       "  .table-result-container {\n",
       "    max-height: 300px;\n",
       "    overflow: auto;\n",
       "  }\n",
       "  table, th, td {\n",
       "    border: 1px solid black;\n",
       "    border-collapse: collapse;\n",
       "  }\n",
       "  th, td {\n",
       "    padding: 5px;\n",
       "  }\n",
       "  th {\n",
       "    text-align: left;\n",
       "  }\n",
       "</style><div class='table-result-container'><table class='table-result'><thead style='background-color: white'><tr><th>Name</th><th>Rating</th></tr></thead><tbody><tr><td>Ananya</td><td>4.8</td></tr><tr><td>Rahul</td><td>4.5</td></tr><tr><td>Priya</td><td>4.2</td></tr><tr><td>Zoya</td><td>3.9</td></tr><tr><td>Karan</td><td>4.6</td></tr><tr><td>Naveen</td><td>4.9</td></tr><tr><td>Fatima</td><td>4.0</td></tr></tbody></table></div>"
      ]
     },
     "metadata": {
      "application/vnd.databricks.v1+output": {
       "addedWidgets": {},
       "aggData": [],
       "aggError": "",
       "aggOverflow": false,
       "aggSchema": [],
       "aggSeriesLimitReached": false,
       "aggType": "",
       "arguments": {},
       "columnCustomDisplayInfos": {},
       "data": [
        [
         "Ananya",
         4.8
        ],
        [
         "Rahul",
         4.5
        ],
        [
         "Priya",
         4.2
        ],
        [
         "Zoya",
         3.9
        ],
        [
         "Karan",
         4.6
        ],
        [
         "Naveen",
         4.9
        ],
        [
         "Fatima",
         4.0
        ]
       ],
       "datasetInfos": [],
       "dbfsResultPath": null,
       "isJsonSchema": true,
       "metadata": {},
       "overflow": false,
       "plotOptions": {
        "customPlotOptions": {},
        "displayType": "table",
        "pivotAggregation": null,
        "pivotColumns": null,
        "xColumns": null,
        "yColumns": null
       },
       "removedWidgets": [],
       "schema": [
        {
         "metadata": "{}",
         "name": "Name",
         "type": "\"string\""
        },
        {
         "metadata": "{}",
         "name": "Rating",
         "type": "\"double\""
        }
       ],
       "type": "table"
      }
     },
     "output_type": "display_data"
    },
    {
     "output_type": "display_data",
     "data": {
      "text/html": [
       "<style scoped>\n",
       "  .table-result-container {\n",
       "    max-height: 300px;\n",
       "    overflow: auto;\n",
       "  }\n",
       "  table, th, td {\n",
       "    border: 1px solid black;\n",
       "    border-collapse: collapse;\n",
       "  }\n",
       "  th, td {\n",
       "    padding: 5px;\n",
       "  }\n",
       "  th {\n",
       "    text-align: left;\n",
       "  }\n",
       "</style><div class='table-result-container'><table class='table-result'><thead style='background-color: white'><tr><th>Name</th><th>Project</th><th>Hoursworked</th></tr></thead><tbody><tr><td>Ananya</td><td>HR Portal</td><td>129</td></tr><tr><td>Rahul</td><td>Data Platform</td><td>200</td></tr><tr><td>Priya</td><td>Data Platform</td><td>180</td></tr><tr><td>Zoya</td><td>Campaign Tracker</td><td>100</td></tr><tr><td>Karan</td><td>HR Portal</td><td>130</td></tr><tr><td>Naveen</td><td>ML Pipeline</td><td>220</td></tr><tr><td>Fatima</td><td>Campaign Tracker</td><td>90</td></tr></tbody></table></div>"
      ]
     },
     "metadata": {
      "application/vnd.databricks.v1+output": {
       "addedWidgets": {},
       "aggData": [],
       "aggError": "",
       "aggOverflow": false,
       "aggSchema": [],
       "aggSeriesLimitReached": false,
       "aggType": "",
       "arguments": {},
       "columnCustomDisplayInfos": {},
       "data": [
        [
         "Ananya",
         "HR Portal",
         129
        ],
        [
         "Rahul",
         "Data Platform",
         200
        ],
        [
         "Priya",
         "Data Platform",
         180
        ],
        [
         "Zoya",
         "Campaign Tracker",
         100
        ],
        [
         "Karan",
         "HR Portal",
         130
        ],
        [
         "Naveen",
         "ML Pipeline",
         220
        ],
        [
         "Fatima",
         "Campaign Tracker",
         90
        ]
       ],
       "datasetInfos": [],
       "dbfsResultPath": null,
       "isJsonSchema": true,
       "metadata": {},
       "overflow": false,
       "plotOptions": {
        "customPlotOptions": {},
        "displayType": "table",
        "pivotAggregation": null,
        "pivotColumns": null,
        "xColumns": null,
        "yColumns": null
       },
       "removedWidgets": [],
       "schema": [
        {
         "metadata": "{}",
         "name": "Name",
         "type": "\"string\""
        },
        {
         "metadata": "{}",
         "name": "Project",
         "type": "\"string\""
        },
        {
         "metadata": "{}",
         "name": "Hoursworked",
         "type": "\"long\""
        }
       ],
       "type": "table"
      }
     },
     "output_type": "display_data"
    }
   ],
   "source": [
    "from pyspark.sql import SparkSession\n",
    "from pyspark.sql.functions import *\n",
    "from pyspark.sql.types import *\n",
    "from datetime import datetime\n",
    "\n",
    "# Initialize Spark\n",
    "spark = SparkSession.builder.appName(\"EmployeeDataAnalysis\").getOrCreate()\n",
    "\n",
    "# Employee Data\n",
    "employee_data = [\n",
    "    (\"Ananya\", \"HR\", 50000),\n",
    "    (\"Rahul\", \"Engineering\", 60000),\n",
    "    (\"Priya\", \"Engineering\", 55000),\n",
    "    (\"Zoya\", \"Marketing\", 45000),\n",
    "    (\"Karan\", \"HR\", 52000),\n",
    "    (\"Naveen\", \"Engineering\", 65000),\n",
    "    (\"Fatima\", \"Marketing\", 48000)\n",
    "]\n",
    "columns_emp = [\"Name\", \"Department\", \"Salary\"]\n",
    "df_emp = spark.createDataFrame(employee_data, columns_emp)\n",
    "\n",
    "# Performance Data\n",
    "performance_data = [\n",
    "    (\"Ananya\", 4.8),\n",
    "    (\"Rahul\", 4.5),\n",
    "    (\"Priya\", 4.2),\n",
    "    (\"Zoya\", 3.9),\n",
    "    (\"Karan\", 4.6),\n",
    "    (\"Naveen\", 4.9),\n",
    "    (\"Fatima\", 4.0)\n",
    "]\n",
    "columns_perf = [\"Name\", \"Rating\"]\n",
    "df_perf = spark.createDataFrame(performance_data, columns_perf)\n",
    "\n",
    "# Project Data\n",
    "project_data = [\n",
    "    (\"Ananya\", \"HR Portal\", 129),\n",
    "    (\"Rahul\", \"Data Platform\", 200),\n",
    "    (\"Priya\", \"Data Platform\", 180),\n",
    "    (\"Zoya\", \"Campaign Tracker\", 100),\n",
    "    (\"Karan\", \"HR Portal\", 130),\n",
    "    (\"Naveen\", \"ML Pipeline\", 220),\n",
    "    (\"Fatima\", \"Campaign Tracker\", 90)\n",
    "]\n",
    "columns_proj = [\"Name\", \"Project\", \"Hoursworked\"]\n",
    "df_proj = spark.createDataFrame(project_data, columns_proj)\n",
    "\n",
    "display(df_emp)\n",
    "display(df_perf)\n",
    "display(df_proj)"
   ]
  },
  {
   "cell_type": "code",
   "execution_count": 0,
   "metadata": {
    "application/vnd.databricks.v1+cell": {
     "cellMetadata": {
      "byteLimit": 2048000,
      "rowLimit": 10000
     },
     "inputWidgets": {},
     "nuid": "f0d69810-35e6-4cb7-a9e0-ed51e3179da8",
     "showTitle": false,
     "tableResultSettingsMap": {},
     "title": ""
    }
   },
   "outputs": [
    {
     "output_type": "display_data",
     "data": {
      "text/html": [
       "<style scoped>\n",
       "  .table-result-container {\n",
       "    max-height: 300px;\n",
       "    overflow: auto;\n",
       "  }\n",
       "  table, th, td {\n",
       "    border: 1px solid black;\n",
       "    border-collapse: collapse;\n",
       "  }\n",
       "  th, td {\n",
       "    padding: 5px;\n",
       "  }\n",
       "  th {\n",
       "    text-align: left;\n",
       "  }\n",
       "</style><div class='table-result-container'><table class='table-result'><thead style='background-color: white'><tr><th>Name</th><th>Department</th><th>Salary</th><th>Rating</th><th>Project</th><th>Hoursworked</th></tr></thead><tbody><tr><td>Ananya</td><td>HR</td><td>50000</td><td>4.8</td><td>HR Portal</td><td>129</td></tr><tr><td>Priya</td><td>Engineering</td><td>55000</td><td>4.2</td><td>Data Platform</td><td>180</td></tr><tr><td>Rahul</td><td>Engineering</td><td>60000</td><td>4.5</td><td>Data Platform</td><td>200</td></tr><tr><td>Zoya</td><td>Marketing</td><td>45000</td><td>3.9</td><td>Campaign Tracker</td><td>100</td></tr><tr><td>Karan</td><td>HR</td><td>52000</td><td>4.6</td><td>HR Portal</td><td>130</td></tr><tr><td>Naveen</td><td>Engineering</td><td>65000</td><td>4.9</td><td>ML Pipeline</td><td>220</td></tr><tr><td>Fatima</td><td>Marketing</td><td>48000</td><td>4.0</td><td>Campaign Tracker</td><td>90</td></tr></tbody></table></div>"
      ]
     },
     "metadata": {
      "application/vnd.databricks.v1+output": {
       "addedWidgets": {},
       "aggData": [],
       "aggError": "",
       "aggOverflow": false,
       "aggSchema": [],
       "aggSeriesLimitReached": false,
       "aggType": "",
       "arguments": {},
       "columnCustomDisplayInfos": {},
       "data": [
        [
         "Ananya",
         "HR",
         50000,
         4.8,
         "HR Portal",
         129
        ],
        [
         "Priya",
         "Engineering",
         55000,
         4.2,
         "Data Platform",
         180
        ],
        [
         "Rahul",
         "Engineering",
         60000,
         4.5,
         "Data Platform",
         200
        ],
        [
         "Zoya",
         "Marketing",
         45000,
         3.9,
         "Campaign Tracker",
         100
        ],
        [
         "Karan",
         "HR",
         52000,
         4.6,
         "HR Portal",
         130
        ],
        [
         "Naveen",
         "Engineering",
         65000,
         4.9,
         "ML Pipeline",
         220
        ],
        [
         "Fatima",
         "Marketing",
         48000,
         4.0,
         "Campaign Tracker",
         90
        ]
       ],
       "datasetInfos": [],
       "dbfsResultPath": null,
       "isJsonSchema": true,
       "metadata": {},
       "overflow": false,
       "plotOptions": {
        "customPlotOptions": {},
        "displayType": "table",
        "pivotAggregation": null,
        "pivotColumns": null,
        "xColumns": null,
        "yColumns": null
       },
       "removedWidgets": [],
       "schema": [
        {
         "metadata": "{}",
         "name": "Name",
         "type": "\"string\""
        },
        {
         "metadata": "{}",
         "name": "Department",
         "type": "\"string\""
        },
        {
         "metadata": "{}",
         "name": "Salary",
         "type": "\"long\""
        },
        {
         "metadata": "{}",
         "name": "Rating",
         "type": "\"double\""
        },
        {
         "metadata": "{}",
         "name": "Project",
         "type": "\"string\""
        },
        {
         "metadata": "{}",
         "name": "Hoursworked",
         "type": "\"long\""
        }
       ],
       "type": "table"
      }
     },
     "output_type": "display_data"
    },
    {
     "output_type": "display_data",
     "data": {
      "text/html": [
       "<style scoped>\n",
       "  .table-result-container {\n",
       "    max-height: 300px;\n",
       "    overflow: auto;\n",
       "  }\n",
       "  table, th, td {\n",
       "    border: 1px solid black;\n",
       "    border-collapse: collapse;\n",
       "  }\n",
       "  th, td {\n",
       "    padding: 5px;\n",
       "  }\n",
       "  th {\n",
       "    text-align: left;\n",
       "  }\n",
       "</style><div class='table-result-container'><table class='table-result'><thead style='background-color: white'><tr><th>Department</th><th>TotalHours</th></tr></thead><tbody><tr><td>HR</td><td>259</td></tr><tr><td>Engineering</td><td>600</td></tr><tr><td>Marketing</td><td>190</td></tr></tbody></table></div>"
      ]
     },
     "metadata": {
      "application/vnd.databricks.v1+output": {
       "addedWidgets": {},
       "aggData": [],
       "aggError": "",
       "aggOverflow": false,
       "aggSchema": [],
       "aggSeriesLimitReached": false,
       "aggType": "",
       "arguments": {},
       "columnCustomDisplayInfos": {},
       "data": [
        [
         "HR",
         259
        ],
        [
         "Engineering",
         600
        ],
        [
         "Marketing",
         190
        ]
       ],
       "datasetInfos": [],
       "dbfsResultPath": null,
       "isJsonSchema": true,
       "metadata": {},
       "overflow": false,
       "plotOptions": {
        "customPlotOptions": {},
        "displayType": "table",
        "pivotAggregation": null,
        "pivotColumns": null,
        "xColumns": null,
        "yColumns": null
       },
       "removedWidgets": [],
       "schema": [
        {
         "metadata": "{}",
         "name": "Department",
         "type": "\"string\""
        },
        {
         "metadata": "{}",
         "name": "TotalHours",
         "type": "\"long\""
        }
       ],
       "type": "table"
      }
     },
     "output_type": "display_data"
    },
    {
     "output_type": "display_data",
     "data": {
      "text/html": [
       "<style scoped>\n",
       "  .table-result-container {\n",
       "    max-height: 300px;\n",
       "    overflow: auto;\n",
       "  }\n",
       "  table, th, td {\n",
       "    border: 1px solid black;\n",
       "    border-collapse: collapse;\n",
       "  }\n",
       "  th, td {\n",
       "    padding: 5px;\n",
       "  }\n",
       "  th {\n",
       "    text-align: left;\n",
       "  }\n",
       "</style><div class='table-result-container'><table class='table-result'><thead style='background-color: white'><tr><th>Project</th><th>AvgRating</th></tr></thead><tbody><tr><td>HR Portal</td><td>4.699999999999999</td></tr><tr><td>Data Platform</td><td>4.35</td></tr><tr><td>Campaign Tracker</td><td>3.95</td></tr><tr><td>ML Pipeline</td><td>4.9</td></tr></tbody></table></div>"
      ]
     },
     "metadata": {
      "application/vnd.databricks.v1+output": {
       "addedWidgets": {},
       "aggData": [],
       "aggError": "",
       "aggOverflow": false,
       "aggSchema": [],
       "aggSeriesLimitReached": false,
       "aggType": "",
       "arguments": {},
       "columnCustomDisplayInfos": {},
       "data": [
        [
         "HR Portal",
         4.699999999999999
        ],
        [
         "Data Platform",
         4.35
        ],
        [
         "Campaign Tracker",
         3.95
        ],
        [
         "ML Pipeline",
         4.9
        ]
       ],
       "datasetInfos": [],
       "dbfsResultPath": null,
       "isJsonSchema": true,
       "metadata": {},
       "overflow": false,
       "plotOptions": {
        "customPlotOptions": {},
        "displayType": "table",
        "pivotAggregation": null,
        "pivotColumns": null,
        "xColumns": null,
        "yColumns": null
       },
       "removedWidgets": [],
       "schema": [
        {
         "metadata": "{}",
         "name": "Project",
         "type": "\"string\""
        },
        {
         "metadata": "{}",
         "name": "AvgRating",
         "type": "\"double\""
        }
       ],
       "type": "table"
      }
     },
     "output_type": "display_data"
    }
   ],
   "source": [
    "# 1. Join all three DataFrames\n",
    "df_combined = df_emp.join(df_perf, \"Name\").join(df_proj, \"Name\")\n",
    "display(df_combined)\n",
    "\n",
    "# 2. Total hours worked per department\n",
    "hours_per_dept = df_combined.groupBy(\"Department\").agg(sum(\"Hoursworked\").alias(\"TotalHours\"))\n",
    "display(hours_per_dept)\n",
    "\n",
    "# 3. Average rating per project\n",
    "avg_rating_per_project = df_combined.groupBy(\"Project\").agg(avg(\"Rating\").alias(\"AvgRating\"))\n",
    "display(avg_rating_per_project)"
   ]
  },
  {
   "cell_type": "code",
   "execution_count": 0,
   "metadata": {
    "application/vnd.databricks.v1+cell": {
     "cellMetadata": {
      "byteLimit": 2048000,
      "rowLimit": 10000
     },
     "inputWidgets": {},
     "nuid": "218f7393-2e9a-4307-b549-af4058f1e048",
     "showTitle": false,
     "tableResultSettingsMap": {},
     "title": ""
    }
   },
   "outputs": [
    {
     "output_type": "display_data",
     "data": {
      "text/html": [
       "<style scoped>\n",
       "  .table-result-container {\n",
       "    max-height: 300px;\n",
       "    overflow: auto;\n",
       "  }\n",
       "  table, th, td {\n",
       "    border: 1px solid black;\n",
       "    border-collapse: collapse;\n",
       "  }\n",
       "  th, td {\n",
       "    padding: 5px;\n",
       "  }\n",
       "  th {\n",
       "    text-align: left;\n",
       "  }\n",
       "</style><div class='table-result-container'><table class='table-result'><thead style='background-color: white'><tr><th>Name</th><th>Rating</th></tr></thead><tbody><tr><td>Ananya</td><td>4.8</td></tr><tr><td>Rahul</td><td>4.5</td></tr><tr><td>Priya</td><td>4.2</td></tr><tr><td>Zoya</td><td>3.9</td></tr><tr><td>Karan</td><td>4.6</td></tr><tr><td>Naveen</td><td>4.9</td></tr><tr><td>Fatima</td><td>4.0</td></tr><tr><td>Meena</td><td>null</td></tr></tbody></table></div>"
      ]
     },
     "metadata": {
      "application/vnd.databricks.v1+output": {
       "addedWidgets": {},
       "aggData": [],
       "aggError": "",
       "aggOverflow": false,
       "aggSchema": [],
       "aggSeriesLimitReached": false,
       "aggType": "",
       "arguments": {},
       "columnCustomDisplayInfos": {},
       "data": [
        [
         "Ananya",
         4.8
        ],
        [
         "Rahul",
         4.5
        ],
        [
         "Priya",
         4.2
        ],
        [
         "Zoya",
         3.9
        ],
        [
         "Karan",
         4.6
        ],
        [
         "Naveen",
         4.9
        ],
        [
         "Fatima",
         4.0
        ],
        [
         "Meena",
         null
        ]
       ],
       "datasetInfos": [],
       "dbfsResultPath": null,
       "isJsonSchema": true,
       "metadata": {},
       "overflow": false,
       "plotOptions": {
        "customPlotOptions": {},
        "displayType": "table",
        "pivotAggregation": null,
        "pivotColumns": null,
        "xColumns": null,
        "yColumns": null
       },
       "removedWidgets": [],
       "schema": [
        {
         "metadata": "{}",
         "name": "Name",
         "type": "\"string\""
        },
        {
         "metadata": "{}",
         "name": "Rating",
         "type": "\"double\""
        }
       ],
       "type": "table"
      }
     },
     "output_type": "display_data"
    },
    {
     "output_type": "display_data",
     "data": {
      "text/html": [
       "<style scoped>\n",
       "  .table-result-container {\n",
       "    max-height: 300px;\n",
       "    overflow: auto;\n",
       "  }\n",
       "  table, th, td {\n",
       "    border: 1px solid black;\n",
       "    border-collapse: collapse;\n",
       "  }\n",
       "  th, td {\n",
       "    padding: 5px;\n",
       "  }\n",
       "  th {\n",
       "    text-align: left;\n",
       "  }\n",
       "</style><div class='table-result-container'><table class='table-result'><thead style='background-color: white'><tr><th>Name</th><th>Rating</th></tr></thead><tbody><tr><td>Meena</td><td>null</td></tr></tbody></table></div>"
      ]
     },
     "metadata": {
      "application/vnd.databricks.v1+output": {
       "addedWidgets": {},
       "aggData": [],
       "aggError": "",
       "aggOverflow": false,
       "aggSchema": [],
       "aggSeriesLimitReached": false,
       "aggType": "",
       "arguments": {},
       "columnCustomDisplayInfos": {},
       "data": [
        [
         "Meena",
         null
        ]
       ],
       "datasetInfos": [],
       "dbfsResultPath": null,
       "isJsonSchema": true,
       "metadata": {},
       "overflow": false,
       "plotOptions": {
        "customPlotOptions": {},
        "displayType": "table",
        "pivotAggregation": null,
        "pivotColumns": null,
        "xColumns": null,
        "yColumns": null
       },
       "removedWidgets": [],
       "schema": [
        {
         "metadata": "{}",
         "name": "Name",
         "type": "\"string\""
        },
        {
         "metadata": "{}",
         "name": "Rating",
         "type": "\"double\""
        }
       ],
       "type": "table"
      }
     },
     "output_type": "display_data"
    },
    {
     "output_type": "display_data",
     "data": {
      "text/html": [
       "<style scoped>\n",
       "  .table-result-container {\n",
       "    max-height: 300px;\n",
       "    overflow: auto;\n",
       "  }\n",
       "  table, th, td {\n",
       "    border: 1px solid black;\n",
       "    border-collapse: collapse;\n",
       "  }\n",
       "  th, td {\n",
       "    padding: 5px;\n",
       "  }\n",
       "  th {\n",
       "    text-align: left;\n",
       "  }\n",
       "</style><div class='table-result-container'><table class='table-result'><thead style='background-color: white'><tr><th>Name</th><th>Rating</th></tr></thead><tbody><tr><td>Ananya</td><td>4.8</td></tr><tr><td>Rahul</td><td>4.5</td></tr><tr><td>Priya</td><td>4.2</td></tr><tr><td>Zoya</td><td>3.9</td></tr><tr><td>Karan</td><td>4.6</td></tr><tr><td>Naveen</td><td>4.9</td></tr><tr><td>Fatima</td><td>4.0</td></tr><tr><td>Meena</td><td>null</td></tr></tbody></table></div>"
      ]
     },
     "metadata": {
      "application/vnd.databricks.v1+output": {
       "addedWidgets": {},
       "aggData": [],
       "aggError": "",
       "aggOverflow": false,
       "aggSchema": [],
       "aggSeriesLimitReached": false,
       "aggType": "",
       "arguments": {},
       "columnCustomDisplayInfos": {},
       "data": [
        [
         "Ananya",
         4.8
        ],
        [
         "Rahul",
         4.5
        ],
        [
         "Priya",
         4.2
        ],
        [
         "Zoya",
         3.9
        ],
        [
         "Karan",
         4.6
        ],
        [
         "Naveen",
         4.9
        ],
        [
         "Fatima",
         4.0
        ],
        [
         "Meena",
         null
        ]
       ],
       "datasetInfos": [],
       "dbfsResultPath": null,
       "isJsonSchema": true,
       "metadata": {},
       "overflow": false,
       "plotOptions": {
        "customPlotOptions": {},
        "displayType": "table",
        "pivotAggregation": null,
        "pivotColumns": null,
        "xColumns": null,
        "yColumns": null
       },
       "removedWidgets": [],
       "schema": [
        {
         "metadata": "{}",
         "name": "Name",
         "type": "\"string\""
        },
        {
         "metadata": "{}",
         "name": "Rating",
         "type": "\"double\""
        }
       ],
       "type": "table"
      }
     },
     "output_type": "display_data"
    }
   ],
   "source": [
    "# 4. Add a row with None rating\n",
    "from pyspark.sql.types import StructType, StructField, StringType, DoubleType\n",
    "\n",
    "perf_schema = StructType([\n",
    "    StructField(\"Name\", StringType(), True),\n",
    "    StructField(\"Rating\", DoubleType(), True)\n",
    "])\n",
    "\n",
    "new_row = spark.createDataFrame([(\"Meena\", None)], schema=perf_schema)\n",
    "\n",
    "df_perf = df_perf.union(new_row)\n",
    "display(df_perf)\n",
    "\n",
    "# 5. Filter rows with null ratings\n",
    "null_rows = df_perf.filter(col(\"Rating\").isNull())\n",
    "display(null_rows)\n",
    "\n",
    "# 6. Replace nulls with department average\n",
    "# First ensure we're using the fixed df_perf in our combined DF\n",
    "df_combined = df_emp.join(df_perf, \"Name\").join(df_proj, \"Name\")\n",
    "\n",
    "dept_avg = df_combined.groupBy(\"Department\").agg(avg(\"Rating\").alias(\"DeptAvgRating\"))\n",
    "\n",
    "df_perf_fixed = df_perf.join(df_emp, \"Name\", \"left\") \\\n",
    "                       .join(dept_avg, \"Department\", \"left\") \\\n",
    "                       .withColumn(\"Rating\", \n",
    "                                  when(col(\"Rating\").isNull(), col(\"DeptAvgRating\")) \\\n",
    "                                  .otherwise(col(\"Rating\"))) \\\n",
    "                       .select(\"Name\", \"Rating\")\n",
    "\n",
    "display(df_perf_fixed)"
   ]
  },
  {
   "cell_type": "code",
   "execution_count": 0,
   "metadata": {
    "application/vnd.databricks.v1+cell": {
     "cellMetadata": {
      "byteLimit": 2048000,
      "rowLimit": 10000
     },
     "inputWidgets": {},
     "nuid": "a95fcc8f-ae5f-40f1-9cc5-e9543aa6e2cd",
     "showTitle": false,
     "tableResultSettingsMap": {},
     "title": ""
    }
   },
   "outputs": [
    {
     "output_type": "display_data",
     "data": {
      "text/html": [
       "<style scoped>\n",
       "  .table-result-container {\n",
       "    max-height: 300px;\n",
       "    overflow: auto;\n",
       "  }\n",
       "  table, th, td {\n",
       "    border: 1px solid black;\n",
       "    border-collapse: collapse;\n",
       "  }\n",
       "  th, td {\n",
       "    padding: 5px;\n",
       "  }\n",
       "  th {\n",
       "    text-align: left;\n",
       "  }\n",
       "</style><div class='table-result-container'><table class='table-result'><thead style='background-color: white'><tr><th>Name</th><th>Department</th><th>Salary</th><th>Rating</th><th>Project</th><th>Hoursworked</th><th>PerformanceCategory</th></tr></thead><tbody><tr><td>Ananya</td><td>HR</td><td>50000</td><td>4.8</td><td>HR Portal</td><td>129</td><td>Excellent</td></tr><tr><td>Priya</td><td>Engineering</td><td>55000</td><td>4.2</td><td>Data Platform</td><td>180</td><td>Good</td></tr><tr><td>Rahul</td><td>Engineering</td><td>60000</td><td>4.5</td><td>Data Platform</td><td>200</td><td>Good</td></tr><tr><td>Zoya</td><td>Marketing</td><td>45000</td><td>3.9</td><td>Campaign Tracker</td><td>100</td><td>Average</td></tr><tr><td>Karan</td><td>HR</td><td>52000</td><td>4.6</td><td>HR Portal</td><td>130</td><td>Good</td></tr><tr><td>Naveen</td><td>Engineering</td><td>65000</td><td>4.9</td><td>ML Pipeline</td><td>220</td><td>Excellent</td></tr><tr><td>Fatima</td><td>Marketing</td><td>48000</td><td>4.0</td><td>Campaign Tracker</td><td>90</td><td>Good</td></tr></tbody></table></div>"
      ]
     },
     "metadata": {
      "application/vnd.databricks.v1+output": {
       "addedWidgets": {},
       "aggData": [],
       "aggError": "",
       "aggOverflow": false,
       "aggSchema": [],
       "aggSeriesLimitReached": false,
       "aggType": "",
       "arguments": {},
       "columnCustomDisplayInfos": {},
       "data": [
        [
         "Ananya",
         "HR",
         50000,
         4.8,
         "HR Portal",
         129,
         "Excellent"
        ],
        [
         "Priya",
         "Engineering",
         55000,
         4.2,
         "Data Platform",
         180,
         "Good"
        ],
        [
         "Rahul",
         "Engineering",
         60000,
         4.5,
         "Data Platform",
         200,
         "Good"
        ],
        [
         "Zoya",
         "Marketing",
         45000,
         3.9,
         "Campaign Tracker",
         100,
         "Average"
        ],
        [
         "Karan",
         "HR",
         52000,
         4.6,
         "HR Portal",
         130,
         "Good"
        ],
        [
         "Naveen",
         "Engineering",
         65000,
         4.9,
         "ML Pipeline",
         220,
         "Excellent"
        ],
        [
         "Fatima",
         "Marketing",
         48000,
         4.0,
         "Campaign Tracker",
         90,
         "Good"
        ]
       ],
       "datasetInfos": [],
       "dbfsResultPath": null,
       "isJsonSchema": true,
       "metadata": {},
       "overflow": false,
       "plotOptions": {
        "customPlotOptions": {},
        "displayType": "table",
        "pivotAggregation": null,
        "pivotColumns": null,
        "xColumns": null,
        "yColumns": null
       },
       "removedWidgets": [],
       "schema": [
        {
         "metadata": "{}",
         "name": "Name",
         "type": "\"string\""
        },
        {
         "metadata": "{}",
         "name": "Department",
         "type": "\"string\""
        },
        {
         "metadata": "{}",
         "name": "Salary",
         "type": "\"long\""
        },
        {
         "metadata": "{}",
         "name": "Rating",
         "type": "\"double\""
        },
        {
         "metadata": "{}",
         "name": "Project",
         "type": "\"string\""
        },
        {
         "metadata": "{}",
         "name": "Hoursworked",
         "type": "\"long\""
        },
        {
         "metadata": "{}",
         "name": "PerformanceCategory",
         "type": "\"string\""
        }
       ],
       "type": "table"
      }
     },
     "output_type": "display_data"
    },
    {
     "output_type": "display_data",
     "data": {
      "text/html": [
       "<style scoped>\n",
       "  .table-result-container {\n",
       "    max-height: 300px;\n",
       "    overflow: auto;\n",
       "  }\n",
       "  table, th, td {\n",
       "    border: 1px solid black;\n",
       "    border-collapse: collapse;\n",
       "  }\n",
       "  th, td {\n",
       "    padding: 5px;\n",
       "  }\n",
       "  th {\n",
       "    text-align: left;\n",
       "  }\n",
       "</style><div class='table-result-container'><table class='table-result'><thead style='background-color: white'><tr><th>Name</th><th>Department</th><th>Salary</th><th>Rating</th><th>Project</th><th>Hoursworked</th><th>PerformanceCategory</th><th>Bonus</th></tr></thead><tbody><tr><td>Ananya</td><td>HR</td><td>50000</td><td>4.8</td><td>HR Portal</td><td>129</td><td>Excellent</td><td>15000</td></tr><tr><td>Priya</td><td>Engineering</td><td>55000</td><td>4.2</td><td>Data Platform</td><td>180</td><td>Good</td><td>15000</td></tr><tr><td>Rahul</td><td>Engineering</td><td>60000</td><td>4.5</td><td>Data Platform</td><td>200</td><td>Good</td><td>15000</td></tr><tr><td>Zoya</td><td>Marketing</td><td>45000</td><td>3.9</td><td>Campaign Tracker</td><td>100</td><td>Average</td><td>15000</td></tr><tr><td>Karan</td><td>HR</td><td>52000</td><td>4.6</td><td>HR Portal</td><td>130</td><td>Good</td><td>15000</td></tr><tr><td>Naveen</td><td>Engineering</td><td>65000</td><td>4.9</td><td>ML Pipeline</td><td>220</td><td>Excellent</td><td>110000</td></tr><tr><td>Fatima</td><td>Marketing</td><td>48000</td><td>4.0</td><td>Campaign Tracker</td><td>90</td><td>Good</td><td>15000</td></tr></tbody></table></div>"
      ]
     },
     "metadata": {
      "application/vnd.databricks.v1+output": {
       "addedWidgets": {},
       "aggData": [],
       "aggError": "",
       "aggOverflow": false,
       "aggSchema": [],
       "aggSeriesLimitReached": false,
       "aggType": "",
       "arguments": {},
       "columnCustomDisplayInfos": {},
       "data": [
        [
         "Ananya",
         "HR",
         50000,
         4.8,
         "HR Portal",
         129,
         "Excellent",
         15000
        ],
        [
         "Priya",
         "Engineering",
         55000,
         4.2,
         "Data Platform",
         180,
         "Good",
         15000
        ],
        [
         "Rahul",
         "Engineering",
         60000,
         4.5,
         "Data Platform",
         200,
         "Good",
         15000
        ],
        [
         "Zoya",
         "Marketing",
         45000,
         3.9,
         "Campaign Tracker",
         100,
         "Average",
         15000
        ],
        [
         "Karan",
         "HR",
         52000,
         4.6,
         "HR Portal",
         130,
         "Good",
         15000
        ],
        [
         "Naveen",
         "Engineering",
         65000,
         4.9,
         "ML Pipeline",
         220,
         "Excellent",
         110000
        ],
        [
         "Fatima",
         "Marketing",
         48000,
         4.0,
         "Campaign Tracker",
         90,
         "Good",
         15000
        ]
       ],
       "datasetInfos": [],
       "dbfsResultPath": null,
       "isJsonSchema": true,
       "metadata": {},
       "overflow": false,
       "plotOptions": {
        "customPlotOptions": {},
        "displayType": "table",
        "pivotAggregation": null,
        "pivotColumns": null,
        "xColumns": null,
        "yColumns": null
       },
       "removedWidgets": [],
       "schema": [
        {
         "metadata": "{}",
         "name": "Name",
         "type": "\"string\""
        },
        {
         "metadata": "{}",
         "name": "Department",
         "type": "\"string\""
        },
        {
         "metadata": "{}",
         "name": "Salary",
         "type": "\"long\""
        },
        {
         "metadata": "{}",
         "name": "Rating",
         "type": "\"double\""
        },
        {
         "metadata": "{}",
         "name": "Project",
         "type": "\"string\""
        },
        {
         "metadata": "{}",
         "name": "Hoursworked",
         "type": "\"long\""
        },
        {
         "metadata": "{}",
         "name": "PerformanceCategory",
         "type": "\"string\""
        },
        {
         "metadata": "{}",
         "name": "Bonus",
         "type": "\"integer\""
        }
       ],
       "type": "table"
      }
     },
     "output_type": "display_data"
    }
   ],
   "source": [
    "# 7. Create PerformanceCategory column\n",
    "df_combined = df_combined.withColumn(\"PerformanceCategory\",\n",
    "    when(col(\"Rating\") >= 4.7, \"Excellent\") \\\n",
    "    .when((col(\"Rating\") >= 4.0) & (col(\"Rating\") < 4.7), \"Good\") \\\n",
    "    .otherwise(\"Average\"))\n",
    "display(df_combined)\n",
    "\n",
    "# 8. UDF for bonus calculation\n",
    "def assign_bonus(hours):\n",
    "    return 110000 if hours > 200 else 15000\n",
    "\n",
    "bonus_udf = udf(assign_bonus, IntegerType())\n",
    "df_combined = df_combined.withColumn(\"Bonus\", bonus_udf(col(\"Hoursworked\")))\n",
    "display(df_combined)"
   ]
  },
  {
   "cell_type": "code",
   "execution_count": 0,
   "metadata": {
    "application/vnd.databricks.v1+cell": {
     "cellMetadata": {
      "byteLimit": 2048000,
      "rowLimit": 10000
     },
     "inputWidgets": {},
     "nuid": "0b8e1513-fdb8-4652-9d8c-d57b16ca2ce8",
     "showTitle": false,
     "tableResultSettingsMap": {},
     "title": ""
    }
   },
   "outputs": [
    {
     "output_type": "display_data",
     "data": {
      "text/html": [
       "<style scoped>\n",
       "  .table-result-container {\n",
       "    max-height: 300px;\n",
       "    overflow: auto;\n",
       "  }\n",
       "  table, th, td {\n",
       "    border: 1px solid black;\n",
       "    border-collapse: collapse;\n",
       "  }\n",
       "  th, td {\n",
       "    padding: 5px;\n",
       "  }\n",
       "  th {\n",
       "    text-align: left;\n",
       "  }\n",
       "</style><div class='table-result-container'><table class='table-result'><thead style='background-color: white'><tr><th>Name</th><th>Department</th><th>Salary</th><th>Rating</th><th>Project</th><th>Hoursworked</th><th>PerformanceCategory</th><th>Bonus</th><th>JoinDate</th><th>Monthsworked</th></tr></thead><tbody><tr><td>Ananya</td><td>HR</td><td>50000</td><td>4.8</td><td>HR Portal</td><td>129</td><td>Excellent</td><td>15000</td><td>2021-06-01</td><td>48.32258065</td></tr><tr><td>Priya</td><td>Engineering</td><td>55000</td><td>4.2</td><td>Data Platform</td><td>180</td><td>Good</td><td>15000</td><td>2021-06-01</td><td>48.32258065</td></tr><tr><td>Rahul</td><td>Engineering</td><td>60000</td><td>4.5</td><td>Data Platform</td><td>200</td><td>Good</td><td>15000</td><td>2021-06-01</td><td>48.32258065</td></tr><tr><td>Zoya</td><td>Marketing</td><td>45000</td><td>3.9</td><td>Campaign Tracker</td><td>100</td><td>Average</td><td>15000</td><td>2021-06-01</td><td>48.32258065</td></tr><tr><td>Karan</td><td>HR</td><td>52000</td><td>4.6</td><td>HR Portal</td><td>130</td><td>Good</td><td>15000</td><td>2021-06-01</td><td>48.32258065</td></tr><tr><td>Naveen</td><td>Engineering</td><td>65000</td><td>4.9</td><td>ML Pipeline</td><td>220</td><td>Excellent</td><td>110000</td><td>2021-06-01</td><td>48.32258065</td></tr><tr><td>Fatima</td><td>Marketing</td><td>48000</td><td>4.0</td><td>Campaign Tracker</td><td>90</td><td>Good</td><td>15000</td><td>2021-06-01</td><td>48.32258065</td></tr></tbody></table></div>"
      ]
     },
     "metadata": {
      "application/vnd.databricks.v1+output": {
       "addedWidgets": {},
       "aggData": [],
       "aggError": "",
       "aggOverflow": false,
       "aggSchema": [],
       "aggSeriesLimitReached": false,
       "aggType": "",
       "arguments": {},
       "columnCustomDisplayInfos": {},
       "data": [
        [
         "Ananya",
         "HR",
         50000,
         4.8,
         "HR Portal",
         129,
         "Excellent",
         15000,
         "2021-06-01",
         48.32258065
        ],
        [
         "Priya",
         "Engineering",
         55000,
         4.2,
         "Data Platform",
         180,
         "Good",
         15000,
         "2021-06-01",
         48.32258065
        ],
        [
         "Rahul",
         "Engineering",
         60000,
         4.5,
         "Data Platform",
         200,
         "Good",
         15000,
         "2021-06-01",
         48.32258065
        ],
        [
         "Zoya",
         "Marketing",
         45000,
         3.9,
         "Campaign Tracker",
         100,
         "Average",
         15000,
         "2021-06-01",
         48.32258065
        ],
        [
         "Karan",
         "HR",
         52000,
         4.6,
         "HR Portal",
         130,
         "Good",
         15000,
         "2021-06-01",
         48.32258065
        ],
        [
         "Naveen",
         "Engineering",
         65000,
         4.9,
         "ML Pipeline",
         220,
         "Excellent",
         110000,
         "2021-06-01",
         48.32258065
        ],
        [
         "Fatima",
         "Marketing",
         48000,
         4.0,
         "Campaign Tracker",
         90,
         "Good",
         15000,
         "2021-06-01",
         48.32258065
        ]
       ],
       "datasetInfos": [],
       "dbfsResultPath": null,
       "isJsonSchema": true,
       "metadata": {},
       "overflow": false,
       "plotOptions": {
        "customPlotOptions": {},
        "displayType": "table",
        "pivotAggregation": null,
        "pivotColumns": null,
        "xColumns": null,
        "yColumns": null
       },
       "removedWidgets": [],
       "schema": [
        {
         "metadata": "{}",
         "name": "Name",
         "type": "\"string\""
        },
        {
         "metadata": "{}",
         "name": "Department",
         "type": "\"string\""
        },
        {
         "metadata": "{}",
         "name": "Salary",
         "type": "\"long\""
        },
        {
         "metadata": "{}",
         "name": "Rating",
         "type": "\"double\""
        },
        {
         "metadata": "{}",
         "name": "Project",
         "type": "\"string\""
        },
        {
         "metadata": "{}",
         "name": "Hoursworked",
         "type": "\"long\""
        },
        {
         "metadata": "{}",
         "name": "PerformanceCategory",
         "type": "\"string\""
        },
        {
         "metadata": "{}",
         "name": "Bonus",
         "type": "\"integer\""
        },
        {
         "metadata": "{}",
         "name": "JoinDate",
         "type": "\"date\""
        },
        {
         "metadata": "{}",
         "name": "Monthsworked",
         "type": "\"double\""
        }
       ],
       "type": "table"
      }
     },
     "output_type": "display_data"
    },
    {
     "output_type": "stream",
     "name": "stdout",
     "output_type": "stream",
     "text": [
      "Employees joined before 2022: 7\n"
     ]
    },
    {
     "output_type": "display_data",
     "data": {
      "text/html": [
       "<style scoped>\n",
       "  .table-result-container {\n",
       "    max-height: 300px;\n",
       "    overflow: auto;\n",
       "  }\n",
       "  table, th, td {\n",
       "    border: 1px solid black;\n",
       "    border-collapse: collapse;\n",
       "  }\n",
       "  th, td {\n",
       "    padding: 5px;\n",
       "  }\n",
       "  th {\n",
       "    text-align: left;\n",
       "  }\n",
       "</style><div class='table-result-container'><table class='table-result'><thead style='background-color: white'><tr><th>Name</th><th>Department</th><th>Salary</th></tr></thead><tbody><tr><td>Ananya</td><td>HR</td><td>50000</td></tr><tr><td>Rahul</td><td>Engineering</td><td>60000</td></tr><tr><td>Priya</td><td>Engineering</td><td>55000</td></tr><tr><td>Zoya</td><td>Marketing</td><td>45000</td></tr><tr><td>Karan</td><td>HR</td><td>52000</td></tr><tr><td>Naveen</td><td>Engineering</td><td>65000</td></tr><tr><td>Fatima</td><td>Marketing</td><td>48000</td></tr><tr><td>Meena</td><td>HR</td><td>48000</td></tr><tr><td>Raj</td><td>Marketing</td><td>51000</td></tr></tbody></table></div>"
      ]
     },
     "metadata": {
      "application/vnd.databricks.v1+output": {
       "addedWidgets": {},
       "aggData": [],
       "aggError": "",
       "aggOverflow": false,
       "aggSchema": [],
       "aggSeriesLimitReached": false,
       "aggType": "",
       "arguments": {},
       "columnCustomDisplayInfos": {},
       "data": [
        [
         "Ananya",
         "HR",
         50000
        ],
        [
         "Rahul",
         "Engineering",
         60000
        ],
        [
         "Priya",
         "Engineering",
         55000
        ],
        [
         "Zoya",
         "Marketing",
         45000
        ],
        [
         "Karan",
         "HR",
         52000
        ],
        [
         "Naveen",
         "Engineering",
         65000
        ],
        [
         "Fatima",
         "Marketing",
         48000
        ],
        [
         "Meena",
         "HR",
         48000
        ],
        [
         "Raj",
         "Marketing",
         51000
        ]
       ],
       "datasetInfos": [],
       "dbfsResultPath": null,
       "isJsonSchema": true,
       "metadata": {},
       "overflow": false,
       "plotOptions": {
        "customPlotOptions": {},
        "displayType": "table",
        "pivotAggregation": null,
        "pivotColumns": null,
        "xColumns": null,
        "yColumns": null
       },
       "removedWidgets": [],
       "schema": [
        {
         "metadata": "{}",
         "name": "Name",
         "type": "\"string\""
        },
        {
         "metadata": "{}",
         "name": "Department",
         "type": "\"string\""
        },
        {
         "metadata": "{}",
         "name": "Salary",
         "type": "\"long\""
        }
       ],
       "type": "table"
      }
     },
     "output_type": "display_data"
    }
   ],
   "source": [
    "# 9. Add JoinDate and MonthsWorked\n",
    "df_combined = df_combined.withColumn(\"JoinDate\", lit(\"2021-06-01\").cast(\"date\"))\n",
    "today = datetime.now().date()\n",
    "df_combined = df_combined.withColumn(\"Monthsworked\", \n",
    "                                   months_between(lit(today), col(\"JoinDate\")))\n",
    "display(df_combined)\n",
    "\n",
    "# 10. Employees joined before 2022\n",
    "employees_before_2022 = df_combined.filter(year(col(\"JoinDate\")) < 2022)\n",
    "print(f\"Employees joined before 2022: {employees_before_2022.count()}\")\n",
    "\n",
    "# 11. Union with extra employees\n",
    "extra_employees = [\n",
    "    (\"Meena\", \"HR\", 48000),\n",
    "    (\"Raj\", \"Marketing\", 51000)\n",
    "]\n",
    "df_extra = spark.createDataFrame(extra_employees, columns_emp)\n",
    "df_emp = df_emp.union(df_extra)\n",
    "display(df_emp)"
   ]
  },
  {
   "cell_type": "code",
   "execution_count": 0,
   "metadata": {
    "application/vnd.databricks.v1+cell": {
     "cellMetadata": {
      "byteLimit": 2048000,
      "rowLimit": 10000
     },
     "inputWidgets": {},
     "nuid": "b538b1a7-e215-4d25-baf2-a8e59dfa3acc",
     "showTitle": false,
     "tableResultSettingsMap": {},
     "title": ""
    }
   },
   "outputs": [
    {
     "output_type": "stream",
     "name": "stdout",
     "output_type": "stream",
     "text": [
      "Final dataset saved as partitioned Parquet!\n"
     ]
    }
   ],
   "source": [
    "# 12. Save as partitioned Parquet \n",
    "df_combined_final = df_emp.join(df_perf_fixed, \"Name\", \"left\").join(df_proj, \"Name\", \"left\")\n",
    "\n",
    "df_combined_final.write \\\n",
    "    .partitionBy(\"Department\") \\\n",
    "    .mode(\"overwrite\") \\\n",
    "    .parquet(\"/mnt/data/employee_data_partitioned.parquet\")\n",
    "\n",
    "print(\"Final dataset saved as partitioned Parquet!\")"
   ]
  },
  {
   "cell_type": "code",
   "execution_count": 0,
   "metadata": {
    "application/vnd.databricks.v1+cell": {
     "cellMetadata": {
      "byteLimit": 2048000,
      "rowLimit": 10000
     },
     "inputWidgets": {},
     "nuid": "4c52c446-6266-46d4-bb6a-9f86c3b72673",
     "showTitle": false,
     "tableResultSettingsMap": {},
     "title": ""
    }
   },
   "outputs": [
    {
     "output_type": "display_data",
     "data": {
      "text/html": [
       "<style scoped>\n",
       "  .table-result-container {\n",
       "    max-height: 300px;\n",
       "    overflow: auto;\n",
       "  }\n",
       "  table, th, td {\n",
       "    border: 1px solid black;\n",
       "    border-collapse: collapse;\n",
       "  }\n",
       "  th, td {\n",
       "    padding: 5px;\n",
       "  }\n",
       "  th {\n",
       "    text-align: left;\n",
       "  }\n",
       "</style><div class='table-result-container'><table class='table-result'><thead style='background-color: white'><tr><th>Name</th><th>Salary</th><th>Rating</th><th>Project</th><th>Hoursworked</th><th>Department</th></tr></thead><tbody><tr><td>Rahul</td><td>60000</td><td>4.5</td><td>Data Platform</td><td>200</td><td>Engineering</td></tr><tr><td>Priya</td><td>55000</td><td>4.2</td><td>Data Platform</td><td>180</td><td>Engineering</td></tr><tr><td>Fatima</td><td>48000</td><td>4.0</td><td>Campaign Tracker</td><td>90</td><td>Marketing</td></tr><tr><td>Zoya</td><td>45000</td><td>3.9</td><td>Campaign Tracker</td><td>100</td><td>Marketing</td></tr><tr><td>Naveen</td><td>65000</td><td>4.9</td><td>ML Pipeline</td><td>220</td><td>Engineering</td></tr><tr><td>Ananya</td><td>50000</td><td>4.8</td><td>HR Portal</td><td>129</td><td>HR</td></tr><tr><td>Karan</td><td>52000</td><td>4.6</td><td>HR Portal</td><td>130</td><td>HR</td></tr><tr><td>Meena</td><td>48000</td><td>null</td><td>null</td><td>null</td><td>HR</td></tr><tr><td>Raj</td><td>51000</td><td>null</td><td>null</td><td>null</td><td>Marketing</td></tr></tbody></table></div>"
      ]
     },
     "metadata": {
      "application/vnd.databricks.v1+output": {
       "addedWidgets": {},
       "aggData": [],
       "aggError": "",
       "aggOverflow": false,
       "aggSchema": [],
       "aggSeriesLimitReached": false,
       "aggType": "",
       "arguments": {},
       "columnCustomDisplayInfos": {},
       "data": [
        [
         "Rahul",
         60000,
         4.5,
         "Data Platform",
         200,
         "Engineering"
        ],
        [
         "Priya",
         55000,
         4.2,
         "Data Platform",
         180,
         "Engineering"
        ],
        [
         "Fatima",
         48000,
         4.0,
         "Campaign Tracker",
         90,
         "Marketing"
        ],
        [
         "Zoya",
         45000,
         3.9,
         "Campaign Tracker",
         100,
         "Marketing"
        ],
        [
         "Naveen",
         65000,
         4.9,
         "ML Pipeline",
         220,
         "Engineering"
        ],
        [
         "Ananya",
         50000,
         4.8,
         "HR Portal",
         129,
         "HR"
        ],
        [
         "Karan",
         52000,
         4.6,
         "HR Portal",
         130,
         "HR"
        ],
        [
         "Meena",
         48000,
         null,
         null,
         null,
         "HR"
        ],
        [
         "Raj",
         51000,
         null,
         null,
         null,
         "Marketing"
        ]
       ],
       "datasetInfos": [],
       "dbfsResultPath": null,
       "isJsonSchema": true,
       "metadata": {},
       "overflow": false,
       "plotOptions": {
        "customPlotOptions": {},
        "displayType": "table",
        "pivotAggregation": null,
        "pivotColumns": null,
        "xColumns": null,
        "yColumns": null
       },
       "removedWidgets": [],
       "schema": [
        {
         "metadata": "{}",
         "name": "Name",
         "type": "\"string\""
        },
        {
         "metadata": "{}",
         "name": "Salary",
         "type": "\"long\""
        },
        {
         "metadata": "{}",
         "name": "Rating",
         "type": "\"double\""
        },
        {
         "metadata": "{}",
         "name": "Project",
         "type": "\"string\""
        },
        {
         "metadata": "{}",
         "name": "Hoursworked",
         "type": "\"long\""
        },
        {
         "metadata": "{}",
         "name": "Department",
         "type": "\"string\""
        }
       ],
       "type": "table"
      }
     },
     "output_type": "display_data"
    }
   ],
   "source": [
    "df_reloaded = spark.read.parquet(\"/mnt/data/employee_data_partitioned.parquet\")\n",
    "display(df_reloaded)"
   ]
  }
 ],
 "metadata": {
  "application/vnd.databricks.v1+notebook": {
   "computePreferences": null,
   "dashboards": [],
   "environmentMetadata": {
    "base_environment": "",
    "environment_version": "2"
   },
   "inputWidgetPreferences": null,
   "language": "python",
   "notebookMetadata": {
    "pythonIndentUnit": 4
   },
   "notebookName": "Combining Data",
   "widgets": {}
  },
  "language_info": {
   "name": "python"
  }
 },
 "nbformat": 4,
 "nbformat_minor": 0
}