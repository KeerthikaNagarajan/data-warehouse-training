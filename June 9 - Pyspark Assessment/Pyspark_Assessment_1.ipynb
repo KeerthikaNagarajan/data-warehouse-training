{
  "nbformat": 4,
  "nbformat_minor": 0,
  "metadata": {
    "colab": {
      "provenance": [],
      "gpuType": "T4"
    },
    "kernelspec": {
      "name": "python3",
      "display_name": "Python 3"
    },
    "language_info": {
      "name": "python"
    },
    "accelerator": "GPU"
  },
  "cells": [
    {
      "cell_type": "code",
      "execution_count": 1,
      "metadata": {
        "colab": {
          "base_uri": "https://localhost:8080/"
        },
        "id": "nj1POsobMMhn",
        "outputId": "d6c9e315-b5e2-46ba-c3f8-b1ea5e2ce658"
      },
      "outputs": [
        {
          "output_type": "stream",
          "name": "stdout",
          "text": [
            "Requirement already satisfied: pyspark in /usr/local/lib/python3.11/dist-packages (3.5.1)\n",
            "Requirement already satisfied: py4j==0.10.9.7 in /usr/local/lib/python3.11/dist-packages (from pyspark) (0.10.9.7)\n"
          ]
        }
      ],
      "source": [
        "!pip install pyspark\n",
        "\n",
        "from pyspark.sql import SparkSession\n",
        "from pyspark.sql.functions import *\n",
        "from pyspark.sql.types import *\n",
        "import time\n",
        "\n",
        "# Initialize Spark\n",
        "spark = SparkSession.builder.appName(\"PySparkAssessment\").getOrCreate()"
      ]
    },
    {
      "cell_type": "code",
      "source": [
        "# Define schemas\n",
        "customers_schema = StructType([\n",
        "    StructField(\"CustomerID\", IntegerType(), True),\n",
        "    StructField(\"Name\", StringType(), True),\n",
        "    StructField(\"Email\", StringType(), True),\n",
        "    StructField(\"City\", StringType(), True),\n",
        "    StructField(\"SignupDate\", DateType(), True)\n",
        "])\n",
        "\n",
        "orders_schema = StructType([\n",
        "    StructField(\"OrderID\", IntegerType(), True),\n",
        "    StructField(\"CustomerID\", IntegerType(), True),\n",
        "    StructField(\"Product\", StringType(), True),\n",
        "    StructField(\"Category\", StringType(), True),\n",
        "    StructField(\"Quantity\", IntegerType(), True),\n",
        "    StructField(\"Price\", DoubleType(), True),\n",
        "    StructField(\"OrderDate\", DateType(), True)\n",
        "])\n",
        "\n",
        "# Load data\n",
        "customers_df = spark.read.csv(\n",
        "    \"customers.csv\",\n",
        "    header=True,\n",
        "    schema=customers_schema,\n",
        "    dateFormat=\"yyyy-MM-dd\"\n",
        ")\n",
        "\n",
        "orders_df = spark.read.csv(\n",
        "    \"orders.csv\",\n",
        "    header=True,\n",
        "    schema=orders_schema,\n",
        "    dateFormat=\"yyyy-MM-dd\"\n",
        ")\n",
        "\n",
        "print(\"✅ Data loaded successfully!\")"
      ],
      "metadata": {
        "colab": {
          "base_uri": "https://localhost:8080/"
        },
        "id": "zmVbuyeQMNzj",
        "outputId": "eb7ac710-758b-46fc-e8b5-cb92e6b24220"
      },
      "execution_count": 3,
      "outputs": [
        {
          "output_type": "stream",
          "name": "stdout",
          "text": [
            "✅ Data loaded successfully!\n"
          ]
        }
      ]
    },
    {
      "cell_type": "code",
      "source": [
        "# 1.1 Print schemas\n",
        "print(\"📋 Customers Schema:\")\n",
        "customers_df.printSchema()\n",
        "print(\"\\n📋 Orders Schema:\")\n",
        "orders_df.printSchema()\n",
        "\n",
        "# 1.2 Count records\n",
        "print(f\"\\n👥 Total customers: {customers_df.count()}\")\n",
        "print(f\"🛒 Total orders: {orders_df.count()}\")\n",
        "\n",
        "# 1.3 Distinct cities\n",
        "print(\"\\n🌆 Distinct cities:\")\n",
        "customers_df.select(\"City\").distinct().show()"
      ],
      "metadata": {
        "colab": {
          "base_uri": "https://localhost:8080/"
        },
        "id": "l8-xtpCzMN2A",
        "outputId": "19425674-96e0-4433-fc30-2e08439a87ae"
      },
      "execution_count": 4,
      "outputs": [
        {
          "output_type": "stream",
          "name": "stdout",
          "text": [
            "📋 Customers Schema:\n",
            "root\n",
            " |-- CustomerID: integer (nullable = true)\n",
            " |-- Name: string (nullable = true)\n",
            " |-- Email: string (nullable = true)\n",
            " |-- City: string (nullable = true)\n",
            " |-- SignupDate: date (nullable = true)\n",
            "\n",
            "\n",
            "📋 Orders Schema:\n",
            "root\n",
            " |-- OrderID: integer (nullable = true)\n",
            " |-- CustomerID: integer (nullable = true)\n",
            " |-- Product: string (nullable = true)\n",
            " |-- Category: string (nullable = true)\n",
            " |-- Quantity: integer (nullable = true)\n",
            " |-- Price: double (nullable = true)\n",
            " |-- OrderDate: date (nullable = true)\n",
            "\n",
            "\n",
            "👥 Total customers: 5\n",
            "🛒 Total orders: 7\n",
            "\n",
            "🌆 Distinct cities:\n",
            "+---------+\n",
            "|     City|\n",
            "+---------+\n",
            "|Bangalore|\n",
            "|  Chennai|\n",
            "|   Mumbai|\n",
            "|    Delhi|\n",
            "|Hyderabad|\n",
            "+---------+\n",
            "\n"
          ]
        }
      ]
    },
    {
      "cell_type": "code",
      "source": [
        "# 2.1 Add TotalAmount\n",
        "orders_df = orders_df.withColumn(\"TotalAmount\", col(\"Price\") * col(\"Quantity\"))\n",
        "\n",
        "# 2.2 Add OrderYear\n",
        "orders_df = orders_df.withColumn(\"OrderYear\", year(col(\"OrderDate\")))\n",
        "\n",
        "# 2.3 Filter high-value orders\n",
        "print(\"\\n💰 High-value orders (>10,000):\")\n",
        "orders_df.filter(col(\"TotalAmount\") > 10000).show()\n",
        "\n",
        "# 2.4 Drop Email column\n",
        "customers_df = customers_df.drop(\"Email\")\n",
        "print(\"\\n👤 Customers without email column:\")\n",
        "customers_df.show()"
      ],
      "metadata": {
        "colab": {
          "base_uri": "https://localhost:8080/"
        },
        "id": "9Bq3gQImMN4m",
        "outputId": "78ed36c6-4996-46c8-a82f-ce211d3ef845"
      },
      "execution_count": 5,
      "outputs": [
        {
          "output_type": "stream",
          "name": "stdout",
          "text": [
            "\n",
            "💰 High-value orders (>10,000):\n",
            "+-------+----------+-------+-----------+--------+-------+----------+-----------+---------+\n",
            "|OrderID|CustomerID|Product|   Category|Quantity|  Price| OrderDate|TotalAmount|OrderYear|\n",
            "+-------+----------+-------+-----------+--------+-------+----------+-----------+---------+\n",
            "|      1|       101| Laptop|Electronics|       2|50000.0|2024-01-10|   100000.0|     2024|\n",
            "|      3|       102| Tablet|Electronics|       1|20000.0|2024-02-01|    20000.0|     2024|\n",
            "|      7|       102|  Phone|Electronics|       1|30000.0|2024-03-02|    30000.0|     2024|\n",
            "+-------+----------+-------+-----------+--------+-------+----------+-----------+---------+\n",
            "\n",
            "\n",
            "👤 Customers without email column:\n",
            "+----------+-----+---------+----------+\n",
            "|CustomerID| Name|     City|SignupDate|\n",
            "+----------+-----+---------+----------+\n",
            "|       101|  Ali|   Mumbai|2022-05-10|\n",
            "|       102| Neha|    Delhi|2023-01-15|\n",
            "|       103| Ravi|Bangalore|2021-11-01|\n",
            "|       104|Sneha|Hyderabad|2020-07-22|\n",
            "|       105| Amit|  Chennai|2023-03-10|\n",
            "+----------+-----+---------+----------+\n",
            "\n"
          ]
        }
      ]
    },
    {
      "cell_type": "code",
      "source": [
        "# 3.1 Simulate null and fill\n",
        "from pyspark.sql import Row\n",
        "from datetime import date\n",
        "\n",
        "new_row = Row(CustomerID=106, Name=\"Test\", City=None, SignupDate=date(2023, 1, 1))\n",
        "customers_with_null = customers_df.union(\n",
        "    spark.createDataFrame([new_row], schema=customers_df.schema)\n",
        ")\n",
        "customers_filled = customers_with_null.fillna(\"Unknown\", subset=[\"City\"])\n",
        "print(\"\\n🔍 Customers with null handling:\")\n",
        "customers_filled.show()\n",
        "\n",
        "# 3.2 Loyalty label\n",
        "customers_df = customers_df.withColumn(\n",
        "    \"CustomerType\",\n",
        "    when(col(\"SignupDate\") < \"2022-01-01\", \"Loyal\").otherwise(\"New\")\n",
        ")\n",
        "print(\"\\n🏆 Customer loyalty labels:\")\n",
        "customers_df.show()\n",
        "\n",
        "# 3.3 OrderType classification\n",
        "orders_df = orders_df.withColumn(\n",
        "    \"OrderType\",\n",
        "    when(col(\"TotalAmount\") < 5000, \"Low\").otherwise(\"High\")\n",
        ")\n",
        "print(\"\\n📊 Orders with type classification:\")\n",
        "orders_df.show()"
      ],
      "metadata": {
        "colab": {
          "base_uri": "https://localhost:8080/"
        },
        "id": "pYvdeDuQMN7N",
        "outputId": "ec6891e0-4e53-4dd5-fccb-996290dcb3ec"
      },
      "execution_count": 6,
      "outputs": [
        {
          "output_type": "stream",
          "name": "stdout",
          "text": [
            "\n",
            "🔍 Customers with null handling:\n",
            "+----------+-----+---------+----------+\n",
            "|CustomerID| Name|     City|SignupDate|\n",
            "+----------+-----+---------+----------+\n",
            "|       101|  Ali|   Mumbai|2022-05-10|\n",
            "|       102| Neha|    Delhi|2023-01-15|\n",
            "|       103| Ravi|Bangalore|2021-11-01|\n",
            "|       104|Sneha|Hyderabad|2020-07-22|\n",
            "|       105| Amit|  Chennai|2023-03-10|\n",
            "|       106| Test|  Unknown|2023-01-01|\n",
            "+----------+-----+---------+----------+\n",
            "\n",
            "\n",
            "🏆 Customer loyalty labels:\n",
            "+----------+-----+---------+----------+------------+\n",
            "|CustomerID| Name|     City|SignupDate|CustomerType|\n",
            "+----------+-----+---------+----------+------------+\n",
            "|       101|  Ali|   Mumbai|2022-05-10|         New|\n",
            "|       102| Neha|    Delhi|2023-01-15|         New|\n",
            "|       103| Ravi|Bangalore|2021-11-01|       Loyal|\n",
            "|       104|Sneha|Hyderabad|2020-07-22|       Loyal|\n",
            "|       105| Amit|  Chennai|2023-03-10|         New|\n",
            "+----------+-----+---------+----------+------------+\n",
            "\n",
            "\n",
            "📊 Orders with type classification:\n",
            "+-------+----------+---------+-----------+--------+-------+----------+-----------+---------+---------+\n",
            "|OrderID|CustomerID|  Product|   Category|Quantity|  Price| OrderDate|TotalAmount|OrderYear|OrderType|\n",
            "+-------+----------+---------+-----------+--------+-------+----------+-----------+---------+---------+\n",
            "|      1|       101|   Laptop|Electronics|       2|50000.0|2024-01-10|   100000.0|     2024|     High|\n",
            "|      2|       101|    Mouse|Electronics|       1| 1200.0|2024-01-15|     1200.0|     2024|      Low|\n",
            "|      3|       102|   Tablet|Electronics|       1|20000.0|2024-02-01|    20000.0|     2024|     High|\n",
            "|      4|       103|Bookshelf|  Furniture|       1| 3500.0|2024-02-10|     3500.0|     2024|      Low|\n",
            "|      5|       104|    Mixer| Appliances|       1| 5000.0|2024-02-15|     5000.0|     2024|     High|\n",
            "|      6|       105| Notebook| Stationery|       5|  500.0|2024-03-01|     2500.0|     2024|      Low|\n",
            "|      7|       102|    Phone|Electronics|       1|30000.0|2024-03-02|    30000.0|     2024|     High|\n",
            "+-------+----------+---------+-----------+--------+-------+----------+-----------+---------+---------+\n",
            "\n"
          ]
        }
      ]
    },
    {
      "cell_type": "code",
      "source": [
        "# 4.1 Join DataFrames\n",
        "joined_df = customers_df.join(orders_df, \"CustomerID\", \"left\")\n",
        "print(\"\\n🤝 Joined customers and orders:\")\n",
        "joined_df.show()\n",
        "\n",
        "# 4.2 Stats per city\n",
        "city_stats = joined_df.groupBy(\"City\").agg(\n",
        "    count(\"OrderID\").alias(\"TotalOrders\"),\n",
        "    sum(\"TotalAmount\").alias(\"TotalRevenue\")\n",
        ")\n",
        "print(\"\\n🏙️ Statistics by city:\")\n",
        "city_stats.show()\n",
        "\n",
        "# 4.3 Top customers by spend\n",
        "top_customers = joined_df.groupBy(\"CustomerID\", \"Name\").agg(\n",
        "    sum(\"TotalAmount\").alias(\"TotalSpend\")\n",
        ").orderBy(col(\"TotalSpend\").desc()).limit(3)\n",
        "print(\"\\n🏆 Top 3 customers by spend:\")\n",
        "top_customers.show()\n",
        "\n",
        "# 4.4 Products sold by category\n",
        "category_stats = orders_df.groupBy(\"Category\").agg(\n",
        "    sum(\"Quantity\").alias(\"TotalProductsSold\")\n",
        ")\n",
        "print(\"\\n📦 Products sold by category:\")\n",
        "category_stats.show()"
      ],
      "metadata": {
        "colab": {
          "base_uri": "https://localhost:8080/"
        },
        "id": "nyfliBOwMN97",
        "outputId": "678af272-4580-4e6a-ca3c-582d67488b74"
      },
      "execution_count": 7,
      "outputs": [
        {
          "output_type": "stream",
          "name": "stdout",
          "text": [
            "\n",
            "🤝 Joined customers and orders:\n",
            "+----------+-----+---------+----------+------------+-------+---------+-----------+--------+-------+----------+-----------+---------+---------+\n",
            "|CustomerID| Name|     City|SignupDate|CustomerType|OrderID|  Product|   Category|Quantity|  Price| OrderDate|TotalAmount|OrderYear|OrderType|\n",
            "+----------+-----+---------+----------+------------+-------+---------+-----------+--------+-------+----------+-----------+---------+---------+\n",
            "|       101|  Ali|   Mumbai|2022-05-10|         New|      2|    Mouse|Electronics|       1| 1200.0|2024-01-15|     1200.0|     2024|      Low|\n",
            "|       101|  Ali|   Mumbai|2022-05-10|         New|      1|   Laptop|Electronics|       2|50000.0|2024-01-10|   100000.0|     2024|     High|\n",
            "|       102| Neha|    Delhi|2023-01-15|         New|      7|    Phone|Electronics|       1|30000.0|2024-03-02|    30000.0|     2024|     High|\n",
            "|       102| Neha|    Delhi|2023-01-15|         New|      3|   Tablet|Electronics|       1|20000.0|2024-02-01|    20000.0|     2024|     High|\n",
            "|       103| Ravi|Bangalore|2021-11-01|       Loyal|      4|Bookshelf|  Furniture|       1| 3500.0|2024-02-10|     3500.0|     2024|      Low|\n",
            "|       104|Sneha|Hyderabad|2020-07-22|       Loyal|      5|    Mixer| Appliances|       1| 5000.0|2024-02-15|     5000.0|     2024|     High|\n",
            "|       105| Amit|  Chennai|2023-03-10|         New|      6| Notebook| Stationery|       5|  500.0|2024-03-01|     2500.0|     2024|      Low|\n",
            "+----------+-----+---------+----------+------------+-------+---------+-----------+--------+-------+----------+-----------+---------+---------+\n",
            "\n",
            "\n",
            "🏙️ Statistics by city:\n",
            "+---------+-----------+------------+\n",
            "|     City|TotalOrders|TotalRevenue|\n",
            "+---------+-----------+------------+\n",
            "|Bangalore|          1|      3500.0|\n",
            "|  Chennai|          1|      2500.0|\n",
            "|   Mumbai|          2|    101200.0|\n",
            "|    Delhi|          2|     50000.0|\n",
            "|Hyderabad|          1|      5000.0|\n",
            "+---------+-----------+------------+\n",
            "\n",
            "\n",
            "🏆 Top 3 customers by spend:\n",
            "+----------+-----+----------+\n",
            "|CustomerID| Name|TotalSpend|\n",
            "+----------+-----+----------+\n",
            "|       101|  Ali|  101200.0|\n",
            "|       102| Neha|   50000.0|\n",
            "|       104|Sneha|    5000.0|\n",
            "+----------+-----+----------+\n",
            "\n",
            "\n",
            "📦 Products sold by category:\n",
            "+-----------+-----------------+\n",
            "|   Category|TotalProductsSold|\n",
            "+-----------+-----------------+\n",
            "| Stationery|                5|\n",
            "|Electronics|                5|\n",
            "|  Furniture|                1|\n",
            "| Appliances|                1|\n",
            "+-----------+-----------------+\n",
            "\n"
          ]
        }
      ]
    },
    {
      "source": [
        "# 5.1 Create database and tables\n",
        "spark.sql(\"CREATE DATABASE IF NOT EXISTS sales\")\n",
        "spark.sql(\"USE sales\")\n",
        "\n",
        "# Drop table if it exists to avoid LOCATION_ALREADY_EXISTS error\n",
        "spark.sql(\"DROP TABLE IF EXISTS sales.customers\")\n",
        "customers_df.write.mode(\"overwrite\").saveAsTable(\"sales.customers\")\n",
        "\n",
        "# Drop table if it exists to avoid LOCATION_ALREADY_EXISTS error for orders\n",
        "spark.sql(\"DROP TABLE IF EXISTS sales.orders\")\n",
        "orders_df.write.mode(\"overwrite\").saveAsTable(\"sales.orders\")\n",
        "\n",
        "\n",
        "# 5.2 SQL queries\n",
        "print(\"\\n📍 Orders from Delhi:\")\n",
        "spark.sql(\"\"\"\n",
        "    SELECT o.*\n",
        "    FROM sales.orders o\n",
        "    JOIN sales.customers c ON o.CustomerID = c.CustomerID\n",
        "    WHERE c.City = 'Delhi'\n",
        "\"\"\").show()\n",
        "\n",
        "print(\"\\n📊 Average order value by category:\")\n",
        "spark.sql(\"\"\"\n",
        "    SELECT Category, AVG(TotalAmount) as AvgOrderValue\n",
        "    FROM sales.orders\n",
        "    GROUP BY Category\n",
        "\"\"\").show()\n",
        "\n",
        "# 5.3 Create monthly orders view\n",
        "spark.sql(\"\"\"\n",
        "    CREATE OR REPLACE VIEW sales.monthly_orders AS\n",
        "    SELECT\n",
        "        date_format(OrderDate, 'yyyy-MM') as Month,\n",
        "        SUM(TotalAmount) as TotalAmount\n",
        "    FROM sales.orders\n",
        "    GROUP BY date_format(OrderDate, 'yyyy-MM')\n",
        "\"\"\")\n",
        "\n",
        "print(\"\\n📅 Monthly orders summary:\")\n",
        "spark.sql(\"SELECT * FROM sales.monthly_orders\").show()"
      ],
      "cell_type": "code",
      "metadata": {
        "id": "ByBdX3uIOR4b",
        "outputId": "20f5eb0a-767e-4ff5-d208-8e840f94b2be",
        "colab": {
          "base_uri": "https://localhost:8080/"
        }
      },
      "execution_count": 9,
      "outputs": [
        {
          "output_type": "stream",
          "name": "stdout",
          "text": [
            "\n",
            "📍 Orders from Delhi:\n",
            "+-------+----------+-------+-----------+--------+-------+----------+-----------+---------+---------+\n",
            "|OrderID|CustomerID|Product|   Category|Quantity|  Price| OrderDate|TotalAmount|OrderYear|OrderType|\n",
            "+-------+----------+-------+-----------+--------+-------+----------+-----------+---------+---------+\n",
            "|      3|       102| Tablet|Electronics|       1|20000.0|2024-02-01|    20000.0|     2024|     High|\n",
            "|      7|       102|  Phone|Electronics|       1|30000.0|2024-03-02|    30000.0|     2024|     High|\n",
            "+-------+----------+-------+-----------+--------+-------+----------+-----------+---------+---------+\n",
            "\n",
            "\n",
            "📊 Average order value by category:\n",
            "+-----------+-------------+\n",
            "|   Category|AvgOrderValue|\n",
            "+-----------+-------------+\n",
            "| Stationery|       2500.0|\n",
            "|Electronics|      37800.0|\n",
            "|  Furniture|       3500.0|\n",
            "| Appliances|       5000.0|\n",
            "+-----------+-------------+\n",
            "\n",
            "\n",
            "📅 Monthly orders summary:\n",
            "+-------+-----------+\n",
            "|  Month|TotalAmount|\n",
            "+-------+-----------+\n",
            "|2024-02|    28500.0|\n",
            "|2024-03|    32500.0|\n",
            "|2024-01|   101200.0|\n",
            "+-------+-----------+\n",
            "\n"
          ]
        }
      ]
    },
    {
      "cell_type": "code",
      "source": [
        "# 6.1 Mask emails (reload original data)\n",
        "customers_with_email = spark.read.csv(\n",
        "    \"customers.csv\",\n",
        "    header=True,\n",
        "    schema=customers_schema,\n",
        "    dateFormat=\"yyyy-MM-dd\"\n",
        ")\n",
        "customers_masked = customers_with_email.withColumn(\n",
        "    \"MaskedEmail\",\n",
        "    regexp_replace(col(\"Email\"), \"(.)(.*)(@.*)\", \"$1**$3\")\n",
        ")\n",
        "print(\"\\n🔒 Customers with masked emails:\")\n",
        "customers_masked.show()\n",
        "\n",
        "# 6.2 Concatenate Name and City\n",
        "customers_df = customers_df.withColumn(\n",
        "    \"NameFromCity\",\n",
        "    concat(col(\"Name\"), lit(\" from \"), col(\"City\"))\n",
        ")\n",
        "print(\"\\n🏷️ Name from City format:\")\n",
        "customers_df.show()\n",
        "\n",
        "# 6.3 Customer age in days\n",
        "customers_df = customers_df.withColumn(\n",
        "    \"AgeInDays\",\n",
        "    datediff(current_date(), col(\"SignupDate\"))\n",
        ")\n",
        "print(\"\\n📅 Customer age in days:\")\n",
        "customers_df.show()\n",
        "\n",
        "# 6.4 Extract month name\n",
        "orders_df = orders_df.withColumn(\n",
        "    \"MonthName\",\n",
        "    date_format(col(\"OrderDate\"), \"MMMM\")\n",
        ")\n",
        "print(\"\\n🗓️ Orders with month names:\")\n",
        "orders_df.show()"
      ],
      "metadata": {
        "colab": {
          "base_uri": "https://localhost:8080/"
        },
        "id": "LvcM9rzlMOPF",
        "outputId": "bb03d60c-7967-4bf5-a21c-11f6c5cfe126"
      },
      "execution_count": 10,
      "outputs": [
        {
          "output_type": "stream",
          "name": "stdout",
          "text": [
            "\n",
            "🔒 Customers with masked emails:\n",
            "+----------+-----+-----------------+---------+----------+---------------+\n",
            "|CustomerID| Name|            Email|     City|SignupDate|    MaskedEmail|\n",
            "+----------+-----+-----------------+---------+----------+---------------+\n",
            "|       101|  Ali|    ali@gmail.com|   Mumbai|2022-05-10|  a**@gmail.com|\n",
            "|       102| Neha|   neha@yahoo.com|    Delhi|2023-01-15|  n**@yahoo.com|\n",
            "|       103| Ravi| ravi@hotmail.com|Bangalore|2021-11-01|r**@hotmail.com|\n",
            "|       104|Sneha|sneha@outlook.com|Hyderabad|2020-07-22|s**@outlook.com|\n",
            "|       105| Amit|   amit@gmail.com|  Chennai|2023-03-10|  a**@gmail.com|\n",
            "+----------+-----+-----------------+---------+----------+---------------+\n",
            "\n",
            "\n",
            "🏷️ Name from City format:\n",
            "+----------+-----+---------+----------+------------+--------------------+\n",
            "|CustomerID| Name|     City|SignupDate|CustomerType|        NameFromCity|\n",
            "+----------+-----+---------+----------+------------+--------------------+\n",
            "|       101|  Ali|   Mumbai|2022-05-10|         New|     Ali from Mumbai|\n",
            "|       102| Neha|    Delhi|2023-01-15|         New|     Neha from Delhi|\n",
            "|       103| Ravi|Bangalore|2021-11-01|       Loyal| Ravi from Bangalore|\n",
            "|       104|Sneha|Hyderabad|2020-07-22|       Loyal|Sneha from Hyderabad|\n",
            "|       105| Amit|  Chennai|2023-03-10|         New|   Amit from Chennai|\n",
            "+----------+-----+---------+----------+------------+--------------------+\n",
            "\n",
            "\n",
            "📅 Customer age in days:\n",
            "+----------+-----+---------+----------+------------+--------------------+---------+\n",
            "|CustomerID| Name|     City|SignupDate|CustomerType|        NameFromCity|AgeInDays|\n",
            "+----------+-----+---------+----------+------------+--------------------+---------+\n",
            "|       101|  Ali|   Mumbai|2022-05-10|         New|     Ali from Mumbai|     1126|\n",
            "|       102| Neha|    Delhi|2023-01-15|         New|     Neha from Delhi|      876|\n",
            "|       103| Ravi|Bangalore|2021-11-01|       Loyal| Ravi from Bangalore|     1316|\n",
            "|       104|Sneha|Hyderabad|2020-07-22|       Loyal|Sneha from Hyderabad|     1783|\n",
            "|       105| Amit|  Chennai|2023-03-10|         New|   Amit from Chennai|      822|\n",
            "+----------+-----+---------+----------+------------+--------------------+---------+\n",
            "\n",
            "\n",
            "🗓️ Orders with month names:\n",
            "+-------+----------+---------+-----------+--------+-------+----------+-----------+---------+---------+---------+\n",
            "|OrderID|CustomerID|  Product|   Category|Quantity|  Price| OrderDate|TotalAmount|OrderYear|OrderType|MonthName|\n",
            "+-------+----------+---------+-----------+--------+-------+----------+-----------+---------+---------+---------+\n",
            "|      1|       101|   Laptop|Electronics|       2|50000.0|2024-01-10|   100000.0|     2024|     High|  January|\n",
            "|      2|       101|    Mouse|Electronics|       1| 1200.0|2024-01-15|     1200.0|     2024|      Low|  January|\n",
            "|      3|       102|   Tablet|Electronics|       1|20000.0|2024-02-01|    20000.0|     2024|     High| February|\n",
            "|      4|       103|Bookshelf|  Furniture|       1| 3500.0|2024-02-10|     3500.0|     2024|      Low| February|\n",
            "|      5|       104|    Mixer| Appliances|       1| 5000.0|2024-02-15|     5000.0|     2024|     High| February|\n",
            "|      6|       105| Notebook| Stationery|       5|  500.0|2024-03-01|     2500.0|     2024|      Low|    March|\n",
            "|      7|       102|    Phone|Electronics|       1|30000.0|2024-03-02|    30000.0|     2024|     High|    March|\n",
            "+-------+----------+---------+-----------+--------+-------+----------+-----------+---------+---------+---------+\n",
            "\n"
          ]
        }
      ]
    },
    {
      "cell_type": "code",
      "source": [
        "# 7.1 Customer tagging UDF\n",
        "def customer_tag(total_spend):\n",
        "    if total_spend > 50000: return \"Gold\"\n",
        "    elif total_spend >= 10000: return \"Silver\"\n",
        "    else: return \"Bronze\"\n",
        "\n",
        "tag_udf = udf(customer_tag, StringType())\n",
        "\n",
        "customer_spend = joined_df.groupBy(\"CustomerID\", \"Name\").agg(\n",
        "    sum(\"TotalAmount\").alias(\"TotalSpend\")\n",
        ").withColumn(\"CustomerTag\", tag_udf(col(\"TotalSpend\")))\n",
        "\n",
        "print(\"\\n🏅 Customer spending tiers:\")\n",
        "customer_spend.show()\n",
        "\n",
        "# 7.2 Shorten product names\n",
        "orders_df = orders_df.withColumn(\n",
        "    \"ShortProduct\",\n",
        "    concat(substring(col(\"Product\"), 1, 3), lit(\"...\"))\n",
        ")\n",
        "print(\"\\n✂️ Shortened product names:\")\n",
        "orders_df.show()"
      ],
      "metadata": {
        "colab": {
          "base_uri": "https://localhost:8080/"
        },
        "id": "kx0MYEyUMhq4",
        "outputId": "ddde2bd5-6e79-4c65-fede-07b7542d8d07"
      },
      "execution_count": 11,
      "outputs": [
        {
          "output_type": "stream",
          "name": "stdout",
          "text": [
            "\n",
            "🏅 Customer spending tiers:\n",
            "+----------+-----+----------+-----------+\n",
            "|CustomerID| Name|TotalSpend|CustomerTag|\n",
            "+----------+-----+----------+-----------+\n",
            "|       105| Amit|    2500.0|     Bronze|\n",
            "|       104|Sneha|    5000.0|     Bronze|\n",
            "|       101|  Ali|  101200.0|       Gold|\n",
            "|       102| Neha|   50000.0|     Silver|\n",
            "|       103| Ravi|    3500.0|     Bronze|\n",
            "+----------+-----+----------+-----------+\n",
            "\n",
            "\n",
            "✂️ Shortened product names:\n",
            "+-------+----------+---------+-----------+--------+-------+----------+-----------+---------+---------+---------+------------+\n",
            "|OrderID|CustomerID|  Product|   Category|Quantity|  Price| OrderDate|TotalAmount|OrderYear|OrderType|MonthName|ShortProduct|\n",
            "+-------+----------+---------+-----------+--------+-------+----------+-----------+---------+---------+---------+------------+\n",
            "|      1|       101|   Laptop|Electronics|       2|50000.0|2024-01-10|   100000.0|     2024|     High|  January|      Lap...|\n",
            "|      2|       101|    Mouse|Electronics|       1| 1200.0|2024-01-15|     1200.0|     2024|      Low|  January|      Mou...|\n",
            "|      3|       102|   Tablet|Electronics|       1|20000.0|2024-02-01|    20000.0|     2024|     High| February|      Tab...|\n",
            "|      4|       103|Bookshelf|  Furniture|       1| 3500.0|2024-02-10|     3500.0|     2024|      Low| February|      Boo...|\n",
            "|      5|       104|    Mixer| Appliances|       1| 5000.0|2024-02-15|     5000.0|     2024|     High| February|      Mix...|\n",
            "|      6|       105| Notebook| Stationery|       5|  500.0|2024-03-01|     2500.0|     2024|      Low|    March|      Not...|\n",
            "|      7|       102|    Phone|Electronics|       1|30000.0|2024-03-02|    30000.0|     2024|     High|    March|      Pho...|\n",
            "+-------+----------+---------+-----------+--------+-------+----------+-----------+---------+---------+---------+------------+\n",
            "\n"
          ]
        }
      ]
    },
    {
      "cell_type": "code",
      "source": [
        "# 8.1 Save joined data as Parquet\n",
        "joined_df.write.mode(\"overwrite\").parquet(\"joined_data.parquet\")\n",
        "\n",
        "# 8.2 Read back Parquet\n",
        "parquet_df = spark.read.parquet(\"joined_data.parquet\")\n",
        "print(\"\\n📄 Parquet file schema:\")\n",
        "parquet_df.printSchema()\n",
        "\n",
        "# 8.3 Create global temp view\n",
        "joined_df.createGlobalTempView(\"global_joined_data\")\n",
        "print(\"\\n🌐 Global temp view sample:\")\n",
        "spark.sql(\"SELECT * FROM global_temp.global_joined_data LIMIT 5\").show()\n",
        "\n",
        "# 8.4 Performance comparison\n",
        "print(\"\\n⏱️ Performance comparison CSV vs Parquet:\")\n",
        "\n",
        "# Write orders to parquet for fair comparison\n",
        "orders_df.write.mode(\"overwrite\").parquet(\"orders.parquet\")\n",
        "\n",
        "# Time CSV read\n",
        "start = time.time()\n",
        "spark.read.csv(\"orders.csv\", header=True, schema=orders_schema, dateFormat=\"yyyy-MM-dd\").count()\n",
        "csv_time = time.time() - start\n",
        "\n",
        "# Time Parquet read\n",
        "start = time.time()\n",
        "spark.read.parquet(\"orders.parquet\").count()\n",
        "parquet_time = time.time() - start\n",
        "\n",
        "print(f\"CSV read time: {csv_time:.4f} seconds\")\n",
        "print(f\"Parquet read time: {parquet_time:.4f} seconds\")\n",
        "\n",
        "# Stop Spark\n",
        "spark.stop()\n",
        "print(\"\\n✅ All tasks completed successfully!\")"
      ],
      "metadata": {
        "colab": {
          "base_uri": "https://localhost:8080/"
        },
        "id": "wNb8Qhh8Mhua",
        "outputId": "3c18c09b-08a5-4647-f7a1-c18bdecd6108"
      },
      "execution_count": 12,
      "outputs": [
        {
          "output_type": "stream",
          "name": "stdout",
          "text": [
            "\n",
            "📄 Parquet file schema:\n",
            "root\n",
            " |-- CustomerID: integer (nullable = true)\n",
            " |-- Name: string (nullable = true)\n",
            " |-- City: string (nullable = true)\n",
            " |-- SignupDate: date (nullable = true)\n",
            " |-- CustomerType: string (nullable = true)\n",
            " |-- OrderID: integer (nullable = true)\n",
            " |-- Product: string (nullable = true)\n",
            " |-- Category: string (nullable = true)\n",
            " |-- Quantity: integer (nullable = true)\n",
            " |-- Price: double (nullable = true)\n",
            " |-- OrderDate: date (nullable = true)\n",
            " |-- TotalAmount: double (nullable = true)\n",
            " |-- OrderYear: integer (nullable = true)\n",
            " |-- OrderType: string (nullable = true)\n",
            "\n",
            "\n",
            "🌐 Global temp view sample:\n",
            "+----------+----+---------+----------+------------+-------+---------+-----------+--------+-------+----------+-----------+---------+---------+\n",
            "|CustomerID|Name|     City|SignupDate|CustomerType|OrderID|  Product|   Category|Quantity|  Price| OrderDate|TotalAmount|OrderYear|OrderType|\n",
            "+----------+----+---------+----------+------------+-------+---------+-----------+--------+-------+----------+-----------+---------+---------+\n",
            "|       101| Ali|   Mumbai|2022-05-10|         New|      2|    Mouse|Electronics|       1| 1200.0|2024-01-15|     1200.0|     2024|      Low|\n",
            "|       101| Ali|   Mumbai|2022-05-10|         New|      1|   Laptop|Electronics|       2|50000.0|2024-01-10|   100000.0|     2024|     High|\n",
            "|       102|Neha|    Delhi|2023-01-15|         New|      7|    Phone|Electronics|       1|30000.0|2024-03-02|    30000.0|     2024|     High|\n",
            "|       102|Neha|    Delhi|2023-01-15|         New|      3|   Tablet|Electronics|       1|20000.0|2024-02-01|    20000.0|     2024|     High|\n",
            "|       103|Ravi|Bangalore|2021-11-01|       Loyal|      4|Bookshelf|  Furniture|       1| 3500.0|2024-02-10|     3500.0|     2024|      Low|\n",
            "+----------+----+---------+----------+------------+-------+---------+-----------+--------+-------+----------+-----------+---------+---------+\n",
            "\n",
            "\n",
            "⏱️ Performance comparison CSV vs Parquet:\n",
            "CSV read time: 0.2332 seconds\n",
            "Parquet read time: 0.3050 seconds\n",
            "\n",
            "✅ All tasks completed successfully!\n"
          ]
        }
      ]
    },
    {
      "cell_type": "markdown",
      "source": [],
      "metadata": {
        "id": "O_JPJ_KINYUf"
      }
    }
  ]
}